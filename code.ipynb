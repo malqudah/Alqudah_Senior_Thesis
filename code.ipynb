{
 "cells": [
  {
   "cell_type": "code",
   "execution_count": 11,
   "metadata": {},
   "outputs": [],
   "source": [
    "import csv\n",
    "import pandas as pd"
   ]
  },
  {
   "cell_type": "code",
   "execution_count": 21,
   "metadata": {},
   "outputs": [],
   "source": [
    "def filter_data(df):\n",
    "    df = df.iloc[1: , :]\n",
    "    second_column = df.columns[1]\n",
    "    third_column = df.columns[2]\n",
    "    df = df.drop([second_column], axis=1)\n",
    "    df = df.drop([third_column], axis=1)\n",
    "    return df"
   ]
  },
  {
   "cell_type": "markdown",
   "metadata": {},
   "source": [
    "Social Sciences"
   ]
  },
  {
   "cell_type": "code",
   "execution_count": 33,
   "metadata": {},
   "outputs": [],
   "source": [
    "# ANT\n",
    "ANT300Female = pd.read_csv('./Social Sciences/ANT/ANT300 FEMALE.csv')\n",
    "ANT300Female = filter_data(ANT300Female)\n",
    "ANT300Female = ANT300Female.rename({'Please Note': 'Evaluation'}, axis=1)\n",
    "ANT300Male = pd.read_csv('./Social Sciences/ANT/ANT300 MALE.csv')\n",
    "ANT300Male = filter_data(ANT300Male)\n",
    "ANT300Male = ANT300Male.rename({'Please Note': 'Evaluation'}, axis=1)"
   ]
  },
  {
   "cell_type": "code",
   "execution_count": null,
   "metadata": {},
   "outputs": [],
   "source": []
  },
  {
   "cell_type": "code",
   "execution_count": null,
   "metadata": {},
   "outputs": [],
   "source": []
  },
  {
   "cell_type": "code",
   "execution_count": 31,
   "metadata": {},
   "outputs": [],
   "source": [
    "df217 = pd.read_csv('./Engineering/COS/COS217 ALL.csv')\n",
    "df217 = filter_data(df217)\n",
    "df217 = df217.rename({'Please Note': 'Evaluation'}, axis=1)"
   ]
  },
  {
   "cell_type": "code",
   "execution_count": null,
   "metadata": {},
   "outputs": [],
   "source": []
  }
 ],
 "metadata": {
  "interpreter": {
   "hash": "5e58bded8b861db228de834c0a8e427033f98ff8854eeaa03613244e67778765"
  },
  "kernelspec": {
   "display_name": "Python 3.10.2 64-bit",
   "language": "python",
   "name": "python3"
  },
  "language_info": {
   "codemirror_mode": {
    "name": "ipython",
    "version": 3
   },
   "file_extension": ".py",
   "mimetype": "text/x-python",
   "name": "python",
   "nbconvert_exporter": "python",
   "pygments_lexer": "ipython3",
   "version": "3.10.2"
  },
  "orig_nbformat": 4
 },
 "nbformat": 4,
 "nbformat_minor": 2
}
