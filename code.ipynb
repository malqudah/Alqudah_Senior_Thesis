{
 "cells": [
  {
   "cell_type": "code",
   "execution_count": 11,
   "metadata": {},
   "outputs": [],
   "source": [
    "import csv\n",
    "import pandas as pd"
   ]
  },
  {
   "cell_type": "code",
   "execution_count": 21,
   "metadata": {},
   "outputs": [],
   "source": [
    "def filter_data(df):\n",
    "    df = df.iloc[1: , :]\n",
    "    second_column = df.columns[1]\n",
    "    third_column = df.columns[2]\n",
    "    df = df.drop([second_column], axis=1)\n",
    "    df = df.drop([third_column], axis=1)\n",
    "    return df"
   ]
  },
  {
   "cell_type": "markdown",
   "metadata": {},
   "source": [
    "Social Sciences"
   ]
  },
  {
   "cell_type": "code",
   "execution_count": 33,
   "metadata": {},
   "outputs": [],
   "source": [
    "# ANT\n",
    "ANT300Female = pd.read_csv('./Social Sciences/ANT/ANT300 FEMALE.csv')\n",
    "ANT300Female = filter_data(ANT300Female)\n",
    "ANT300Female = ANT300Female.rename({'Please Note': 'Evaluation'}, axis=1)\n",
    "ANT300Male = pd.read_csv('./Social Sciences/ANT/ANT300 MALE.csv')\n",
    "ANT300Male = filter_data(ANT300Male)\n",
    "ANT300Male = ANT300Male.rename({'Please Note': 'Evaluation'}, axis=1)"
   ]
  },
  {
   "cell_type": "code",
   "execution_count": 34,
   "metadata": {},
   "outputs": [],
   "source": [
    "# ECO\n",
    "ECO100Female = pd.read_csv('./Social Sciences/ECO/ECO100 FEMALE.csv')\n",
    "ECO100Female = filter_data(ECO100Female)\n",
    "ECO100Female = ECO100Female.rename({'Please Note': 'Evaluation'}, axis=1)\n",
    "ECO100Male = pd.read_csv('./Social Sciences/ECO/ECO100 MALE.csv')\n",
    "ECO100Male = filter_data(ECO100Male)\n",
    "ECO100Male = ECO100Male.rename({'Please Note': 'Evaluation'}, axis=1)\n",
    "\n",
    "ECO101Female = pd.read_csv('./Social Sciences/ECO/ECO101 FEMALE.csv')\n",
    "ECO101Female = filter_data(ECO101Female)\n",
    "ECO101Female = ECO101Female.rename({'Please Note': 'Evaluation'}, axis=1)\n",
    "ECO101Male = pd.read_csv('./Social Sciences/ECO/ECO101 MALE.csv')\n",
    "ECO101Male = filter_data(ECO101Male)\n",
    "ECO101Male = ECO101Male.rename({'Please Note': 'Evaluation'}, axis=1)\n",
    "\n",
    "ECO300Female = pd.read_csv('./Social Sciences/ECO/ECO300 FEMALE.csv')\n",
    "ECO300Female = filter_data(ECO300Female)\n",
    "ECO300Female = ECO300Female.rename({'Please Note': 'Evaluation'}, axis=1)\n",
    "ECO300Male = pd.read_csv('./Social Sciences/ECO/ECO300 MALE.csv')\n",
    "ECO300Male = filter_data(ECO300Male)\n",
    "ECO300Male = ECO300Male.rename({'Please Note': 'Evaluation'}, axis=1)\n",
    "\n",
    "ECO301Female = pd.read_csv('./Social Sciences/ECO/ECO301 FEMALE.csv')\n",
    "ECO301Female = filter_data(ECO301Female)\n",
    "ECO301Female = ECO301Female.rename({'Please Note': 'Evaluation'}, axis=1)\n",
    "ECO301Male = pd.read_csv('./Social Sciences/ECO/ECO301 MALE.csv')\n",
    "ECO301Male = filter_data(ECO301Male)\n",
    "ECO301Male = ECO301Male.rename({'Please Note': 'Evaluation'}, axis=1)\n",
    "\n",
    "ECO310Female = pd.read_csv('./Social Sciences/ECO/ECO310 FEMALE.csv')\n",
    "ECO310Female = filter_data(ECO310Female)\n",
    "ECO310Female = ECO310Female.rename({'Please Note': 'Evaluation'}, axis=1)\n",
    "ECO310Male = pd.read_csv('./Social Sciences/ECO/ECO310 MALE.csv')\n",
    "ECO310Male = filter_data(ECO310Male)\n",
    "ECO310Male = ECO310Male.rename({'Please Note': 'Evaluation'}, axis=1)"
   ]
  },
  {
   "cell_type": "code",
   "execution_count": null,
   "metadata": {},
   "outputs": [],
   "source": [
    "# POL\n",
    "POL210Female = pd.read_csv('./Social Sciences/POL/POL210 FEMALE.csv')\n",
    "POL210Female = filter_data(POL210Female)\n",
    "POL210Female = POL210Female.rename({'Please Note': 'Evaluation'}, axis=1)\n",
    "POL210Male = pd.read_csv('./Social Sciences/POL/POL210 MALE.csv')\n",
    "POL210Male = filter_data(POL210Male)\n",
    "POL210Male = POL210Male.rename({'Please Note': 'Evaluation'}, axis=1)\n",
    "\n",
    "POL220Female = pd.read_csv('./Social Sciences/POL/POL220 FEMALE.csv')\n",
    "POL220Female = filter_data(POL220Female)\n",
    "POL220Female = POL220Female.rename({'Please Note': 'Evaluation'}, axis=1)\n",
    "POL220Male = pd.read_csv('./Social Sciences/POL/POL220 MALE.csv')\n",
    "POL220Male = filter_data(POL220Male)\n",
    "POL220Male = POL220Male.rename({'Please Note': 'Evaluation'}, axis=1)"
   ]
  },
  {
   "cell_type": "code",
   "execution_count": null,
   "metadata": {},
   "outputs": [],
   "source": [
    "# SOC\n",
    "SOC302Female = pd.read_csv('./Social Sciences/SOC/SOC302 FEMALE.csv')\n",
    "SOC302Female = filter_data(SOC302Female)\n",
    "SOC302Female = SOC302Female.rename({'Please Note': 'Evaluation'}, axis=1)\n",
    "SOC302Male = pd.read_csv('./Social Sciences/SOC/SOC302 MALE.csv')\n",
    "SOC302Male = filter_data(SOC302Male)\n",
    "SOC302Male = SOC302Male.rename({'Please Note': 'Evaluation'}, axis=1)"
   ]
  },
  {
   "cell_type": "code",
   "execution_count": 37,
   "metadata": {},
   "outputs": [],
   "source": [
    "# SPI\n",
    "SPI211Female = pd.read_csv('./Social Sciences/SPI/SPI211 FEMALE.csv')\n",
    "SPI211Female = filter_data(SPI211Female)\n",
    "SPI211Female = SPI211Female.rename({'Please Note': 'Evaluation'}, axis=1)\n",
    "SPI211Male = pd.read_csv('./Social Sciences/SPI/SPI211 MALE.csv')\n",
    "SPI211Male = filter_data(SPI211Male)\n",
    "SPI211Male = SPI211Male.rename({'Please Note': 'Evaluation'}, axis=1)\n",
    "\n",
    "SPI310Female = pd.read_csv('./Social Sciences/SPI/SPI310 FEMALE.csv')\n",
    "SPI310Female = filter_data(SPI310Female)\n",
    "SPI310Female = SPI310Female.rename({'Please Note': 'Evaluation'}, axis=1)\n",
    "SPI310Male = pd.read_csv('./Social Sciences/SPI/SPI310 MALE.csv')\n",
    "SPI310Male = filter_data(SPI310Male)\n",
    "SPI310Male = SPI310Male.rename({'Please Note': 'Evaluation'}, axis=1)\n",
    "\n",
    "SPI312Female = pd.read_csv('./Social Sciences/SPI/SPI312 FEMALE.csv')\n",
    "SPI312Female = filter_data(SPI312Female)\n",
    "SPI312Female = SPI312Female.rename({'Please Note': 'Evaluation'}, axis=1)\n",
    "SPI312Male = pd.read_csv('./Social Sciences/SPI/SPI312 MALE.csv')\n",
    "SPI312Male = filter_data(SPI312Male)\n",
    "SPI312Male = SPI312Male.rename({'Please Note': 'Evaluation'}, axis=1)\n",
    "\n",
    "SPI316Female = pd.read_csv('./Social Sciences/SPI/SPI316 FEMALE.csv')\n",
    "SPI316Female = filter_data(SPI316Female)\n",
    "SPI316Female = SPI316Female.rename({'Please Note': 'Evaluation'}, axis=1)\n",
    "SPI316Male = pd.read_csv('./Social Sciences/SPI/SPI316 MALE.csv')\n",
    "SPI316Male = filter_data(SPI316Male)\n",
    "SPI316Male = SPI316Male.rename({'Please Note': 'Evaluation'}, axis=1)\n",
    "\n",
    "SPI370Female = pd.read_csv('./Social Sciences/SPI/SPI370 FEMALE.csv')\n",
    "SPI370Female = filter_data(SPI370Female)\n",
    "SPI370Female = SPI370Female.rename({'Please Note': 'Evaluation'}, axis=1)\n",
    "SPI370Male = pd.read_csv('./Social Sciences/SPI/SPI370 MALE.csv')\n",
    "SPI370Male = filter_data(SPI370Male)\n",
    "SPI370Male = SPI370Male.rename({'Please Note': 'Evaluation'}, axis=1)\n"
   ]
  },
  {
   "cell_type": "code",
   "execution_count": 31,
   "metadata": {},
   "outputs": [],
   "source": [
    "df217 = pd.read_csv('./Engineering/COS/COS217 ALL.csv')\n",
    "df217 = filter_data(df217)\n",
    "df217 = df217.rename({'Please Note': 'Evaluation'}, axis=1)"
   ]
  },
  {
   "cell_type": "code",
   "execution_count": null,
   "metadata": {},
   "outputs": [],
   "source": []
  }
 ],
 "metadata": {
  "interpreter": {
   "hash": "5e58bded8b861db228de834c0a8e427033f98ff8854eeaa03613244e67778765"
  },
  "kernelspec": {
   "display_name": "Python 3.10.2 64-bit",
   "language": "python",
   "name": "python3"
  },
  "language_info": {
   "codemirror_mode": {
    "name": "ipython",
    "version": 3
   },
   "file_extension": ".py",
   "mimetype": "text/x-python",
   "name": "python",
   "nbconvert_exporter": "python",
   "pygments_lexer": "ipython3",
   "version": "3.10.2"
  },
  "orig_nbformat": 4
 },
 "nbformat": 4,
 "nbformat_minor": 2
}
