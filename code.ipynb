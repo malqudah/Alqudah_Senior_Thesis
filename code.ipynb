{
 "cells": [
  {
   "cell_type": "code",
   "execution_count": 44,
   "metadata": {},
   "outputs": [
    {
     "name": "stderr",
     "output_type": "stream",
     "text": [
      "[nltk_data] Downloading package averaged_perceptron_tagger to\n",
      "[nltk_data]     /Users/malqudah/nltk_data...\n",
      "[nltk_data]   Package averaged_perceptron_tagger is already up-to-\n",
      "[nltk_data]       date!\n"
     ]
    },
    {
     "data": {
      "text/plain": [
       "True"
      ]
     },
     "execution_count": 44,
     "metadata": {},
     "output_type": "execute_result"
    }
   ],
   "source": [
    "import pandas as pd\n",
    "from vaderSentiment.vaderSentiment import SentimentIntensityAnalyzer\n",
    "from collections import Counter\n",
    "import nltk\n",
    "nltk.download('averaged_perceptron_tagger')"
   ]
  },
  {
   "cell_type": "code",
   "execution_count": 45,
   "metadata": {},
   "outputs": [],
   "source": [
    "pd.set_option('display.max_colwidth', None)\n",
    "pd.set_option('display.max_rows', None)"
   ]
  },
  {
   "cell_type": "code",
   "execution_count": 46,
   "metadata": {},
   "outputs": [],
   "source": [
    "def filter_data(df):\n",
    "    print(df)\n",
    "    df = df.iloc[1: , :]\n",
    "    second_column = df.columns[1]\n",
    "    third_column = df.columns[2]\n",
    "    df = df.drop([second_column], axis=1)\n",
    "    df = df.drop([third_column], axis=1)\n",
    "    df.rename(columns = {'Please Note' : 'Evaluation'}, inplace = True)\n",
    "    return df"
   ]
  },
  {
   "cell_type": "code",
   "execution_count": 47,
   "metadata": {},
   "outputs": [],
   "source": [
    "def analyzeEvaluation(df):\n",
    "    length = len(df)\n",
    "    sentiments = []\n",
    "    analyzer = SentimentIntensityAnalyzer()\n",
    "    evaluations = df['Evaluation'].tolist()\n",
    "    for index in range(length):\n",
    "        vs = analyzer.polarity_scores(str(evaluations[index]))\n",
    "        sentiments.append(vs)\n",
    "    df['Sentiment'] = sentiments"
   ]
  },
  {
   "cell_type": "markdown",
   "metadata": {},
   "source": [
    "Social Sciences"
   ]
  },
  {
   "cell_type": "code",
   "execution_count": 48,
   "metadata": {},
   "outputs": [],
   "source": [
    "socialSciencesDict = {}"
   ]
  },
  {
   "cell_type": "code",
   "execution_count": 49,
   "metadata": {},
   "outputs": [],
   "source": [
    "%%capture\n",
    "# ANT\n",
    "ANT300Female = pd.read_csv('./Social Sciences/ANT/ANT300 FEMALE.csv')\n",
    "ANT300Female = filter_data(ANT300Female)\n",
    "socialSciencesDict[\"ANT300Female\"] = ANT300Female\n",
    "\n",
    "ANT300Male = pd.read_csv('./Social Sciences/ANT/ANT300 MALE.csv')\n",
    "ANT300Male = filter_data(ANT300Male)\n",
    "socialSciencesDict[\"ANT300Male\"] = ANT300Male\n"
   ]
  },
  {
   "cell_type": "code",
   "execution_count": 50,
   "metadata": {},
   "outputs": [],
   "source": [
    "%%capture\n",
    "# ECO\n",
    "ECO100Female = pd.read_csv('./Social Sciences/ECO/ECO100 FEMALE.csv')\n",
    "ECO100Female = filter_data(ECO100Female)\n",
    "socialSciencesDict[\"ECO100Female\"] = ECO100Female\n",
    "\n",
    "ECO100Male = pd.read_csv('./Social Sciences/ECO/ECO100 MALE.csv')\n",
    "ECO100Male = filter_data(ECO100Male)\n",
    "socialSciencesDict[\"ECO100Male\"] = ECO100Male\n",
    "\n",
    "\n",
    "ECO101Female = pd.read_csv('./Social Sciences/ECO/ECO101 FEMALE.csv')\n",
    "ECO101Female = filter_data(ECO101Female)\n",
    "socialSciencesDict[\"ECO101Female\"] = ECO101Female\n",
    "\n",
    "\n",
    "ECO101Male = pd.read_csv('./Social Sciences/ECO/ECO101 MALE.csv')\n",
    "ECO101Male = filter_data(ECO101Male)\n",
    "socialSciencesDict[\"ECO101Male\"] = ECO101Male\n",
    "\n",
    "\n",
    "ECO300Female = pd.read_csv('./Social Sciences/ECO/ECO300 FEMALE.csv')\n",
    "ECO300Female = filter_data(ECO300Female)\n",
    "socialSciencesDict[\"ECO300Female\"] = ECO300Female\n",
    "\n",
    "ECO300Male = pd.read_csv('./Social Sciences/ECO/ECO300 MALE.csv')\n",
    "ECO300Male = filter_data(ECO300Male)\n",
    "socialSciencesDict[\"ECO300Male\"] = ECO300Male\n",
    "\n",
    "\n",
    "ECO301Female = pd.read_csv('./Social Sciences/ECO/ECO301 FEMALE.csv')\n",
    "ECO301Female = filter_data(ECO301Female)\n",
    "socialSciencesDict[\"ECO301Female\"] = ECO301Female\n",
    "\n",
    "ECO301Male = pd.read_csv('./Social Sciences/ECO/ECO301 MALE.csv')\n",
    "ECO301Male = filter_data(ECO301Male)\n",
    "socialSciencesDict[\"ECO301Male\"] = ECO301Male\n",
    "\n",
    "\n",
    "ECO310Female = pd.read_csv('./Social Sciences/ECO/ECO310 FEMALE.csv')\n",
    "ECO310Female = filter_data(ECO310Female)\n",
    "socialSciencesDict[\"ECO310Female\"] = ECO310Female\n",
    "\n",
    "ECO310Male = pd.read_csv('./Social Sciences/ECO/ECO310 MALE.csv')\n",
    "ECO310Male = filter_data(ECO310Male)\n",
    "socialSciencesDict[\"ECO310Male\"] = ECO310Male"
   ]
  },
  {
   "cell_type": "code",
   "execution_count": 51,
   "metadata": {},
   "outputs": [],
   "source": [
    "%%capture\n",
    "# POL\n",
    "POL210Female = pd.read_csv('./Social Sciences/POL/POL210 FEMALE.csv')\n",
    "POL210Female = filter_data(POL210Female)\n",
    "socialSciencesDict[\"POL210Female\"] = POL210Female\n",
    "\n",
    "POL210Male = pd.read_csv('./Social Sciences/POL/POL210 MALE.csv')\n",
    "POL210Male = filter_data(POL210Male)\n",
    "socialSciencesDict[\"POL210Male\"] = POL210Male\n",
    "\n",
    "\n",
    "POL220Female = pd.read_csv('./Social Sciences/POL/POL220 FEMALE.csv')\n",
    "POL220Female = filter_data(POL220Female)\n",
    "socialSciencesDict[\"POL220Female\"] = POL220Female\n",
    "\n",
    "POL220Male = pd.read_csv('./Social Sciences/POL/POL220 MALE.csv')\n",
    "POL220Male = filter_data(POL220Male)\n",
    "socialSciencesDict[\"POL220Male\"] = POL220Male"
   ]
  },
  {
   "cell_type": "code",
   "execution_count": 52,
   "metadata": {},
   "outputs": [],
   "source": [
    "%%capture\n",
    "# SOC\n",
    "SOC302Female = pd.read_csv('./Social Sciences/SOC/SOC302 FEMALE.csv')\n",
    "SOC302Female = filter_data(SOC302Female)\n",
    "socialSciencesDict[\"SOC302Female\"] = SOC302Female\n",
    "\n",
    "SOC302Male = pd.read_csv('./Social Sciences/SOC/SOC302 MALE.csv')\n",
    "SOC302Male = filter_data(SOC302Male)\n",
    "socialSciencesDict[\"SOC302Male\"] = SOC302Male"
   ]
  },
  {
   "cell_type": "code",
   "execution_count": 53,
   "metadata": {},
   "outputs": [],
   "source": [
    "%%capture\n",
    "# SPI\n",
    "SPI211Female = pd.read_csv('./Social Sciences/SPI/SPI211 FEMALE.csv')\n",
    "SPI211Female = filter_data(SPI211Female)\n",
    "socialSciencesDict[\"SPI211Female\"] = SPI211Female\n",
    "\n",
    "SPI211Male = pd.read_csv('./Social Sciences/SPI/SPI211 MALE.csv')\n",
    "SPI211Male = filter_data(SPI211Male)\n",
    "socialSciencesDict[\"SPI211Male\"] = SPI211Male\n",
    "\n",
    "\n",
    "SPI310Female = pd.read_csv('./Social Sciences/SPI/SPI310 FEMALE.csv')\n",
    "SPI310Female = filter_data(SPI310Female)\n",
    "socialSciencesDict[\"SPI310Female\"] = SPI310Female\n",
    "\n",
    "SPI310Male = pd.read_csv('./Social Sciences/SPI/SPI310 MALE.csv')\n",
    "SPI310Male = filter_data(SPI310Male)\n",
    "socialSciencesDict[\"SPI310Male\"] = SPI310Male\n",
    "\n",
    "\n",
    "SPI312Female = pd.read_csv('./Social Sciences/SPI/SPI312 FEMALE.csv')\n",
    "SPI312Female = filter_data(SPI312Female)\n",
    "socialSciencesDict[\"SPI312Female\"] = SPI312Female\n",
    "\n",
    "SPI312Male = pd.read_csv('./Social Sciences/SPI/SPI312 MALE.csv')\n",
    "SPI312Male = filter_data(SPI312Male)\n",
    "socialSciencesDict[\"SPI312Male\"] = SPI312Male\n",
    "\n",
    "\n",
    "SPI316Female = pd.read_csv('./Social Sciences/SPI/SPI316 FEMALE.csv')\n",
    "SPI316Female = filter_data(SPI316Female)\n",
    "socialSciencesDict[\"SPI316Female\"] = SPI316Female\n",
    "\n",
    "SPI316Male = pd.read_csv('./Social Sciences/SPI/SPI316 MALE.csv')\n",
    "SPI316Male = filter_data(SPI316Male)\n",
    "socialSciencesDict[\"SPI316Male\"] = SPI316Male\n",
    "\n",
    "\n",
    "SPI370Female = pd.read_csv('./Social Sciences/SPI/SPI370 FEMALE.csv')\n",
    "SPI370Female = filter_data(SPI370Female)\n",
    "socialSciencesDict[\"SPI370Female\"] = SPI370Female\n",
    "\n",
    "SPI370Male = pd.read_csv('./Social Sciences/SPI/SPI370 MALE.csv')\n",
    "SPI370Male = filter_data(SPI370Male)\n",
    "socialSciencesDict[\"SPI370Male\"] = SPI370Male"
   ]
  },
  {
   "cell_type": "markdown",
   "metadata": {},
   "source": [
    "Engineering"
   ]
  },
  {
   "cell_type": "code",
   "execution_count": 54,
   "metadata": {},
   "outputs": [],
   "source": [
    "engineeringDict = {}"
   ]
  },
  {
   "cell_type": "code",
   "execution_count": 55,
   "metadata": {},
   "outputs": [],
   "source": [
    "%%capture\n",
    "# CEE\n",
    "CEE361Female = pd.read_csv('./Engineering/CEE/CEE361 FEMALE.csv')\n",
    "CEE361Female = filter_data(CEE361Female)\n",
    "engineeringDict[\"CEE361Female\"] = CEE361Female\n",
    "\n",
    "CEE361Male = pd.read_csv('./Engineering/CEE/CEE361 MALE.csv')\n",
    "CEE361Male = filter_data(CEE361Male)\n",
    "engineeringDict[\"CEE361Male\"] = CEE361Male\n",
    "\n",
    "\n",
    "CEE467Female = pd.read_csv('./Engineering/CEE/CEE467 FEMALE.csv')\n",
    "CEE467Female = filter_data(CEE467Female)\n",
    "engineeringDict[\"CEE467Female\"] = CEE467Female\n",
    "\n",
    "CEE467Male = pd.read_csv('./Engineering/CEE/CEE467 MALE.csv')\n",
    "CEE467Male = filter_data(CEE467Male)\n",
    "engineeringDict[\"CEE467Male\"] = CEE467Male"
   ]
  },
  {
   "cell_type": "code",
   "execution_count": 56,
   "metadata": {},
   "outputs": [],
   "source": [
    "%%capture\n",
    "# COS\n",
    "COS217All = pd.read_csv('./Engineering/COS/COS217 ALL.csv')\n",
    "COS217All = filter_data(COS217All)\n",
    "engineeringDict[\"COS217All\"] = COS217All\n",
    "\n",
    "\n",
    "COS226All = pd.read_csv('./Engineering/COS/COS226 ALL.csv')\n",
    "COS226All = filter_data(COS226All)\n",
    "engineeringDict[\"COS226All\"] = COS226All\n",
    "\n",
    "\n",
    "COS302Female = pd.read_csv('./Engineering/COS/COS302 Female.csv')\n",
    "COS302Female = filter_data(COS302Female)\n",
    "engineeringDict[\"COS302Female\"] = COS302Female\n",
    "\n",
    "\n",
    "COS302Male = pd.read_csv('./Engineering/COS/COS302 Male.csv')\n",
    "COS302Male = filter_data(COS302Male)\n",
    "engineeringDict[\"COS302Male\"] = COS302Male\n",
    "\n",
    "\n",
    "COS316All = pd.read_csv('./Engineering/COS/COS316 ALL.csv')\n",
    "COS316All = filter_data(COS316All)\n",
    "engineeringDict[\"COS316All\"] = COS316All\n",
    "\n",
    "\n",
    "COS323Female = pd.read_csv('./Engineering/COS/COS323 Female.csv')\n",
    "COS323Female = filter_data(COS323Female)\n",
    "engineeringDict[\"COS323Female\"] = COS323Female\n",
    "\n",
    "COS323Male = pd.read_csv('./Engineering/COS/COS323 Male.csv')\n",
    "COS323Male = filter_data(COS323Male)\n",
    "engineeringDict[\"COS323Male\"] = COS323Male\n",
    "\n",
    "\n",
    "COS324All = pd.read_csv('./Engineering/COS/COS324 ALL.csv')\n",
    "COS324All = filter_data(COS324All)\n",
    "engineeringDict[\"COS324All\"] = COS324All\n",
    "\n",
    "\n",
    "COS484All = pd.read_csv('./Engineering/COS/COS484 ALL.csv')\n",
    "COS484All = filter_data(COS484All)\n",
    "engineeringDict[\"COS484All\"] = COS484All\n",
    "\n",
    "\n",
    "COS516Female = pd.read_csv('./Engineering/COS/COS516 Female.csv')\n",
    "COS516Female = filter_data(COS516Female)\n",
    "engineeringDict[\"COS516Female\"] = COS516Female\n",
    "\n",
    "COS516Male = pd.read_csv('./Engineering/COS/COS516 Male.csv')\n",
    "COS516Male = filter_data(COS516Male)\n",
    "engineeringDict[\"COS516Male\"] = COS516Male"
   ]
  },
  {
   "cell_type": "code",
   "execution_count": 57,
   "metadata": {},
   "outputs": [],
   "source": [
    "%%capture\n",
    "# MAE\n",
    "MAE434Female = pd.read_csv('./Engineering/MAE/MAE434 FEMALE.csv')\n",
    "MAE434Female = filter_data(MAE434Female)\n",
    "engineeringDict[\"MAE434Female\"] = MAE434Female\n",
    "\n",
    "MAE434Male = pd.read_csv('./Engineering/CEE/CEE467 FEMALE.csv')\n",
    "MAE434Male = filter_data(MAE434Male)\n",
    "engineeringDict[\"MAE434Male\"] = MAE434Male"
   ]
  },
  {
   "cell_type": "code",
   "execution_count": 58,
   "metadata": {},
   "outputs": [],
   "source": [
    "%%capture\n",
    "# ORF\n",
    "ORF307Female = pd.read_csv('./Engineering/ORF/ORF307 FEMALE.csv')\n",
    "ORF307Female = filter_data(ORF307Female)\n",
    "engineeringDict[\"ORF307Female\"] = ORF307Female\n",
    "\n",
    "ORF307Male = pd.read_csv('./Engineering/ORF/ORF307 MALE.csv')\n",
    "ORF307Male = filter_data(ORF307Male)\n",
    "engineeringDict[\"ORF307Male\"] = ORF307Male"
   ]
  },
  {
   "cell_type": "markdown",
   "metadata": {},
   "source": [
    "Natural Sciences"
   ]
  },
  {
   "cell_type": "code",
   "execution_count": 59,
   "metadata": {},
   "outputs": [],
   "source": [
    "naturalSciencesDict = {}"
   ]
  },
  {
   "cell_type": "code",
   "execution_count": 60,
   "metadata": {},
   "outputs": [],
   "source": [
    "%%capture\n",
    "# CHM\n",
    "CHM202All = pd.read_csv('./Natural Sciences/CHM/CHM202 ALL.csv')\n",
    "CHM202All = filter_data(CHM202All)\n",
    "naturalSciencesDict[\"CHM202All\"] = CHM202All\n",
    "\n",
    "\n",
    "CHM215All = pd.read_csv('./Natural Sciences/CHM/CHM215 ALL.csv')\n",
    "CHM215All = filter_data(CHM215All)\n",
    "naturalSciencesDict[\"CHM215All\"] = CHM215All"
   ]
  },
  {
   "cell_type": "code",
   "execution_count": 61,
   "metadata": {},
   "outputs": [],
   "source": [
    "%%capture\n",
    "# EEB\n",
    "EEB351Female = pd.read_csv('./Natural Sciences/EEB/EEB351 FEMALE.csv')\n",
    "EEB351Female = filter_data(EEB351Female)\n",
    "naturalSciencesDict[\"EEB351Female\"] = EEB351Female\n",
    "\n",
    "EEB351Male = pd.read_csv('./Natural Sciences/EEB/EEB351 MALE.csv')\n",
    "EEB351Male = filter_data(EEB351Male)\n",
    "naturalSciencesDict[\"EEB351Male\"] = EEB351Male"
   ]
  },
  {
   "cell_type": "code",
   "execution_count": 62,
   "metadata": {},
   "outputs": [],
   "source": [
    "%%capture\n",
    "# GEO\n",
    "GEO203Female = pd.read_csv('./Natural Sciences/GEO/GEO203 FEMALE.csv')\n",
    "GEO203Female = filter_data(GEO203Female)\n",
    "naturalSciencesDict[\"GEO203Female\"] = GEO203Female\n",
    "\n",
    "GEO203Male = pd.read_csv('./Natural Sciences/GEO/GEO203 MALE.csv')\n",
    "GEO203Male = filter_data(GEO203Male)\n",
    "naturalSciencesDict[\"GEO203Male\"] = GEO203Male"
   ]
  },
  {
   "cell_type": "code",
   "execution_count": 63,
   "metadata": {},
   "outputs": [],
   "source": [
    "%%capture\n",
    "# MAT\n",
    "MAT100Female = pd.read_csv('./Natural Sciences/MAT/MAT100 FEMALE.csv')\n",
    "MAT100Female = filter_data(MAT100Female)\n",
    "naturalSciencesDict[\"MAT100Female\"] = MAT100Female\n",
    "\n",
    "MAT100Male = pd.read_csv('./Natural Sciences/MAT/MAT100 MALE.csv')\n",
    "MAT100Male = filter_data(MAT100Male)\n",
    "naturalSciencesDict[\"MAT100Male\"] = MAT100Male\n",
    "\n",
    "\n",
    "MAT300Female = pd.read_csv('./Natural Sciences/MAT/MAT300 FEMALE.csv')\n",
    "MAT300Female = filter_data(MAT300Female)\n",
    "naturalSciencesDict[\"MAT300Female\"] = MAT300Female\n",
    "\n",
    "MAT300Male = pd.read_csv('./Natural Sciences/MAT/MAT300 MALE.csv')\n",
    "MAT300Male = filter_data(MAT300Male)\n",
    "naturalSciencesDict[\"MAT300Male\"] = MAT300Male\n",
    "\n",
    "\n",
    "MAT345Female = pd.read_csv('./Natural Sciences/MAT/MAT345 FEMALE.csv')\n",
    "MAT345Female = filter_data(MAT345Female)\n",
    "naturalSciencesDict[\"MAT345Female\"] = MAT345Female\n",
    "\n",
    "MAT345Male = pd.read_csv('./Natural Sciences/MAT/MAT345 MALE.csv')\n",
    "MAT345Male = filter_data(MAT345Male)\n",
    "naturalSciencesDict[\"MAT345Male\"] = MAT345Male\n",
    "\n",
    "\n",
    "MAT385Female = pd.read_csv('./Natural Sciences/MAT/MAT385 FEMALE.csv')\n",
    "MAT385Female = filter_data(MAT385Female)\n",
    "naturalSciencesDict[\"MAT385Female\"] = MAT385Female\n",
    "\n",
    "MAT385Male = pd.read_csv('./Natural Sciences/MAT/MAT385 MALE.csv')\n",
    "MAT385Male = filter_data(MAT385Male)\n",
    "naturalSciencesDict[\"MAT385Male\"] = MAT385Male"
   ]
  },
  {
   "cell_type": "code",
   "execution_count": 64,
   "metadata": {},
   "outputs": [],
   "source": [
    "%%capture\n",
    "# MOL\n",
    "MOL214All = pd.read_csv('./Natural Sciences/MOL/MOL214 ALL.csv')\n",
    "MOL214All = filter_data(MOL214All)\n",
    "naturalSciencesDict[\"MOL214All\"] = MOL214All\n",
    "\n",
    "\n",
    "MOL345Female = pd.read_csv('./Natural Sciences/MOL/MOL345 FEMALE.csv')\n",
    "MOL345Female = filter_data(MOL345Female)\n",
    "naturalSciencesDict[\"MOL345Female\"] = MOL345Female\n",
    "\n",
    "MOL345Male = pd.read_csv('./Natural Sciences/MOL/MOL345 MALE.csv')\n",
    "MOL345Male = filter_data(MOL345Male)\n",
    "naturalSciencesDict[\"MOL345Male\"] = MOL345Male"
   ]
  },
  {
   "cell_type": "code",
   "execution_count": 65,
   "metadata": {},
   "outputs": [],
   "source": [
    "%%capture\n",
    "# PSY\n",
    "PSY101Female = pd.read_csv('./Natural Sciences/PSY/PSY101 FEMALE.csv')\n",
    "PSY101Female = filter_data(PSY101Female)\n",
    "naturalSciencesDict[\"PSY101Female\"] = PSY101Female\n",
    "\n",
    "PSY101Male = pd.read_csv('./Natural Sciences/PSY/PSY101 MALE.csv')\n",
    "PSY101Male = filter_data(PSY101Male)\n",
    "naturalSciencesDict[\"PSY101Male\"] = PSY101Male\n",
    "\n",
    "\n",
    "PSY255Female = pd.read_csv('./Natural Sciences/PSY/PSY255 FEMALE.csv')\n",
    "PSY255Female = filter_data(PSY255Female)\n",
    "naturalSciencesDict[\"PSY255Female\"] = PSY255Female\n",
    "\n",
    "PSY255Male = pd.read_csv('./Natural Sciences/PSY/PSY255 MALE.csv')\n",
    "PSY255Male = filter_data(PSY255Male)\n",
    "naturalSciencesDict[\"PSY255Male\"] = PSY255Male"
   ]
  },
  {
   "cell_type": "markdown",
   "metadata": {},
   "source": [
    "Humanities"
   ]
  },
  {
   "cell_type": "code",
   "execution_count": 66,
   "metadata": {},
   "outputs": [],
   "source": [
    "humanitiesDict = {}"
   ]
  },
  {
   "cell_type": "code",
   "execution_count": 67,
   "metadata": {},
   "outputs": [],
   "source": [
    "%%capture\n",
    "# AAS\n",
    "AAS303Female = pd.read_csv('./Humanities/AAS/AAS303 FEMALE.csv')\n",
    "AAS303Female = filter_data(AAS303Female)\n",
    "humanitiesDict[\"AAS303Female\"] = AAS303Female\n",
    "\n",
    "AAS303Male = pd.read_csv('./Humanities/AAS/AAS303 MALE.csv')\n",
    "AAS303Male = filter_data(AAS303Male)\n",
    "humanitiesDict[\"AAS303Male\"] = AAS303Male\n",
    "\n",
    "\n",
    "AAS367Female = pd.read_csv('./Humanities/AAS/AAS367 FEMALE.csv')\n",
    "AAS367Female = filter_data(AAS367Female)\n",
    "humanitiesDict[\"AAS367Female\"] = AAS367Female\n",
    "\n",
    "AAS367Male = pd.read_csv('./Humanities/AAS/AAS367 MALE.csv')\n",
    "AAS367Male = filter_data(AAS367Male)\n",
    "humanitiesDict[\"AAS367Male\"] = AAS367Male"
   ]
  },
  {
   "cell_type": "code",
   "execution_count": 68,
   "metadata": {},
   "outputs": [],
   "source": [
    "%%capture\n",
    "# ARC\n",
    "ARC205Female = pd.read_csv('./Humanities/ARC/ARC205 FEMALE.csv')\n",
    "ARC205Female = filter_data(ARC205Female)\n",
    "humanitiesDict[\"ARC205Female\"] = ARC205Female\n",
    "\n",
    "ARC205Male = pd.read_csv('./Humanities/ARC/ARC205 MALE.csv')\n",
    "ARC205Male = filter_data(ARC205Male)\n",
    "humanitiesDict[\"ARC205Male\"] = ARC205Male\n",
    "\n",
    "\n",
    "ARC311Female = pd.read_csv('./Humanities/ARC/ARC311 FEMALE.csv')\n",
    "ARC311Female = filter_data(ARC311Female)\n",
    "humanitiesDict[\"ARC311Female\"] = ARC311Female\n",
    "\n",
    "ARC311Male = pd.read_csv('./Humanities/ARC/ARC311 MALE.csv')\n",
    "ARC311Male = filter_data(ARC311Male)\n",
    "humanitiesDict[\"ARC311Male\"] = ARC311Male\n",
    "\n",
    "\n",
    "ARC350Female = pd.read_csv('./Humanities/ARC/ARC350 FEMALE.csv')\n",
    "ARC350Female = filter_data(ARC350Female)\n",
    "humanitiesDict[\"ARC350Female\"] = ARC350Female\n",
    "\n",
    "ARC350Male = pd.read_csv('./Humanities/ARC/ARC350 MALE.csv')\n",
    "ARC350Male = filter_data(ARC350Male)\n",
    "humanitiesDict[\"ARC350Male\"] = ARC350Male\n",
    "\n",
    "\n",
    "ARC505BFemale = pd.read_csv('./Humanities/ARC/ARC505B FEMALE.csv')\n",
    "ARC505BFemale = filter_data(ARC505BFemale)\n",
    "humanitiesDict[\"ARC505BFemale\"] = ARC505BFemale\n",
    "\n",
    "ARC505BMale = pd.read_csv('./Humanities/ARC/ARC505B MALE.csv')\n",
    "ARC505BMale = filter_data(ARC505BMale)\n",
    "humanitiesDict[\"ARC505BMale\"] = ARC505BMale\n",
    "\n",
    "\n",
    "ARC577Female = pd.read_csv('./Humanities/ARC/ARC577 FEMALE.csv')\n",
    "ARC577Female = filter_data(ARC577Female)\n",
    "humanitiesDict[\"ARC577Female\"] = ARC577Female\n",
    "\n",
    "ARC577Male = pd.read_csv('./Humanities/ARC/ARC577 MALE.csv')\n",
    "ARC577Male = filter_data(ARC577Male)\n",
    "humanitiesDict[\"ARC577Male\"] = ARC577Male"
   ]
  },
  {
   "cell_type": "code",
   "execution_count": 69,
   "metadata": {},
   "outputs": [],
   "source": [
    "%%capture\n",
    "# CLA\n",
    "CLA219Female = pd.read_csv('./Humanities/CLA/CLA219 FEMALE.csv')\n",
    "CLA219Female = filter_data(CLA219Female)\n",
    "humanitiesDict[\"CLA219Female\"] = CLA219Female\n",
    "\n",
    "CLA219Male = pd.read_csv('./Humanities/CLA/CLA219 MALE.csv')\n",
    "CLA219Male = filter_data(CLA219Male)\n",
    "humanitiesDict[\"CLA219Male\"] = CLA219Male\n",
    "\n",
    "\n",
    "CLA326Female = pd.read_csv('./Humanities/CLA/CLA326 FEMALE.csv')\n",
    "CLA326Female = filter_data(CLA326Female)\n",
    "humanitiesDict[\"CLA326Female\"] = CLA326Female\n",
    "\n",
    "CLA326Male = pd.read_csv('./Humanities/CLA/CLA326 MALE.csv')\n",
    "CLA326Male = filter_data(CLA326Male)\n",
    "humanitiesDict[\"CLA326Male\"] = CLA326Male"
   ]
  },
  {
   "cell_type": "code",
   "execution_count": 70,
   "metadata": {},
   "outputs": [],
   "source": [
    "%%capture\n",
    "# ENG\n",
    "ENG200Female = pd.read_csv('./Humanities/ENG/ENG200 FEMALE.csv')\n",
    "ENG200Female = filter_data(ENG200Female)\n",
    "humanitiesDict[\"ENG200Female\"] = ENG200Female\n",
    "\n",
    "ENG200Male = pd.read_csv('./Humanities/ENG/ENG200 MALE.csv')\n",
    "ENG200Male = filter_data(ENG200Male)\n",
    "humanitiesDict[\"ENG200Male\"] = ENG200Male"
   ]
  },
  {
   "cell_type": "code",
   "execution_count": 71,
   "metadata": {},
   "outputs": [],
   "source": [
    "%%capture\n",
    "# GER\n",
    "GER101Female = pd.read_csv('./Humanities/GER/GER101 FEMALE.csv')\n",
    "GER101Female = filter_data(GER101Female)\n",
    "humanitiesDict[\"GER101Female\"] = GER101Female\n",
    "\n",
    "GER101Male = pd.read_csv('./Humanities/GER/GER101 MALE.csv')\n",
    "GER101Male = filter_data(GER101Male)\n",
    "humanitiesDict[\"GER101Male\"] = GER101Male\n",
    "\n",
    "\n",
    "GER306Female = pd.read_csv('./Humanities/GER/GER306 FEMALE.csv')\n",
    "GER306Female = filter_data(GER306Female)\n",
    "humanitiesDict[\"GER306Female\"] = GER306Female\n",
    "\n",
    "GER306Male = pd.read_csv('./Humanities/GER/GER306 MALE.csv')\n",
    "GER306Male = filter_data(GER306Male)\n",
    "humanitiesDict[\"GER306Male\"] = GER306Male"
   ]
  },
  {
   "cell_type": "code",
   "execution_count": 72,
   "metadata": {},
   "outputs": [],
   "source": [
    "%%capture\n",
    "# HIS\n",
    "HIS361Female = pd.read_csv('./Humanities/HIS/HIS361 FEMALE.csv')\n",
    "HIS361Female = filter_data(HIS361Female)\n",
    "humanitiesDict[\"HIS361Female\"] = HIS361Female\n",
    "\n",
    "HIS361Male = pd.read_csv('./Humanities/HIS/HIS361 MALE.csv')\n",
    "HIS361Male = filter_data(HIS361Male)\n",
    "humanitiesDict[\"HIS361Male\"] = HIS361Male"
   ]
  },
  {
   "cell_type": "code",
   "execution_count": 73,
   "metadata": {},
   "outputs": [],
   "source": [
    "%%capture\n",
    "# MUS\n",
    "MUS106Female = pd.read_csv('./Humanities/MUS/MUS106 FEMALE.csv')\n",
    "MUS106Female = filter_data(MUS106Female)\n",
    "humanitiesDict[\"MUS106Female\"] = MUS106Female\n",
    "\n",
    "MUS106Male = pd.read_csv('./Humanities/MUS/MUS106 MALE.csv')\n",
    "MUS106Male = filter_data(MUS106Male)\n",
    "humanitiesDict[\"MUS106Male\"] = MUS106Male"
   ]
  },
  {
   "cell_type": "code",
   "execution_count": 74,
   "metadata": {},
   "outputs": [],
   "source": [
    "%%capture\n",
    "# PHI\n",
    "PHI201Female = pd.read_csv('./Humanities/PHI/PHI201 FEMALE.csv')\n",
    "PHI201Female = filter_data(PHI201Female)\n",
    "humanitiesDict[\"PHI201Female\"] = PHI201Female\n",
    "\n",
    "PHI201Male = pd.read_csv('./Humanities/PHI/PHI201 MALE.csv')\n",
    "PHI201Male = filter_data(PHI201Male)\n",
    "humanitiesDict[\"PHI201Male\"] = PHI201Male\n",
    "\n",
    "PHI307Female = pd.read_csv('./Humanities/PHI/PHI307 FEMALE.csv')\n",
    "PHI307Female = filter_data(PHI307Female)\n",
    "humanitiesDict[\"PHI307Female\"] = PHI307Female\n",
    "\n",
    "PHI307Male = pd.read_csv('./Humanities/PHI/PHI307 MALE.csv')\n",
    "PHI307Male = filter_data(PHI307Male)\n",
    "humanitiesDict[\"PHI307Male\"] = PHI307Male"
   ]
  },
  {
   "cell_type": "code",
   "execution_count": 75,
   "metadata": {},
   "outputs": [],
   "source": [
    "for key, df in socialSciencesDict.items():\n",
    "    analyzeEvaluation(df)\n",
    "\n",
    "for key, df in naturalSciencesDict.items():\n",
    "    analyzeEvaluation(df)\n",
    "\n",
    "for key, df in humanitiesDict.items():\n",
    "    analyzeEvaluation(df)\n",
    "\n",
    "for key, df in engineeringDict.items():\n",
    "    analyzeEvaluation(df)"
   ]
  },
  {
   "cell_type": "code",
   "execution_count": 76,
   "metadata": {},
   "outputs": [],
   "source": [
    "allCourses = [socialSciencesDict, naturalSciencesDict, humanitiesDict, engineeringDict]"
   ]
  },
  {
   "cell_type": "code",
   "execution_count": 77,
   "metadata": {},
   "outputs": [],
   "source": [
    "# average score calculator\n",
    "def average(dict, course):\n",
    "    neg = 0\n",
    "    pos = 0\n",
    "    neu = 0\n",
    "    for sentiment in dict[course]['Sentiment']:\n",
    "        pos += sentiment['pos']\n",
    "        neg += sentiment['neg']\n",
    "        neu += sentiment['neu']\n",
    "    \n",
    "    neg = neg / len(dict[course]['Sentiment'])\n",
    "    neu = neu / len(dict[course]['Sentiment'])\n",
    "    pos = pos / len(dict[course]['Sentiment'])\n",
    "    return {\"neg\": neg, \"neu\": neu, \"pos\": pos}\n"
   ]
  },
  {
   "cell_type": "code",
   "execution_count": 78,
   "metadata": {},
   "outputs": [],
   "source": [
    "# average(humanitiesDict, 'AAS367Female')"
   ]
  },
  {
   "cell_type": "code",
   "execution_count": 79,
   "metadata": {},
   "outputs": [],
   "source": [
    "# display(humanitiesDict['AAS367Female'])"
   ]
  },
  {
   "cell_type": "code",
   "execution_count": null,
   "metadata": {},
   "outputs": [],
   "source": [
    "# most common adjectives for the instructors\n",
    "\n",
    "femaleSentenceList = []\n",
    "maleSentenceList = []\n",
    "for discipline in allCourses:            \n",
    "    for course, values in discipline.items():\n",
    "        evaluations = values['Evaluation']\n",
    "        for evaluation in evaluations:\n",
    "            if 'Female' in course:\n",
    "                femaleSentenceList.append(str(evaluation))\n",
    "            else:\n",
    "                maleSentenceList.append(str(evaluation))\n",
    "\n",
    "maleWordList = []\n",
    "femaleWordList = []\n",
    "\n",
    "for sentence in femaleSentenceList:\n",
    "    for word in sentence.split():\n",
    "        femaleWordList.append(word)\n",
    "\n",
    "for sentence in maleSentenceList:\n",
    "    for word in sentence.split():\n",
    "        maleWordList.append(word)\n",
    "\n",
    "maleTags = nltk.pos_tag(maleWordList)\n",
    "maleAdjectives = [w for w, t in maleTags if t == 'JJ']\n",
    "\n",
    "femaleTags = nltk.pos_tag(femaleWordList)\n",
    "femaleAdjectives = [w for w, t in femaleTags if t == 'JJ']\n",
    "\n",
    "maleWordCounter = Counter(maleAdjectives)\n",
    "femaleWordCounter = Counter(femaleAdjectives)\n",
    "\n",
    "print(\"Most common adjectives for male instructors: \" + str(maleWordCounter.most_common()))\n",
    "print(\"Most common adjectives for female instructors: \" + str(femaleWordCounter.most_common()))"
   ]
  },
  {
   "cell_type": "code",
   "execution_count": 81,
   "metadata": {},
   "outputs": [
    {
     "name": "stdout",
     "output_type": "stream",
     "text": [
      "Average words per evaluation for male instructors: 43.32229450029568\n",
      "Average words per evaluation for female instructors: 39.32394366197183\n"
     ]
    }
   ],
   "source": [
    "# average word per evaluation for male and female instructors\n",
    "\n",
    "femaleSentenceList = []\n",
    "maleSentenceList = []\n",
    "\n",
    "for discipline in allCourses:            \n",
    "    for course, values in discipline.items():\n",
    "        evaluations = values['Evaluation']\n",
    "        for evaluation in evaluations:\n",
    "            if 'Female' in course:\n",
    "                femaleSentenceList.append(str(evaluation))\n",
    "            else:\n",
    "                maleSentenceList.append(str(evaluation))\n",
    "\n",
    "maleWordList = []\n",
    "femaleWordList = []\n",
    "\n",
    "# total number of words divided by the total number of evaluations\n",
    "\n",
    "for sentence in femaleSentenceList:\n",
    "    for word in sentence.split():\n",
    "        femaleWordList.append(word)\n",
    "\n",
    "for sentence in maleSentenceList:\n",
    "    for word in sentence.split():\n",
    "        maleWordList.append(word)\n",
    "\n",
    "avgFemale = len(femaleWordList) / len(femaleSentenceList)\n",
    "avgMale = len(maleWordList) / len(maleSentenceList)\n",
    "\n",
    "print(\"Average words per evaluation for male instructors: \" + str(avgMale))\n",
    "print(\"Average words per evaluation for female instructors: \" + str(avgFemale))"
   ]
  },
  {
   "cell_type": "code",
   "execution_count": 86,
   "metadata": {},
   "outputs": [
    {
     "name": "stdout",
     "output_type": "stream",
     "text": [
      "Total evaluations of male instructors: 1691\n",
      "Total evaluations of female instructors: 1136\n",
      "Average sentiment scores for male instructors: neg: 0.038996451803666475 neu: 0.7729621525724429 pos: 0.18803903015966913\n",
      "Average sentiment scores for female instructors: neg: 0.037944542253521146 neu: 0.7598389084507049 pos: 0.20222711267605598\n"
     ]
    }
   ],
   "source": [
    "# average sentiment scores across all courses\n",
    "\n",
    "femaleScoreList = []\n",
    "maleScoreList = []\n",
    "\n",
    "for discipline in allCourses:            \n",
    "    for course, values in discipline.items():\n",
    "        sentiments = values['Sentiment']\n",
    "        for sentiment in sentiments:\n",
    "            if 'Female' in course:\n",
    "                femaleScoreList.append(sentiment)\n",
    "            else:\n",
    "                maleScoreList.append(sentiment)\n",
    "\n",
    "femalePos = 0\n",
    "femaleNeg = 0\n",
    "femaleNeu = 0\n",
    "\n",
    "for sentiment in femaleScoreList:\n",
    "    femalePos += sentiment['pos']\n",
    "    femaleNeg += sentiment['neg']\n",
    "    femaleNeu += sentiment['neu']   \n",
    "\n",
    "malePos = 0\n",
    "maleNeg = 0\n",
    "maleNeu = 0\n",
    "\n",
    "for sentiment in maleScoreList:\n",
    "    malePos += sentiment['pos']\n",
    "    maleNeg += sentiment['neg']\n",
    "    maleNeu += sentiment['neu']  \n",
    "\n",
    "print(\"Total evaluations of male instructors: \" + str(len(maleScoreList)))\n",
    "print(\"Total evaluations of female instructors: \" + str(len(femaleScoreList)))\n",
    "\n",
    "print(\"Average sentiment scores for male instructors: \" + \"neg: \" + str(maleNeg / len(maleScoreList)) + \" neu: \" + str(maleNeu / len(maleScoreList)) + \" pos: \" + str(malePos / len(maleScoreList)))\n",
    "print(\"Average sentiment scores for female instructors: \" + \"neg: \" + str(femaleNeg / len(femaleScoreList)) + \" neu: \" + str(femaleNeu / len(femaleScoreList)) + \" pos: \" + str(femalePos / len(femaleScoreList)))\n"
   ]
  },
  {
   "cell_type": "code",
   "execution_count": 98,
   "metadata": {},
   "outputs": [],
   "source": [
    "# male and female averages for every discipline\n",
    "\n",
    "femaleScoreListSocialSciences = []\n",
    "maleScoreListSocialSciences = []\n",
    "       \n",
    "for course, values in socialSciencesDict.items():\n",
    "    sentiments = values['Sentiment']\n",
    "    for sentiment in sentiments:\n",
    "        if 'Female' in course:\n",
    "            femaleScoreListSocialSciences.append(sentiment)\n",
    "        else:\n",
    "            maleScoreListSocialSciences.append(sentiment)\n",
    "\n",
    "femaleScoreListNaturalSciences = []\n",
    "maleScoreListNaturalSciences = []\n",
    "       \n",
    "for course, values in naturalSciencesDict.items():\n",
    "    sentiments = values['Sentiment']\n",
    "    for sentiment in sentiments:\n",
    "        if 'Female' in course:\n",
    "            femaleScoreListNaturalSciences.append(sentiment)\n",
    "        else:\n",
    "            maleScoreListNaturalSciences.append(sentiment)\n",
    "\n",
    "femaleScoreListEngineering = []\n",
    "maleScoreListEngineering = []\n",
    "       \n",
    "for course, values in engineeringDict.items():\n",
    "    sentiments = values['Sentiment']\n",
    "    for sentiment in sentiments:\n",
    "        if 'Female' in course:\n",
    "            femaleScoreListEngineering.append(sentiment)\n",
    "        else:\n",
    "            maleScoreListEngineering.append(sentiment)\n",
    "\n",
    "\n",
    "femaleScoreListHumanities = []\n",
    "maleScoreListHumanities = []\n",
    "       \n",
    "for course, values in humanitiesDict.items():\n",
    "    sentiments = values['Sentiment']\n",
    "    for sentiment in sentiments:\n",
    "        if 'Female' in course:\n",
    "            femaleScoreListHumanities.append(sentiment)\n",
    "        else:\n",
    "            maleScoreListHumanities.append(sentiment)\n",
    "\n",
    "femalePosSocial = 0\n",
    "femaleNegSocial = 0\n",
    "femaleNeuSocial = 0\n",
    "\n",
    "for sentiment in femaleScoreListSocialSciences:\n",
    "    femalePosSocial += sentiment['pos']\n",
    "    femaleNegSocial += sentiment['neg']\n",
    "    femaleNeuSocial += sentiment['neu']   \n",
    "\n",
    "malePosSocial = 0\n",
    "maleNegSocial = 0\n",
    "maleNeuSocial = 0\n",
    "\n",
    "for sentiment in maleScoreListSocialSciences:\n",
    "    malePosSocial += sentiment['pos']\n",
    "    maleNegSocial += sentiment['neg']\n",
    "    maleNeuSocial += sentiment['neu']\n",
    "\n",
    "\n",
    "femalePosNatural = 0\n",
    "femaleNegNatural = 0\n",
    "femaleNeuNatural = 0\n",
    "\n",
    "for sentiment in femaleScoreListNaturalSciences:\n",
    "    femalePosNatural += sentiment['pos']\n",
    "    femaleNegNatural += sentiment['neg']\n",
    "    femaleNeuNatural += sentiment['neu']   \n",
    "\n",
    "malePosNatural = 0\n",
    "maleNegNatural = 0\n",
    "maleNeuNatural = 0\n",
    "\n",
    "for sentiment in maleScoreListNaturalSciences:\n",
    "    malePosNatural += sentiment['pos']\n",
    "    maleNegNatural += sentiment['neg']\n",
    "    maleNeuNatural += sentiment['neu']  \n",
    "\n",
    "femalePosEngineering = 0\n",
    "femaleNegEngineering = 0\n",
    "femaleNeuEngineering = 0\n",
    "\n",
    "for sentiment in femaleScoreListEngineering:\n",
    "    femalePosEngineering += sentiment['pos']\n",
    "    femaleNegEngineering += sentiment['neg']\n",
    "    femaleNeuEngineering += sentiment['neu']   \n",
    "\n",
    "malePosEngineering = 0\n",
    "maleNegEngineering = 0\n",
    "maleNeuEngineering = 0\n",
    "\n",
    "for sentiment in maleScoreListEngineering:\n",
    "    malePosEngineering += sentiment['pos']\n",
    "    maleNegEngineering += sentiment['neg']\n",
    "    maleNeuEngineering += sentiment['neu']  \n",
    "\n",
    "femalePosHumanities = 0\n",
    "femaleNegHumanities = 0\n",
    "femaleNeuHumanities = 0\n",
    "\n",
    "for sentiment in femaleScoreListHumanities:\n",
    "    femalePosHumanities += sentiment['pos']\n",
    "    femaleNegHumanities += sentiment['neg']\n",
    "    femaleNeuHumanities += sentiment['neu']   \n",
    "\n",
    "malePosHumanities = 0\n",
    "maleNegHumanities = 0\n",
    "maleNeuHumanities = 0\n",
    "\n",
    "for sentiment in maleScoreListHumanities:\n",
    "    malePosHumanities += sentiment['pos']\n",
    "    maleNegHumanities += sentiment['neg']\n",
    "    maleNeuHumanities += sentiment['neu']  "
   ]
  },
  {
   "cell_type": "code",
   "execution_count": 99,
   "metadata": {},
   "outputs": [
    {
     "name": "stdout",
     "output_type": "stream",
     "text": [
      "Average sentiment scores for male instructors for natural sciences: neg: 0.04474170616113742 neu: 0.7743791469194314 pos: 0.1808696682464455\n",
      "Average sentiment scores for female instructors for natural sciences: neg: 0.03650256410256408 neu: 0.792666666666667 pos: 0.1708153846153847\n"
     ]
    }
   ],
   "source": [
    "print(\"Average sentiment scores for male instructors for natural sciences: \" + \"neg: \" + str(maleNegNatural / len(maleScoreListNaturalSciences)) + \" neu: \" + str(maleNeuNatural / len(maleScoreListNaturalSciences)) + \" pos: \" + str(malePosNatural / len(maleScoreListNaturalSciences)))\n",
    "print(\"Average sentiment scores for female instructors for natural sciences: \" + \"neg: \" + str(femaleNegNatural / len(femaleScoreListNaturalSciences)) + \" neu: \" + str(femaleNeuNatural / len(femaleScoreListNaturalSciences)) + \" pos: \" + str(femalePosNatural / len(femaleScoreListNaturalSciences)))"
   ]
  },
  {
   "cell_type": "code",
   "execution_count": 103,
   "metadata": {},
   "outputs": [
    {
     "name": "stdout",
     "output_type": "stream",
     "text": [
      "Average sentiment scores for male instructors for social sciences: neg: 0.03881733746130028 neu: 0.7912925696594426 pos: 0.16989473684210527\n",
      "Average sentiment scores for female instructors for social sciences: neg: 0.039791071428571446 neu: 0.7596803571428569 pos: 0.2005482142857141\n"
     ]
    }
   ],
   "source": [
    "print(\"Average sentiment scores for male instructors for social sciences: \" + \"neg: \" + str(maleNegSocial / len(maleScoreListSocialSciences)) + \" neu: \" + str(maleNeuSocial / len(maleScoreListSocialSciences)) + \" pos: \" + str(malePosSocial / len(maleScoreListSocialSciences)))\n",
    "print(\"Average sentiment scores for female instructors for social sciences: \" + \"neg: \" + str(femaleNegSocial / len(femaleScoreListSocialSciences)) + \" neu: \" + str(femaleNeuSocial / len(femaleScoreListSocialSciences)) + \" pos: \" + str(femalePosSocial / len(femaleScoreListSocialSciences)))"
   ]
  },
  {
   "cell_type": "code",
   "execution_count": 104,
   "metadata": {},
   "outputs": [
    {
     "name": "stdout",
     "output_type": "stream",
     "text": [
      "Average sentiment scores for male instructors for humanities neg: 0.02172972972972972 neu: 0.7473783783783788 pos: 0.23087837837837843\n",
      "Average sentiment scores for female instructors for humanities: neg: 0.033505263157894725 neu: 0.7430210526315788 pos: 0.22349473684210522\n"
     ]
    }
   ],
   "source": [
    "print(\"Average sentiment scores for male instructors for humanities \" + \"neg: \" + str(maleNegHumanities / len(maleScoreListHumanities)) + \" neu: \" + str(maleNeuHumanities / len(maleScoreListHumanities)) + \" pos: \" + str(malePosHumanities / len(maleScoreListHumanities)))\n",
    "print(\"Average sentiment scores for female instructors for humanities: \" + \"neg: \" + str(femaleNegHumanities / len(femaleScoreListHumanities)) + \" neu: \" + str(femaleNeuHumanities / len(femaleScoreListHumanities)) + \" pos: \" + str(femalePosHumanities / len(femaleScoreListHumanities)))"
   ]
  },
  {
   "cell_type": "code",
   "execution_count": 105,
   "metadata": {},
   "outputs": [
    {
     "name": "stdout",
     "output_type": "stream",
     "text": [
      "Average sentiment scores for male instructors for engineering neg: 0.04279800498753117 neu: 0.7561047381546123 pos: 0.20109725685785537\n",
      "Average sentiment scores for female instructors for engineering: neg: 0.04328124999999999 neu: 0.7440104166666669 pos: 0.21268749999999992\n"
     ]
    }
   ],
   "source": [
    "print(\"Average sentiment scores for male instructors for engineering \" + \"neg: \" + str(maleNegEngineering / len(maleScoreListEngineering)) + \" neu: \" + str(maleNeuEngineering / len(maleScoreListEngineering)) + \" pos: \" + str(malePosEngineering / len(maleScoreListEngineering)))\n",
    "print(\"Average sentiment scores for female instructors for engineering: \" + \"neg: \" + str(femaleNegEngineering / len(femaleScoreListEngineering)) + \" neu: \" + str(femaleNeuEngineering / len(femaleScoreListEngineering)) + \" pos: \" + str(femalePosEngineering / len(femaleScoreListEngineering)))"
   ]
  },
  {
   "cell_type": "code",
   "execution_count": null,
   "metadata": {},
   "outputs": [],
   "source": []
  }
 ],
 "metadata": {
  "kernelspec": {
   "display_name": "Python 3.10.2 64-bit",
   "language": "python",
   "name": "python3"
  },
  "language_info": {
   "codemirror_mode": {
    "name": "ipython",
    "version": 3
   },
   "file_extension": ".py",
   "mimetype": "text/x-python",
   "name": "python",
   "nbconvert_exporter": "python",
   "pygments_lexer": "ipython3",
   "version": "3.9.6"
  },
  "orig_nbformat": 4,
  "vscode": {
   "interpreter": {
    "hash": "583e4b8ff046354e16b8ba52d63b3197ad59f7b89b127f0309f590a02ba174d0"
   }
  }
 },
 "nbformat": 4,
 "nbformat_minor": 2
}
