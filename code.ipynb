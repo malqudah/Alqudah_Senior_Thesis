{
 "cells": [
  {
   "cell_type": "code",
   "execution_count": 1,
   "metadata": {},
   "outputs": [
    {
     "name": "stderr",
     "output_type": "stream",
     "text": [
      "[nltk_data] Downloading package averaged_perceptron_tagger to\n",
      "[nltk_data]     C:\\Users\\malqu\\AppData\\Roaming\\nltk_data...\n",
      "[nltk_data]   Package averaged_perceptron_tagger is already up-to-\n",
      "[nltk_data]       date!\n"
     ]
    },
    {
     "data": {
      "text/plain": [
       "True"
      ]
     },
     "execution_count": 1,
     "metadata": {},
     "output_type": "execute_result"
    }
   ],
   "source": [
    "import pandas as pd\n",
    "from vaderSentiment.vaderSentiment import SentimentIntensityAnalyzer\n",
    "from collections import Counter\n",
    "import nltk\n",
    "nltk.download('averaged_perceptron_tagger')"
   ]
  },
  {
   "cell_type": "code",
   "execution_count": 2,
   "metadata": {},
   "outputs": [],
   "source": [
    "pd.set_option('display.max_colwidth', None)\n",
    "pd.set_option('display.max_rows', None)"
   ]
  },
  {
   "cell_type": "code",
   "execution_count": 3,
   "metadata": {},
   "outputs": [],
   "source": [
    "def filter_data(df):\n",
    "    print(df)\n",
    "    df = df.iloc[1: , :]\n",
    "    second_column = df.columns[1]\n",
    "    third_column = df.columns[2]\n",
    "    df = df.drop([second_column], axis=1)\n",
    "    df = df.drop([third_column], axis=1)\n",
    "    df.rename(columns = {'Please Note' : 'Evaluation'}, inplace = True)\n",
    "    return df"
   ]
  },
  {
   "cell_type": "code",
   "execution_count": 4,
   "metadata": {},
   "outputs": [],
   "source": [
    "def analyzeEvaluation(df):\n",
    "    length = len(df)\n",
    "    sentiments = []\n",
    "    analyzer = SentimentIntensityAnalyzer()\n",
    "    evaluations = df['Evaluation'].tolist()\n",
    "    for index in range(length):\n",
    "        vs = analyzer.polarity_scores(str(evaluations[index]))\n",
    "        sentiments.append(vs)\n",
    "    df['Sentiment'] = sentiments"
   ]
  },
  {
   "cell_type": "markdown",
   "metadata": {},
   "source": [
    "Social Sciences"
   ]
  },
  {
   "cell_type": "code",
   "execution_count": 5,
   "metadata": {},
   "outputs": [],
   "source": [
    "socialSciencesDict = {}"
   ]
  },
  {
   "cell_type": "code",
   "execution_count": 6,
   "metadata": {},
   "outputs": [],
   "source": [
    "%%capture\n",
    "# ANT\n",
    "ANT300Female = pd.read_csv('./Social Sciences/ANT/ANT300 FEMALE.csv')\n",
    "ANT300Female = filter_data(ANT300Female)\n",
    "socialSciencesDict[\"ANT300Female\"] = ANT300Female\n",
    "\n",
    "ANT300Male = pd.read_csv('./Social Sciences/ANT/ANT300 MALE.csv')\n",
    "ANT300Male = filter_data(ANT300Male)\n",
    "socialSciencesDict[\"ANT300Male\"] = ANT300Male\n"
   ]
  },
  {
   "cell_type": "code",
   "execution_count": 7,
   "metadata": {},
   "outputs": [],
   "source": [
    "%%capture\n",
    "# ECO\n",
    "ECO100Female = pd.read_csv('./Social Sciences/ECO/ECO100 FEMALE.csv')\n",
    "ECO100Female = filter_data(ECO100Female)\n",
    "socialSciencesDict[\"ECO100Female\"] = ECO100Female\n",
    "\n",
    "ECO100Male = pd.read_csv('./Social Sciences/ECO/ECO100 MALE.csv')\n",
    "ECO100Male = filter_data(ECO100Male)\n",
    "socialSciencesDict[\"ECO100Male\"] = ECO100Male\n",
    "\n",
    "\n",
    "ECO101Female = pd.read_csv('./Social Sciences/ECO/ECO101 FEMALE.csv')\n",
    "ECO101Female = filter_data(ECO101Female)\n",
    "socialSciencesDict[\"ECO101Female\"] = ECO101Female\n",
    "\n",
    "\n",
    "ECO101Male = pd.read_csv('./Social Sciences/ECO/ECO101 MALE.csv')\n",
    "ECO101Male = filter_data(ECO101Male)\n",
    "socialSciencesDict[\"ECO101Male\"] = ECO101Male\n",
    "\n",
    "\n",
    "ECO300Female = pd.read_csv('./Social Sciences/ECO/ECO300 FEMALE.csv')\n",
    "ECO300Female = filter_data(ECO300Female)\n",
    "socialSciencesDict[\"ECO300Female\"] = ECO300Female\n",
    "\n",
    "ECO300Male = pd.read_csv('./Social Sciences/ECO/ECO300 MALE.csv')\n",
    "ECO300Male = filter_data(ECO300Male)\n",
    "socialSciencesDict[\"ECO300Male\"] = ECO300Male\n",
    "\n",
    "\n",
    "ECO301Female = pd.read_csv('./Social Sciences/ECO/ECO301 FEMALE.csv')\n",
    "ECO301Female = filter_data(ECO301Female)\n",
    "socialSciencesDict[\"ECO301Female\"] = ECO301Female\n",
    "\n",
    "ECO301Male = pd.read_csv('./Social Sciences/ECO/ECO301 MALE.csv')\n",
    "ECO301Male = filter_data(ECO301Male)\n",
    "socialSciencesDict[\"ECO301Male\"] = ECO301Male\n",
    "\n",
    "\n",
    "ECO310Female = pd.read_csv('./Social Sciences/ECO/ECO310 FEMALE.csv')\n",
    "ECO310Female = filter_data(ECO310Female)\n",
    "socialSciencesDict[\"ECO310Female\"] = ECO310Female\n",
    "\n",
    "ECO310Male = pd.read_csv('./Social Sciences/ECO/ECO310 MALE.csv')\n",
    "ECO310Male = filter_data(ECO310Male)\n",
    "socialSciencesDict[\"ECO310Male\"] = ECO310Male"
   ]
  },
  {
   "cell_type": "code",
   "execution_count": 8,
   "metadata": {},
   "outputs": [],
   "source": [
    "%%capture\n",
    "# POL\n",
    "POL210Female = pd.read_csv('./Social Sciences/POL/POL210 FEMALE.csv')\n",
    "POL210Female = filter_data(POL210Female)\n",
    "socialSciencesDict[\"POL210Female\"] = POL210Female\n",
    "\n",
    "POL210Male = pd.read_csv('./Social Sciences/POL/POL210 MALE.csv')\n",
    "POL210Male = filter_data(POL210Male)\n",
    "socialSciencesDict[\"POL210Male\"] = POL210Male\n",
    "\n",
    "\n",
    "POL220Female = pd.read_csv('./Social Sciences/POL/POL220 FEMALE.csv')\n",
    "POL220Female = filter_data(POL220Female)\n",
    "socialSciencesDict[\"POL220Female\"] = POL220Female\n",
    "\n",
    "POL220Male = pd.read_csv('./Social Sciences/POL/POL220 MALE.csv')\n",
    "POL220Male = filter_data(POL220Male)\n",
    "socialSciencesDict[\"POL220Male\"] = POL220Male"
   ]
  },
  {
   "cell_type": "code",
   "execution_count": 9,
   "metadata": {},
   "outputs": [],
   "source": [
    "%%capture\n",
    "# SOC\n",
    "SOC302Female = pd.read_csv('./Social Sciences/SOC/SOC302 FEMALE.csv')\n",
    "SOC302Female = filter_data(SOC302Female)\n",
    "socialSciencesDict[\"SOC302Female\"] = SOC302Female\n",
    "\n",
    "SOC302Male = pd.read_csv('./Social Sciences/SOC/SOC302 MALE.csv')\n",
    "SOC302Male = filter_data(SOC302Male)\n",
    "socialSciencesDict[\"SOC302Male\"] = SOC302Male"
   ]
  },
  {
   "cell_type": "code",
   "execution_count": 10,
   "metadata": {},
   "outputs": [],
   "source": [
    "%%capture\n",
    "# SPI\n",
    "SPI211Female = pd.read_csv('./Social Sciences/SPI/SPI211 FEMALE.csv')\n",
    "SPI211Female = filter_data(SPI211Female)\n",
    "socialSciencesDict[\"SPI211Female\"] = SPI211Female\n",
    "\n",
    "SPI211Male = pd.read_csv('./Social Sciences/SPI/SPI211 MALE.csv')\n",
    "SPI211Male = filter_data(SPI211Male)\n",
    "socialSciencesDict[\"SPI211Male\"] = SPI211Male\n",
    "\n",
    "\n",
    "SPI310Female = pd.read_csv('./Social Sciences/SPI/SPI310 FEMALE.csv')\n",
    "SPI310Female = filter_data(SPI310Female)\n",
    "socialSciencesDict[\"SPI310Female\"] = SPI310Female\n",
    "\n",
    "SPI310Male = pd.read_csv('./Social Sciences/SPI/SPI310 MALE.csv')\n",
    "SPI310Male = filter_data(SPI310Male)\n",
    "socialSciencesDict[\"SPI310Male\"] = SPI310Male\n",
    "\n",
    "\n",
    "SPI312Female = pd.read_csv('./Social Sciences/SPI/SPI312 FEMALE.csv')\n",
    "SPI312Female = filter_data(SPI312Female)\n",
    "socialSciencesDict[\"SPI312Female\"] = SPI312Female\n",
    "\n",
    "SPI312Male = pd.read_csv('./Social Sciences/SPI/SPI312 MALE.csv')\n",
    "SPI312Male = filter_data(SPI312Male)\n",
    "socialSciencesDict[\"SPI312Male\"] = SPI312Male\n",
    "\n",
    "\n",
    "SPI316Female = pd.read_csv('./Social Sciences/SPI/SPI316 FEMALE.csv')\n",
    "SPI316Female = filter_data(SPI316Female)\n",
    "socialSciencesDict[\"SPI316Female\"] = SPI316Female\n",
    "\n",
    "SPI316Male = pd.read_csv('./Social Sciences/SPI/SPI316 MALE.csv')\n",
    "SPI316Male = filter_data(SPI316Male)\n",
    "socialSciencesDict[\"SPI316Male\"] = SPI316Male\n",
    "\n",
    "\n",
    "SPI370Female = pd.read_csv('./Social Sciences/SPI/SPI370 FEMALE.csv')\n",
    "SPI370Female = filter_data(SPI370Female)\n",
    "socialSciencesDict[\"SPI370Female\"] = SPI370Female\n",
    "\n",
    "SPI370Male = pd.read_csv('./Social Sciences/SPI/SPI370 MALE.csv')\n",
    "SPI370Male = filter_data(SPI370Male)\n",
    "socialSciencesDict[\"SPI370Male\"] = SPI370Male"
   ]
  },
  {
   "cell_type": "markdown",
   "metadata": {},
   "source": [
    "Engineering"
   ]
  },
  {
   "cell_type": "code",
   "execution_count": 11,
   "metadata": {},
   "outputs": [],
   "source": [
    "engineeringDict = {}"
   ]
  },
  {
   "cell_type": "code",
   "execution_count": 12,
   "metadata": {},
   "outputs": [],
   "source": [
    "%%capture\n",
    "# CEE\n",
    "CEE361Female = pd.read_csv('./Engineering/CEE/CEE361 FEMALE.csv')\n",
    "CEE361Female = filter_data(CEE361Female)\n",
    "engineeringDict[\"CEE361Female\"] = CEE361Female\n",
    "\n",
    "CEE361Male = pd.read_csv('./Engineering/CEE/CEE361 MALE.csv')\n",
    "CEE361Male = filter_data(CEE361Male)\n",
    "engineeringDict[\"CEE361Male\"] = CEE361Male\n",
    "\n",
    "\n",
    "CEE467Female = pd.read_csv('./Engineering/CEE/CEE467 FEMALE.csv')\n",
    "CEE467Female = filter_data(CEE467Female)\n",
    "engineeringDict[\"CEE467Female\"] = CEE467Female\n",
    "\n",
    "CEE467Male = pd.read_csv('./Engineering/CEE/CEE467 MALE.csv')\n",
    "CEE467Male = filter_data(CEE467Male)\n",
    "engineeringDict[\"CEE467Male\"] = CEE467Male"
   ]
  },
  {
   "cell_type": "code",
   "execution_count": 13,
   "metadata": {},
   "outputs": [],
   "source": [
    "%%capture\n",
    "# COS\n",
    "COS217All = pd.read_csv('./Engineering/COS/COS217 ALL.csv')\n",
    "COS217All = filter_data(COS217All)\n",
    "engineeringDict[\"COS217All\"] = COS217All\n",
    "\n",
    "\n",
    "COS226All = pd.read_csv('./Engineering/COS/COS226 ALL.csv')\n",
    "COS226All = filter_data(COS226All)\n",
    "engineeringDict[\"COS226All\"] = COS226All\n",
    "\n",
    "\n",
    "COS302Female = pd.read_csv('./Engineering/COS/COS302 Female.csv')\n",
    "COS302Female = filter_data(COS302Female)\n",
    "engineeringDict[\"COS302Female\"] = COS302Female\n",
    "\n",
    "\n",
    "COS302Male = pd.read_csv('./Engineering/COS/COS302 Male.csv')\n",
    "COS302Male = filter_data(COS302Male)\n",
    "engineeringDict[\"COS302Male\"] = COS302Male\n",
    "\n",
    "\n",
    "COS316All = pd.read_csv('./Engineering/COS/COS316 ALL.csv')\n",
    "COS316All = filter_data(COS316All)\n",
    "engineeringDict[\"COS316All\"] = COS316All\n",
    "\n",
    "\n",
    "COS323Female = pd.read_csv('./Engineering/COS/COS323 Female.csv')\n",
    "COS323Female = filter_data(COS323Female)\n",
    "engineeringDict[\"COS323Female\"] = COS323Female\n",
    "\n",
    "COS323Male = pd.read_csv('./Engineering/COS/COS323 Male.csv')\n",
    "COS323Male = filter_data(COS323Male)\n",
    "engineeringDict[\"COS323Male\"] = COS323Male\n",
    "\n",
    "\n",
    "COS324All = pd.read_csv('./Engineering/COS/COS324 ALL.csv')\n",
    "COS324All = filter_data(COS324All)\n",
    "engineeringDict[\"COS324All\"] = COS324All\n",
    "\n",
    "\n",
    "COS484All = pd.read_csv('./Engineering/COS/COS484 ALL.csv')\n",
    "COS484All = filter_data(COS484All)\n",
    "engineeringDict[\"COS484All\"] = COS484All\n",
    "\n",
    "\n",
    "COS516Female = pd.read_csv('./Engineering/COS/COS516 Female.csv')\n",
    "COS516Female = filter_data(COS516Female)\n",
    "engineeringDict[\"COS516Female\"] = COS516Female\n",
    "\n",
    "COS516Male = pd.read_csv('./Engineering/COS/COS516 Male.csv')\n",
    "COS516Male = filter_data(COS516Male)\n",
    "engineeringDict[\"COS516Male\"] = COS516Male"
   ]
  },
  {
   "cell_type": "code",
   "execution_count": 14,
   "metadata": {},
   "outputs": [],
   "source": [
    "%%capture\n",
    "# MAE\n",
    "MAE434Female = pd.read_csv('./Engineering/MAE/MAE434 FEMALE.csv')\n",
    "MAE434Female = filter_data(MAE434Female)\n",
    "engineeringDict[\"MAE434Female\"] = MAE434Female\n",
    "\n",
    "MAE434Male = pd.read_csv('./Engineering/CEE/CEE467 FEMALE.csv')\n",
    "MAE434Male = filter_data(MAE434Male)\n",
    "engineeringDict[\"MAE434Male\"] = MAE434Male"
   ]
  },
  {
   "cell_type": "code",
   "execution_count": 15,
   "metadata": {},
   "outputs": [],
   "source": [
    "%%capture\n",
    "# ORF\n",
    "ORF307Female = pd.read_csv('./Engineering/ORF/ORF307 FEMALE.csv')\n",
    "ORF307Female = filter_data(ORF307Female)\n",
    "engineeringDict[\"ORF307Female\"] = ORF307Female\n",
    "\n",
    "ORF307Male = pd.read_csv('./Engineering/ORF/ORF307 MALE.csv')\n",
    "ORF307Male = filter_data(ORF307Male)\n",
    "engineeringDict[\"ORF307Male\"] = ORF307Male"
   ]
  },
  {
   "cell_type": "markdown",
   "metadata": {},
   "source": [
    "Natural Sciences"
   ]
  },
  {
   "cell_type": "code",
   "execution_count": 16,
   "metadata": {},
   "outputs": [],
   "source": [
    "naturalSciencesDict = {}"
   ]
  },
  {
   "cell_type": "code",
   "execution_count": 17,
   "metadata": {},
   "outputs": [],
   "source": [
    "%%capture\n",
    "# CHM\n",
    "CHM202All = pd.read_csv('./Natural Sciences/CHM/CHM202 ALL.csv')\n",
    "CHM202All = filter_data(CHM202All)\n",
    "naturalSciencesDict[\"CHM202All\"] = CHM202All\n",
    "\n",
    "\n",
    "CHM215All = pd.read_csv('./Natural Sciences/CHM/CHM215 ALL.csv')\n",
    "CHM215All = filter_data(CHM215All)\n",
    "naturalSciencesDict[\"CHM215All\"] = CHM215All"
   ]
  },
  {
   "cell_type": "code",
   "execution_count": 18,
   "metadata": {},
   "outputs": [],
   "source": [
    "%%capture\n",
    "# EEB\n",
    "EEB351Female = pd.read_csv('./Natural Sciences/EEB/EEB351 FEMALE.csv')\n",
    "EEB351Female = filter_data(EEB351Female)\n",
    "naturalSciencesDict[\"EEB351Female\"] = EEB351Female\n",
    "\n",
    "EEB351Male = pd.read_csv('./Natural Sciences/EEB/EEB351 MALE.csv')\n",
    "EEB351Male = filter_data(EEB351Male)\n",
    "naturalSciencesDict[\"EEB351Male\"] = EEB351Male"
   ]
  },
  {
   "cell_type": "code",
   "execution_count": 19,
   "metadata": {},
   "outputs": [],
   "source": [
    "%%capture\n",
    "# GEO\n",
    "GEO203Female = pd.read_csv('./Natural Sciences/GEO/GEO203 FEMALE.csv')\n",
    "GEO203Female = filter_data(GEO203Female)\n",
    "naturalSciencesDict[\"GEO203Female\"] = GEO203Female\n",
    "\n",
    "GEO203Male = pd.read_csv('./Natural Sciences/GEO/GEO203 MALE.csv')\n",
    "GEO203Male = filter_data(GEO203Male)\n",
    "naturalSciencesDict[\"GEO203Male\"] = GEO203Male"
   ]
  },
  {
   "cell_type": "code",
   "execution_count": 20,
   "metadata": {},
   "outputs": [],
   "source": [
    "%%capture\n",
    "# MAT\n",
    "MAT100Female = pd.read_csv('./Natural Sciences/MAT/MAT100 FEMALE.csv')\n",
    "MAT100Female = filter_data(MAT100Female)\n",
    "naturalSciencesDict[\"MAT100Female\"] = MAT100Female\n",
    "\n",
    "MAT100Male = pd.read_csv('./Natural Sciences/MAT/MAT100 MALE.csv')\n",
    "MAT100Male = filter_data(MAT100Male)\n",
    "naturalSciencesDict[\"MAT100Male\"] = MAT100Male\n",
    "\n",
    "\n",
    "MAT300Female = pd.read_csv('./Natural Sciences/MAT/MAT300 FEMALE.csv')\n",
    "MAT300Female = filter_data(MAT300Female)\n",
    "naturalSciencesDict[\"MAT300Female\"] = MAT300Female\n",
    "\n",
    "MAT300Male = pd.read_csv('./Natural Sciences/MAT/MAT300 MALE.csv')\n",
    "MAT300Male = filter_data(MAT300Male)\n",
    "naturalSciencesDict[\"MAT300Male\"] = MAT300Male\n",
    "\n",
    "\n",
    "MAT345Female = pd.read_csv('./Natural Sciences/MAT/MAT345 FEMALE.csv')\n",
    "MAT345Female = filter_data(MAT345Female)\n",
    "naturalSciencesDict[\"MAT345Female\"] = MAT345Female\n",
    "\n",
    "MAT345Male = pd.read_csv('./Natural Sciences/MAT/MAT345 MALE.csv')\n",
    "MAT345Male = filter_data(MAT345Male)\n",
    "naturalSciencesDict[\"MAT345Male\"] = MAT345Male\n",
    "\n",
    "\n",
    "MAT385Female = pd.read_csv('./Natural Sciences/MAT/MAT385 FEMALE.csv')\n",
    "MAT385Female = filter_data(MAT385Female)\n",
    "naturalSciencesDict[\"MAT385Female\"] = MAT385Female\n",
    "\n",
    "MAT385Male = pd.read_csv('./Natural Sciences/MAT/MAT385 MALE.csv')\n",
    "MAT385Male = filter_data(MAT385Male)\n",
    "naturalSciencesDict[\"MAT385Male\"] = MAT385Male"
   ]
  },
  {
   "cell_type": "code",
   "execution_count": 21,
   "metadata": {},
   "outputs": [],
   "source": [
    "%%capture\n",
    "# MOL\n",
    "MOL214All = pd.read_csv('./Natural Sciences/MOL/MOL214 ALL.csv')\n",
    "MOL214All = filter_data(MOL214All)\n",
    "naturalSciencesDict[\"MOL214All\"] = MOL214All\n",
    "\n",
    "\n",
    "MOL345Female = pd.read_csv('./Natural Sciences/MOL/MOL345 FEMALE.csv')\n",
    "MOL345Female = filter_data(MOL345Female)\n",
    "naturalSciencesDict[\"MOL345Female\"] = MOL345Female\n",
    "\n",
    "MOL345Male = pd.read_csv('./Natural Sciences/MOL/MOL345 MALE.csv')\n",
    "MOL345Male = filter_data(MOL345Male)\n",
    "naturalSciencesDict[\"MOL345Male\"] = MOL345Male"
   ]
  },
  {
   "cell_type": "code",
   "execution_count": 22,
   "metadata": {},
   "outputs": [],
   "source": [
    "%%capture\n",
    "# PSY\n",
    "PSY101Female = pd.read_csv('./Natural Sciences/PSY/PSY101 FEMALE.csv')\n",
    "PSY101Female = filter_data(PSY101Female)\n",
    "naturalSciencesDict[\"PSY101Female\"] = PSY101Female\n",
    "\n",
    "PSY101Male = pd.read_csv('./Natural Sciences/PSY/PSY101 MALE.csv')\n",
    "PSY101Male = filter_data(PSY101Male)\n",
    "naturalSciencesDict[\"PSY101Male\"] = PSY101Male\n",
    "\n",
    "\n",
    "PSY255Female = pd.read_csv('./Natural Sciences/PSY/PSY255 FEMALE.csv')\n",
    "PSY255Female = filter_data(PSY255Female)\n",
    "naturalSciencesDict[\"PSY255Female\"] = PSY255Female\n",
    "\n",
    "PSY255Male = pd.read_csv('./Natural Sciences/PSY/PSY255 MALE.csv')\n",
    "PSY255Male = filter_data(PSY255Male)\n",
    "naturalSciencesDict[\"PSY255Male\"] = PSY255Male"
   ]
  },
  {
   "cell_type": "markdown",
   "metadata": {},
   "source": [
    "Humanities"
   ]
  },
  {
   "cell_type": "code",
   "execution_count": 23,
   "metadata": {},
   "outputs": [],
   "source": [
    "humanitiesDict = {}"
   ]
  },
  {
   "cell_type": "code",
   "execution_count": 24,
   "metadata": {},
   "outputs": [],
   "source": [
    "%%capture\n",
    "# AAS\n",
    "AAS303Female = pd.read_csv('./Humanities/AAS/AAS303 FEMALE.csv')\n",
    "AAS303Female = filter_data(AAS303Female)\n",
    "humanitiesDict[\"AAS303Female\"] = AAS303Female\n",
    "\n",
    "AAS303Male = pd.read_csv('./Humanities/AAS/AAS303 MALE.csv')\n",
    "AAS303Male = filter_data(AAS303Male)\n",
    "humanitiesDict[\"AAS303Male\"] = AAS303Male\n",
    "\n",
    "\n",
    "AAS367Female = pd.read_csv('./Humanities/AAS/AAS367 FEMALE.csv')\n",
    "AAS367Female = filter_data(AAS367Female)\n",
    "humanitiesDict[\"AAS367Female\"] = AAS367Female\n",
    "\n",
    "AAS367Male = pd.read_csv('./Humanities/AAS/AAS367 MALE.csv')\n",
    "AAS367Male = filter_data(AAS367Male)\n",
    "humanitiesDict[\"AAS367Male\"] = AAS367Male"
   ]
  },
  {
   "cell_type": "code",
   "execution_count": 25,
   "metadata": {},
   "outputs": [],
   "source": [
    "%%capture\n",
    "# ARC\n",
    "ARC205Female = pd.read_csv('./Humanities/ARC/ARC205 FEMALE.csv')\n",
    "ARC205Female = filter_data(ARC205Female)\n",
    "humanitiesDict[\"ARC205Female\"] = ARC205Female\n",
    "\n",
    "ARC205Male = pd.read_csv('./Humanities/ARC/ARC205 MALE.csv')\n",
    "ARC205Male = filter_data(ARC205Male)\n",
    "humanitiesDict[\"ARC205Male\"] = ARC205Male\n",
    "\n",
    "\n",
    "ARC311Female = pd.read_csv('./Humanities/ARC/ARC311 FEMALE.csv')\n",
    "ARC311Female = filter_data(ARC311Female)\n",
    "humanitiesDict[\"ARC311Female\"] = ARC311Female\n",
    "\n",
    "ARC311Male = pd.read_csv('./Humanities/ARC/ARC311 MALE.csv')\n",
    "ARC311Male = filter_data(ARC311Male)\n",
    "humanitiesDict[\"ARC311Male\"] = ARC311Male\n",
    "\n",
    "\n",
    "ARC350Female = pd.read_csv('./Humanities/ARC/ARC350 FEMALE.csv')\n",
    "ARC350Female = filter_data(ARC350Female)\n",
    "humanitiesDict[\"ARC350Female\"] = ARC350Female\n",
    "\n",
    "ARC350Male = pd.read_csv('./Humanities/ARC/ARC350 MALE.csv')\n",
    "ARC350Male = filter_data(ARC350Male)\n",
    "humanitiesDict[\"ARC350Male\"] = ARC350Male\n",
    "\n",
    "\n",
    "ARC505BFemale = pd.read_csv('./Humanities/ARC/ARC505B FEMALE.csv')\n",
    "ARC505BFemale = filter_data(ARC505BFemale)\n",
    "humanitiesDict[\"ARC505BFemale\"] = ARC505BFemale\n",
    "\n",
    "ARC505BMale = pd.read_csv('./Humanities/ARC/ARC505B MALE.csv')\n",
    "ARC505BMale = filter_data(ARC505BMale)\n",
    "humanitiesDict[\"ARC505BMale\"] = ARC505BMale\n",
    "\n",
    "\n",
    "ARC577Female = pd.read_csv('./Humanities/ARC/ARC577 FEMALE.csv')\n",
    "ARC577Female = filter_data(ARC577Female)\n",
    "humanitiesDict[\"ARC577Female\"] = ARC577Female\n",
    "\n",
    "ARC577Male = pd.read_csv('./Humanities/ARC/ARC577 MALE.csv')\n",
    "ARC577Male = filter_data(ARC577Male)\n",
    "humanitiesDict[\"ARC577Male\"] = ARC577Male"
   ]
  },
  {
   "cell_type": "code",
   "execution_count": 26,
   "metadata": {},
   "outputs": [],
   "source": [
    "%%capture\n",
    "# CLA\n",
    "CLA219Female = pd.read_csv('./Humanities/CLA/CLA219 FEMALE.csv')\n",
    "CLA219Female = filter_data(CLA219Female)\n",
    "humanitiesDict[\"CLA219Female\"] = CLA219Female\n",
    "\n",
    "CLA219Male = pd.read_csv('./Humanities/CLA/CLA219 MALE.csv')\n",
    "CLA219Male = filter_data(CLA219Male)\n",
    "humanitiesDict[\"CLA219Male\"] = CLA219Male\n",
    "\n",
    "\n",
    "CLA326Female = pd.read_csv('./Humanities/CLA/CLA326 FEMALE.csv')\n",
    "CLA326Female = filter_data(CLA326Female)\n",
    "humanitiesDict[\"CLA326Female\"] = CLA326Female\n",
    "\n",
    "CLA326Male = pd.read_csv('./Humanities/CLA/CLA326 MALE.csv')\n",
    "CLA326Male = filter_data(CLA326Male)\n",
    "humanitiesDict[\"CLA326Male\"] = CLA326Male"
   ]
  },
  {
   "cell_type": "code",
   "execution_count": 27,
   "metadata": {},
   "outputs": [],
   "source": [
    "%%capture\n",
    "# ENG\n",
    "ENG200Female = pd.read_csv('./Humanities/ENG/ENG200 FEMALE.csv')\n",
    "ENG200Female = filter_data(ENG200Female)\n",
    "humanitiesDict[\"ENG200Female\"] = ENG200Female\n",
    "\n",
    "ENG200Male = pd.read_csv('./Humanities/ENG/ENG200 MALE.csv')\n",
    "ENG200Male = filter_data(ENG200Male)\n",
    "humanitiesDict[\"ENG200Male\"] = ENG200Male"
   ]
  },
  {
   "cell_type": "code",
   "execution_count": 28,
   "metadata": {},
   "outputs": [],
   "source": [
    "%%capture\n",
    "# GER\n",
    "GER101Female = pd.read_csv('./Humanities/GER/GER101 FEMALE.csv')\n",
    "GER101Female = filter_data(GER101Female)\n",
    "humanitiesDict[\"GER101Female\"] = GER101Female\n",
    "\n",
    "GER101Male = pd.read_csv('./Humanities/GER/GER101 MALE.csv')\n",
    "GER101Male = filter_data(GER101Male)\n",
    "humanitiesDict[\"GER101Male\"] = GER101Male\n",
    "\n",
    "\n",
    "GER306Female = pd.read_csv('./Humanities/GER/GER306 FEMALE.csv')\n",
    "GER306Female = filter_data(GER306Female)\n",
    "humanitiesDict[\"GER306Female\"] = GER306Female\n",
    "\n",
    "GER306Male = pd.read_csv('./Humanities/GER/GER306 MALE.csv')\n",
    "GER306Male = filter_data(GER306Male)\n",
    "humanitiesDict[\"GER306Male\"] = GER306Male"
   ]
  },
  {
   "cell_type": "code",
   "execution_count": 29,
   "metadata": {},
   "outputs": [],
   "source": [
    "%%capture\n",
    "# HIS\n",
    "HIS361Female = pd.read_csv('./Humanities/HIS/HIS361 FEMALE.csv')\n",
    "HIS361Female = filter_data(HIS361Female)\n",
    "humanitiesDict[\"HIS361Female\"] = HIS361Female\n",
    "\n",
    "HIS361Male = pd.read_csv('./Humanities/HIS/HIS361 MALE.csv')\n",
    "HIS361Male = filter_data(HIS361Male)\n",
    "humanitiesDict[\"HIS361Male\"] = HIS361Male"
   ]
  },
  {
   "cell_type": "code",
   "execution_count": 30,
   "metadata": {},
   "outputs": [],
   "source": [
    "%%capture\n",
    "# MUS\n",
    "MUS106Female = pd.read_csv('./Humanities/MUS/MUS106 FEMALE.csv')\n",
    "MUS106Female = filter_data(MUS106Female)\n",
    "humanitiesDict[\"MUS106Female\"] = MUS106Female\n",
    "\n",
    "MUS106Male = pd.read_csv('./Humanities/MUS/MUS106 MALE.csv')\n",
    "MUS106Male = filter_data(MUS106Male)\n",
    "humanitiesDict[\"MUS106Male\"] = MUS106Male"
   ]
  },
  {
   "cell_type": "code",
   "execution_count": 31,
   "metadata": {},
   "outputs": [],
   "source": [
    "%%capture\n",
    "# PHI\n",
    "PHI201Female = pd.read_csv('./Humanities/PHI/PHI201 FEMALE.csv')\n",
    "PHI201Female = filter_data(PHI201Female)\n",
    "humanitiesDict[\"PHI201Female\"] = PHI201Female\n",
    "\n",
    "PHI201Male = pd.read_csv('./Humanities/PHI/PHI201 MALE.csv')\n",
    "PHI201Male = filter_data(PHI201Male)\n",
    "humanitiesDict[\"PHI201Male\"] = PHI201Male\n",
    "\n",
    "PHI307Female = pd.read_csv('./Humanities/PHI/PHI307 FEMALE.csv')\n",
    "PHI307Female = filter_data(PHI307Female)\n",
    "humanitiesDict[\"PHI307Female\"] = PHI307Female\n",
    "\n",
    "PHI307Male = pd.read_csv('./Humanities/PHI/PHI307 MALE.csv')\n",
    "PHI307Male = filter_data(PHI307Male)\n",
    "humanitiesDict[\"PHI307Male\"] = PHI307Male"
   ]
  },
  {
   "cell_type": "code",
   "execution_count": 32,
   "metadata": {},
   "outputs": [],
   "source": [
    "for key, df in socialSciencesDict.items():\n",
    "    analyzeEvaluation(df)\n",
    "\n",
    "for key, df in naturalSciencesDict.items():\n",
    "    analyzeEvaluation(df)\n",
    "\n",
    "for key, df in humanitiesDict.items():\n",
    "    analyzeEvaluation(df)\n",
    "\n",
    "for key, df in engineeringDict.items():\n",
    "    analyzeEvaluation(df)"
   ]
  },
  {
   "cell_type": "code",
   "execution_count": 33,
   "metadata": {},
   "outputs": [],
   "source": [
    "allCourses = [socialSciencesDict, naturalSciencesDict, humanitiesDict, engineeringDict]"
   ]
  },
  {
   "cell_type": "code",
   "execution_count": 34,
   "metadata": {},
   "outputs": [],
   "source": [
    "# average score calculator\n",
    "def average(dict, course):\n",
    "    neg = 0\n",
    "    pos = 0\n",
    "    neu = 0\n",
    "    for sentiment in dict[course]['Sentiment']:\n",
    "        pos += sentiment['pos']\n",
    "        neg += sentiment['neg']\n",
    "        neu += sentiment['neu']\n",
    "    \n",
    "    neg = neg / len(dict[course]['Sentiment'])\n",
    "    neu = neu / len(dict[course]['Sentiment'])\n",
    "    pos = pos / len(dict[course]['Sentiment'])\n",
    "    return {\"neg\": neg, \"neu\": neu, \"pos\": pos}\n"
   ]
  },
  {
   "cell_type": "code",
   "execution_count": 35,
   "metadata": {},
   "outputs": [],
   "source": [
    "# average(humanitiesDict, 'AAS367Female')"
   ]
  },
  {
   "cell_type": "code",
   "execution_count": 36,
   "metadata": {},
   "outputs": [],
   "source": [
    "# display(humanitiesDict['AAS367Female'])"
   ]
  },
  {
   "cell_type": "code",
   "execution_count": 37,
   "metadata": {},
   "outputs": [
    {
     "name": "stdout",
     "output_type": "stream",
     "text": [
      "Most common adjectives for male instructors: [('great', 247), ('good', 246), ('interesting', 138), ('much', 122), ('difficult', 113), ('sure', 106), ('interested', 102), ('super', 96), ('other', 96), ('hard', 94), ('final', 88), ('easy', 84), ('helpful', 81), ('many', 59), ('important', 54), ('interesting.', 48), ('different', 46), ('manageable', 46), ('first', 46), (\"you're\", 45), ('pretty', 45), (\"it's\", 42), ('little', 39), ('it.', 33), ('nice', 33), ('amazing', 32), ('useful', 32), ('international', 31), ('major', 30), ('able', 30), ('weekly', 30), ('worth', 30), ('few', 30), ('solid', 29), (\"don't\", 29), ('American', 28), ('clear', 27), ('second', 27), ('general', 27), ('own', 26), ('last', 26), ('current', 25), ('willing', 25), ('relevant', 25), ('early', 25), ('only', 25), ('bad', 23), ('incredible', 23), ('fair', 22), ('high', 22), ('real', 21), ('political', 21), ('available', 21), ('linear', 21), ('favorite', 20), ('decent', 20), ('basic', 20), ('fine', 20), ('same', 20), ('new', 20), ('helpful.', 19), ('difficult.', 19), ('cool', 19), ('big', 18), ('fantastic', 18), ('great.', 18), ('short', 18), ('strong', 17), ('due', 17), ('necessary', 17), ('reasonable', 17), ('interesting,', 17), ('such', 16), ('good.', 16), ('taught', 16), ('previous', 16), ('enough', 16), ('dry', 16), ('exam', 16), ('fun', 16), ('excellent', 16), ('ready', 15), ('entire', 15), ('main', 15), ('stressful', 15), ('long', 15), ('awesome', 14), ('overall', 14), ('extra', 14), ('doable', 14), ('manageable.', 14), ('Good', 14), ('similar', 14), ('understanding', 13), ('make', 13), ('huge', 13), ('tough', 13), ('engaging', 12), ('key', 12), ('intro', 12), ('much.', 12), ('possible', 12), ('historical', 12), ('enjoyable', 12), ('actual', 11), ('conceptual', 11), ('introductory', 11), ('economic', 11), ('prepared', 11), ('precept', 11), ('accessible', 11), ('exams.', 10), ('subject', 10), ('heavy', 10), ('mathematical', 10), ('broad', 10), ('whole', 10), ('engaging.', 10), ('american', 10), ('foreign', 10), ('assignments.', 10), ('helpful,', 10), ('open', 10), ('small', 10), ('familiar', 10), ('manageable,', 9), ('material', 9), ('wonderful', 9), ('several', 9), ('next', 9), ('up.', 9), ('fair.', 9), ('aware', 9), ('single', 9), ('great,', 9), ('modern', 9), ('late', 9), ('social', 8), ('boring', 8), ('useful.', 8), ('absolute', 8), (\"aren't\", 8), ('confusing', 8), ('that.', 8), ('bad,', 8), ('challenging.', 8), ('deep', 8), ('unclear', 8), ('specific', 8), ('easy.', 8), ('hard.', 8), ('light', 8), ('prior', 8), ('intense', 8), ('minimal', 8), ('fun.', 8), ('pre-med', 8), ('hard,', 8), ('past', 8), ('comfortable', 8), ('reasonable.', 7), ('easy,', 7), (\"isn't\", 7), ('well.', 7), ('it,', 7), ('bad.', 7), ('complex', 7), ('detailed', 7), ('likely', 7), ('exams', 7), ('low', 7), ('content', 7), ('in-depth', 7), ('certain', 7), ('departmental', 7), ('fun,', 7), ('advanced', 7), ('fascinating', 7), ('it!', 7), ('structural', 7), ('engaging,', 6), ('knowledgable', 6), ('necessary.', 6), ('challenging', 6), ('Other', 6), ('harsh', 6), ('outside', 6), ('frustrating', 6), ('teaching.', 6), ('straightforward', 6), ('lectures.', 6), ('difficult,', 6), ('confident', 6), ('knowledgeable,', 6), ('right', 6), ('particular', 6), ('said,', 6), ('philosophical', 6), ('vague', 6), ('good,', 6), ('read', 5), ('full', 5), ('unique', 5), ('critical', 5), ('them.', 5), ('understand', 5), ('funny', 5), ('in.', 5), ('amazing,', 5), ('wrong', 5), ('poor', 5), ('dense', 5), ('course.', 5), ('careful', 5), ('quick', 5), ('final.', 5), ('significant', 5), ('applicable', 5), ('knowledgeable', 5), ('top', 5), ('fine.', 5), (\"didn't\", 5), ('theoretical', 5), ('rigorous', 5), ('straightforward.', 5), ('challenging,', 5), ('old', 5), ('impossible', 5), ('to.', 5), ('mandatory', 5), ('various', 5), ('time-consuming', 5), ('lot.', 5), ('enjoyable.', 5), ('lecture', 5), ('phenomenal', 5), ('large', 5), (\"you've\", 5), ('responsive', 5), ('senior', 5), ('well-organized', 5), (\"you'll\", 5), ('painful', 5), ('generous', 5), ('German', 5), ('recent', 5), ('course!', 5), ('independent', 4), ('normal', 4), ('5-course', 4), ('wish', 4), ('great!', 4), ('understanding.', 4), ('boring.', 4), ('unnecessary', 4), ('doable.', 4), ('dependent', 4), ('personal', 4), ('lecture.', 4), ('possible.', 4), ('informed', 4), ('fifth', 4), (\"they're\", 4), ('exciting', 4), ('tedious', 4), ('attention.', 4), ('random', 4), ('multiple', 4), ('rough.', 4), ('optional', 4), ('through.', 4), ('on.', 4), ('ask', 4), ('logic', 4), ('doable,', 4), ('useless', 4), ('better.', 4), ('intuitive', 4), ('nice,', 4), ('all.', 4), ('passionate', 4), ('nice.', 4), ('funny,', 4), ('massive', 4), ('exact', 4), ('precepts.', 4), ('understandable', 4), ('foundational', 4), ('statistical', 4), ('European', 4), ('intensive', 4), ('human', 4), (\"students'\", 4), ('further', 4), ('confusing.', 4), ('moral', 4), ('not.', 4), ('terrible', 4), ('comprehensive', 4), ('fair,', 4), ('amazing.', 4), ('academic', 4), ('multivariable', 4), ('supplementary', 4), ('molecular', 4), ('mental', 4), ('lecturer.', 4), ('helpful!', 4), ('cognitive', 4), ('African', 4), ('pre-recorded', 4), ('clever', 4), ('used', 3), ('far.', 3), ('free', 3), ('understanding,', 3), ('terrible.', 3), ('substantial', 3), ('ok', 3), ('okay', 3), ('graded.', 3), ('happy', 3), ('this,', 3), ('horrible', 3), ('enough.', 3), (\"there's\", 3), ('understand.', 3), ('class.', 3), ('fundamental', 3), ('pertinent', 3), ('irrelevant', 3), ('well-taught', 3), ('average', 3), ('everything.', 3), ('insightful', 3), ('attend', 3), ('rewarding', 3), ('supportive', 3), ('unclear.', 3), ('awful', 3), ('(2', 3), ('brutal', 3), ('time.', 3), ('complicated', 3), ('consistent', 3), ('distributional', 3), ('individual', 3), ('abstract', 3), ('public', 3), ('minor', 3), ('politics.', 3), ('comparable', 3), ('something.', 3), ('dry,', 3), ('grateful', 3), ('regular', 3), ('total', 3), ('glad', 3), ('unreasonable,', 3), ('overwhelming', 3), ('hefty', 3), ('non', 3), ('essential', 3), ('unorganized', 3), ('stressful.', 3), ('exceptional', 3), ('busy', 3), ('approachable', 3), ('latter', 3), ('MUCH', 3), ('practical', 3), ('ample', 3), ('fine,', 3), ('i', 3), ('course,', 3), ('additional', 3), ('sweet', 3), ('online', 3), ('lectures,', 3), ('theory', 3), ('perfect', 3), ('ambiguous', 3), ('(which', 3), ('well,', 3), ('friendly', 3), ('fantastic.', 3), ('tough,', 3), ('forward.', 3), ('teaching', 3), ('long,', 3), ('lab', 3), ('pandemic', 3), ('important.', 3), ('Overall', 3), ('/', 3), ('chill', 3), ('psych', 3), ('black', 3), ('ancient', 3), ('english', 3), ('brilliant', 3), ('ich', 3), ('rough', 3), ('creative', 3), ('live', 3), ('quite', 3), ('please', 3), ('partnered', 3), ('due.', 3), ('out.', 3), ('technical', 3), (\"can't\", 3), ('assignment', 3), ('material.', 3), ('okay.', 3), ('ethnographic', 2), ('scary', 2), ('u', 2), ('rare', 2), ('interactive', 2), ('thorough', 2), ('readings.', 2), ('person.', 2), ('economics,', 2), ('graded', 2), ('math', 2), ('borderline', 2), ('kind,', 2), ('confused.', 2), ('economics.', 2), ('dont', 2), ('proper', 2), ('feasible', 2), ('not,', 2), ('horrible.', 2), ('positive', 2), ('color', 2), ('us.', 2), ('colossal', 2), ('utterly', 2), ('important,', 2), ('there.', 2), ('vital', 2), ('AMAZING', 2), ('taxing.', 2), ('unnecessarily', 2), ('intense,', 2), ('relevant.', 2), ('non-econ', 2), ('lecture;', 2), ('lecturer,', 2), ('preceptor.', 2), ('ones.', 2), ('friendly.', 2), ('mindful', 2), ('nebulous', 2), ('confused', 2), ('incapable', 2), ('arbitrary', 2), ('slow', 2), ('delayed.', 2), ('about.', 2), (\"he's\", 2), ('econ', 2), ('crazy', 2), ('unintelligible', 2), ('boring,', 2), ('inclined', 2), ('standard', 2), ('ONLY', 2), ('light,', 2), ('refreshing.', 2), (\"doesn't\", 2), ('mean', 2), ('incomprehensible', 2), ('equivalent', 2), ('considerate', 2), ('exciting.', 2), ('history,', 2), ('eye-opening.', 2), ('sit-down', 2), ('pg)', 2), ('events.', 2), ('mid.', 2), ('precept.', 2), ('non-politics', 2), ('sure.', 2), ('vocabulary', 2), ('far,', 2), ('integral', 2), ('discussed,', 2), ('student-led', 2), ('chill.', 2), ('work-wise,', 2), ('lovely,', 2), ('half', 2), ('liked', 2), ('said.', 2), ('phenomenal!', 2), ('productive.', 2), ('itll', 2), ('enthusiastic', 2), ('narrow', 2), ('about,', 2), ('thought-provoking', 2), ('famous', 2), ('stats', 2), ('mcgraw', 2), ('unreasonable.', 2), ('you.', 2), ('together.', 2), ('simple', 2), ('enough).', 2), ('applied', 2), ('examples.', 2), ('for.', 2), ('meh.', 2), ('teaching,', 2), ('there,', 2), ('work.', 2), ('150-200', 2), ('extreme', 2), ('dense,', 2), ('midterm', 2), ('obscure', 2), ('overwhelming.', 2), ('upper', 2), ('poorly', 2), ('heavy.', 2), ('intriguing', 2), ('worthwhile', 2), ('diligent', 2), ('week.', 2), ('grade-wise.', 2), ('lofty', 2), ('awesome!', 2), ('instructive', 2), ('Chinese', 2), ('disorganized.', 2), ('disorganized', 2), ('reasonable,', 2), ('thought', 2), ('though.', 2), ('recommend.', 2), ('dismissive', 2), ('easier', 2), ('mistaken.', 2), ('mandatory,', 2), ('questions,', 2), ('organized,', 2), ('lost.', 2), ('involved.', 2), ('official', 2), ('annoying.', 2), ('lecture,', 2), ('genuine', 2), ('5-12', 2), ('try', 2), ('take', 2), ('interesting!', 2), ('workload.', 2), ('completion,', 2), ('required', 2), ('well-organized.', 2), ('major.', 2), ('neat', 2), ('with.', 2), ('miss', 2), ('substantive', 2), (\"what's\", 2), ('unfair', 2), ('structured', 2), ('much,', 2), ('future', 2), ('10-15', 2), ('300-level', 2), ('requirement', 2), ('afraid', 2), ('p-sets.', 2), ('quickly.', 2), ('labs', 2), ('meaningful', 2), ('worried', 2), ('tricky', 2), ('midterm/final', 2), ('junior', 2), ('premed', 2), ('start', 2), ('enjoyable,', 2), ('information.', 2), ('class!', 2), ('daily', 2), ('v', 2), ('improved.', 2), ('very', 2), ('want', 2), ('cumulative', 2), ('clear,', 2), ('fun!', 2), ('ridiculous.', 2), ('smart', 2), ('taught.', 2), ('left', 2), ('experienced', 2), ('lab.', 2), (\"that's\", 2), ('interesting)', 2), ('successful', 2), ('incredible,', 2), ('incredible.', 2), ('architectural', 2), ('virtual', 2), ('meh,', 2), ('optimal', 2), ('primary', 2), ('English', 2), ('kind.', 2), ('nur', 2), ('auch', 2), ('cultural', 2), ('disappointed.', 2), ('civil', 2), ('definite', 2), ('atonal', 2), ('significant.', 2), ('Western', 2), ('very,', 2), ('ear', 2), ('functional', 2), ('classical', 2), ('musical', 2), ('open-ended', 2), ('excellent.', 2), ('recommend', 2), ('excited', 2), ('low-level', 2), ('time-consuming,', 2), ('lacking.', 2), ('ish', 2), ('natural', 2), ('wide', 2), ('non-COS', 2), ('5-15', 2), ('must-take.', 2), ('all,', 2), ('cool,', 2), ('elective', 2), ('informative', 2), ('assignments,', 2), ('straight', 2), ('useful,', 2), ('higher-level', 2), ('realistic', 2), ('unlimited', 2), ('exams!', 2), ('convex', 2), ('optimization.', 2), ('real-life', 2), ('prepared.', 2), ('insufficient', 2), ('generous.', 2), ('spectacular', 1), ('ethnography', 1), ('thru', 1), ('silly', 1), ('begrudingly-taken', 1), ('impressive', 1), ('chill,', 1), ('constructive', 1), ('anthropology', 1), ('ethnography.', 1), ('freeform', 1), ('responsive.', 1), ('which.', 1), ('red', 1), ('OWN', 1), ('closer\"', 1), ('school.', 1), ('average,', 1), ('sooner.', 1), ('\"real', 1), (\"day's\", 1), ('graph', 1), ('favorite,', 1), (\"I'm\", 1), ('weekends.', 1), ('behind.', 1), ('mediocre,', 1), ('vocal', 1), (\"self-studying-don't\", 1), ('apt', 1), ('explaining.', 1), ('fun...', 1), ('sidetracked,', 1), ('things.', 1), ('(The', 1), ('slides.', 1), ('pre-recs.', 1), ('atrocious', 1), ('terrible-', 1), ('he,', 1), ('think', 1), ('lousy', 1), ('learning.', 1), ('multicolored', 1), ('figure.', 1), ('graph,', 1), ('lazy', 1), ('google', 1), ('tailored', 1), ('wordy', 1), ('necessary;', 1), ('lecture--', 1), ('life.', 1), ('neutral', 1), ('integrated', 1), ('informative.', 1), ('farber.', 1), ('paced', 1), ('early.', 1), ('clueless', 1), ('resilient', 1), ('self-taught', 1), ('do-able', 1), ('advantage.', 1), ('bi-weekly-ish', 1), ('times,', 1), ('bi-weekly', 1), ('burdensome', 1), ('external', 1), ('crucial', 1), ('economy...', 1), (\"shouldn't\", 1), ('graduate', 1), ('upperclassman)', 1), ('broader,', 1), ('focused', 1), ('current/historical', 1), ('macroeconomic', 1), ('intended', 1), ('global', 1), ('domestic', 1), ('100-level', 1), ('awesome.', 1), ('challenging--very', 1), ('financial', 1), ('orthodox,', 1), ('growth/GDP-centered', 1), ('simplistic', 1), ('prof.', 1), ('part,', 1), ('everyday', 1), ('tested.', 1), ('significant,', 1), ('learned.', 1), ('topical', 1), ('answer', 1), ('write', 1), ('study', 1), ('impatient', 1), ('times.', 1), ('honest,', 1), ('teaching).', 1), ('straight-forward', 1), ('upside,', 1), ('truly', 1), ('interesting/applicable', 1), ('low.', 1), ('skip', 1), ('(poorly', 1), ('hard).', 1), ('instructor.', 1), ('chaotic', 1), ('least.', 1), ('separate', 1), ('economics', 1), ('far?please', 1), ('off-topic', 1), (\"must-take?it's\", 1), ('helpful--unfortunately', 1), ('from--but', 1), ('well-run.', 1), ('dull', 1), ('abundant', 1), ('math-track', 1), ('apply', 1), (\"Don't\", 1), ('mathematically-heavy', 1), ('lightly,', 1), ('writing.', 1), ('wasted,', 1), ('uninspired', 1), ('useless,', 1), ('biweekly,', 1), ('1-2', 1), ('accountable', 1), ('hard:', 1), ('theory-based', 1), ('present', 1), ('\"6', 1), ('psets,', 1), ('midterm,', 1), ('it.The', 1), ('around!', 1), ('behind,', 1), ('maths', 1), ('whatsoever.', 1), ('approaches.', 1), ('finance', 1), ('certificate-ing.', 1), ('verbose,', 1), ('undigestable', 1), ('tangible.', 1), ('unengaging.', 1), ('well-selected.', 1), ('more.', 1), ('contemporary', 1), ('unorganized,', 1), ('slides;', 1), ('chill;', 1), ('deeper', 1), ('sociological', 1), ('renowned', 1), ('densse', 1), ('4-5', 1), ('painless', 1), ('easy-to-follow', 1), (\"wasn't\", 1), ('in-depth),', 1), ('in-depth.', 1), ('o', 1), ('expensive', 1), ('restructured.', 1), ('struggling.', 1), ('head', 1), ('late,', 1), ('coding', 1), ('SPIA,', 1), ('nightmare.', 1), ('organized.', 1), ('50-minute', 1), ('working', 1), ('(COS', 1), ('frequently.', 1), ('touch', 1), ('steep', 1), ('anything.', 1), ('involved', 1), ('miserable.', 1), ('bearable.', 1), ('gonna', 1), ('right?', 1), ('unhelpful.', 1), ('unengaging', 1), ('hate', 1), ('long.', 1), ('gleason', 1), ('sessions,', 1), ('tight', 1), ('theoretical.', 1), ('written.', 1), ('virtually.', 1), ('analytical', 1), ('undergraduates.', 1), ('per', 1), ('practical/interesting', 1), ('enormous', 1), ('unimportant', 1), ('tenuous', 1), ('worthwhile.', 1), ('loads,', 1), ('strict', 1), ('policy.', 1), ('course?even', 1), ('dense.', 1), ('due).', 1), ('unbelievable', 1), ('articles).', 1), ('world/history', 1), (\"today's\", 1), ('one-sided', 1), ('weak', 1), ('history/political', 1), ('freshman', 1), ('(100-150,', 1), ('notes,', 1), ('unkind', 1), ('to:', 1), ('adequate', 1), ('digital', 1), ('regret', 1), ('covered,', 1), ('quickly,', 1), ('suitable', 1), ('regional', 1), ('graduate-level', 1), ('cited', 1), ('canonical', 1), ('semester:', 1), ('half,', 1), ('piecemeal', 1), ('semester.', 1), ('ok.', 1), ('redundant', 1), ('fo', 1), ('with),', 1), ('well-designed', 1), ('well-executed,', 1), ('full-length', 1), ('complete', 1), ('1000-word', 1), ('inordinate', 1), ('undone', 1), ('high,', 1), ('non-rationalist,', 1), ('unrealistic', 1), ('lowkey', 1), ('pointless...30', 1), ('plays', 1), ('grade', 1), ('daunting,', 1), ('constant', 1), ('disorganized,', 1), ('unrewarding', 1), ('correct.', 1), (\"lists'\", 1), ('organizational', 1), ('through,', 1), ('POL', 1), ('beast.', 1), ('harsh,', 1), ('mixed', 1), ('all-time', 1), ('administrative', 1), ('sent', 1), ('again)', 1), ('300-350', 1), ('(many', 1), ('comprehensive).', 1), ('effective', 1), ('respectful', 1), ('100-150', 1), ('verbalized', 1), ('notes.', 1), ('graduation.', 1), ('assigned.', 1), ('ways.', 1), ('copious,', 1), ('poor-fair.', 1), ('late.', 1), ('\"sticky\"', 1), ('Interesting', 1), ('diplomatic', 1), ('well-established', 1), ('world.', 1), ('varied', 1), ('interest,', 1), ('described,', 1), (\"won't\", 1), ('charismatic', 1), ('finals.', 1), ('options.', 1), ('dreading', 1), ('today.', 1), ('cool.', 1), ('interruptive,', 1), ('seriously.', 1), ('intelligent,', 1), ('discussions.', 1), ('2-3', 1), ('fabulous', 1), ('stimulated.', 1), ('overkill', 1), ('criminal', 1), ('rewarding!', 1), ('stellar', 1), ('done.In', 1), ('quotes,', 1), ('select', 1), ('asks', 1), ('politics!', 1), ('attainable.', 1), ('Doable', 1), ('comfortable.', 1), ('conservative', 1), ('center,', 1), ('center-right', 1), ('pre-determined', 1), ('theoretical,', 1), ('do,', 1), ('classic', 1), ('surprised.', 1), ('impecable', 1), ('final,', 1), ('true!', 1), ('useful).', 1), ('sooo', 1), ('ok,', 1), ('annotated', 1), ('structured,', 1), ('unavoidable', 1), ('requirement.', 1), ('nice).', 1), ('moment.', 1), ('good--', 1), ('people.', 1), ('intense.', 1), ('soooo', 1), ('department/pre-med.', 1), ('(65%)', 1), ('understandable,', 1), ('student-friendly.', 1), ('shot.', 1), ('qualitative', 1), ('unfortunate', 1), ('peachy', 1), ('keen.', 1), ('time-crunch.', 1), ('queen.', 1), ('aligned', 1), ('CBE', 1), ('basic,', 1), ('representative', 1), ('this.', 1), ('easily,', 1), ('inherent', 1), ('literal', 1), ('fellow', 1), ('myself', 1), ('requirement-', 1), ('else', 1), ('qualitative,', 1), ('yes,', 1), ('funny!', 1), ('(understandable', 1), (\"she's\", 1), ('A-range', 1), ('B-range', 1), ('Molecular', 1), ('stimulating.', 1), ('taught!', 1), ('chemical', 1), ('flexible,', 1), ('face-paced,', 1), ('pile', 1), ('posted', 1), ('minimal.', 1), ('confusing/difficult', 1), ('reliable', 1), ('b/c', 1), ('epidemiological', 1), ('passionate.', 1), ('understandable!', 1), ('self-explanatory.', 1), ('Wish', 1), ('wacky', 1), ('\"in-class', 1), ('home,', 1), ('\"external', 1), ('prof', 1), ('unresponsive', 1), ('inconsistent.', 1), ('part.', 1), ('accommodating,', 1), ('mountains,', 1), ('inconsistent', 1), ('questions.', 1), ('often-required', 1), ('ten', 1), ('upcoming', 1), ('arbitrary.', 1), ('streamlined', 1), ('pre-lecture', 1), ('tedious.', 1), ('side', 1), ('partial', 1), ('department,', 1), ('alternative.', 1), ('interconnected', 1), ('trivia-like', 1), ('environmental', 1), ('geo', 1), ('superficial', 1), ('dissatisfying.', 1), ('responsive,', 1), ('analysis/calculus.', 1), ('expect', 1), ('helpful)', 1), ('(pdf)', 1), ('isomorphic', 1), ('anal,', 1), ('many,', 1), ('wording.This', 1), ('well-regarded', 1), ('fast,', 1), ('dazed', 1), ('imo', 1), ('(if', 1), ('fantastic,', 1), ('incoming', 1), ('work-heavy,', 1), ('4-8', 1), ('applicable.', 1), ('central', 1), ('harsher', 1), ('stylistic', 1), ('#1', 1), ('\\\\sigma-algebra', 1), ('required.', 1), ('\\\\sigma-algebras', 1), ('proof', 1), ('1-10,', 1), ('brownian', 1), ('enough--Professor', 1), ('accessible,', 1), ('~B.', 1), ('self-explanatory', 1), ('tangible', 1), ('nice!)', 1), ('worded', 1), ('supplemental', 1), ('keys.', 1), ('content).', 1), ('\"easier,\"', 1), ('surprised', 1), ('\"multiple', 1), ('correct', 1), ('friends.', 1), ('loud', 1), ('thorough,', 1), ('clinical', 1), ('Light', 1), ('biomedical', 1), ('us...', 1), ('us!', 1), ('adorable.', 1), ('kinesthetic', 1), ('nematodes?', 1), ('pure', 1), ('invested.', 1), ('lecturers.', 1), ('note-taking.', 1), ('low,', 1), ('mundane', 1), ('pre-med,', 1), ('coincide', 1), ('lucky', 1), ('pre-req,', 1), ('survive', 1), ('otherwise,', 1), ('semi-fast', 1), ('invaluable', 1), ('active', 1), ('(by', 1), ('assays/famous', 1), ('studying.', 1), ('cellular', 1), ('often.', 1), ('fresh', 1), ('up-to-date', 1), ('biotech,', 1), ('contemporary.', 1), ('wonderful,', 1), ('easier.', 1), ('detail-oriented...be', 1), ('formal', 1), ('early!!', 1), ('subtle', 1), ('semester,', 1), ('jumbled', 1), ('lab,', 1), ('young', 1), ('yourself,', 1), ('coronavirus', 1), ('semi-easy', 1), ('pipettes,', 1), ('well-run', 1), ('because,', 1), ('slides', 1), ('notorious', 1), ('thoroughly.', 1), ('time-consuming.', 1), ('biology.', 1), ('receptive', 1), ('clarification.', 1), ('with!', 1), ('med', 1), ('dr.', 1), ('amazing!),', 1), ('follow', 1), ('minimum', 1), ('going.', 1), ('up-', 1), ('8-10', 1), ('casual', 1), (\"your'e\", 1), ('logical.', 1), ('entertaining', 1), ('minute', 1), ('opinion).', 1), ('rewarding.', 1), ('sure-', 1), ('infectious.', 1), ('honest...you', 1), ('stupid', 1), ('overall.', 1), ('biochem', 1), ('pre-med.', 1), ('organic', 1), ('excessive', 1), ('non-graded', 1), ('generously.', 1), ('gem!', 1), ('often,', 1), ('guides,', 1), ('content,', 1), ('informational', 1), ('hit-or-miss,', 1), ('required,', 1), ('skim', 1), ('well-taught.', 1), ('(15-20', 1), ('(1-2', 1), ('(2-4', 1), ('(1', 1), ('recommended', 1), ('(5-9', 1), ('front', 1), ('5-9', 1), ('memorized.', 1), ('equations,', 1), ('do', 1), ('amazing--very', 1), ('beautiful', 1), ('HARD', 1), ('content-heavy.', 1), ('lean', 1), ('apprehensive', 1), ('biological', 1), ('related.', 1), ('rule-follower,', 1), ('sincere', 1), ('do.', 1), ('(unlike', 1), ('acceptable', 1), ('matter', 1), ('abrasive', 1), ('quizzes', 1), ('up.This', 1), ('witty,', 1), ('funny.', 1), ('10-20', 1), ('not-', 1), ('whatever)', 1), ('good),', 1), ('write-up', 1), ('insufferable.', 1), ('random.', 1), ('interesting;', 1), ('non-stem', 1), ('information-heavy', 1), ('think,', 1), ('non-STEM', 1), ('self', 1), ('reading.', 1), ('psychology.', 1), ('sleep', 1), ('dry.', 1), ('intro-level', 1), ('sub', 1), ('easily.', 1), ('pictures)', 1), ('shallow', 1), (\"we'd\", 1), ('textbooks,', 1), ('unorganized.', 1), ('drag.', 1), ('fact,', 1), ('best.', 1), ('andrew', 1), ('fulfilling', 1), ('fast-paced,', 1), ('disgusting.', 1), ('disjointed', 1), ('humanities/social', 1), ('baseline', 1), ('clear.', 1), ('inefficient', 1), ('meaningful.', 1), ('ver', 1), ('nowledgeable', 1), ('students!', 1), ('compelling', 1), ('radicalized...', 1), ('class-', 1), ('taking.', 1), ('fulfilling.', 1), ('false', 1), ('harmful', 1), ('suggesting,', 1), ('thick', 1), ('robots?', 1), ('semester-long', 1), ('earlier.', 1), ('pinups!', 1), ('hands-on', 1), ('negative', 1), ('self-motivated,', 1), ('rigorous.', 1), ('built', 1), ('historical).', 1), ('issue.', 1), ('you?re', 1), ('enjoy', 1), ('alright', 1), ('plus.', 1), ('effort.', 1), ('high.', 1), ('5th', 1), ('narratives--and', 1), ('analysis.', 1), ('secondary', 1), ('readings,', 1), ('spot.', 1), ('Greek', 1), ('seminar,', 1), ('humorous', 1), ('personable', 1), ('approachable.', 1), ('me.', 1), ('\"required.\"', 1), ('them,', 1), ('literary', 1), ('understanding!', 1), ('everything,', 1), ('British', 1), ('true', 1), ('it!!!', 1), ('miserable', 1), ('grammatical', 1), ('taught,', 1), ('more!', 1), ('language.', 1), ('rushed', 1), ('homework,', 1), ('learn', 1), ('tollen', 1), ('fur', 1), ('neue', 1), ('nicht', 1), ('das', 1), ('mich', 1), ('unpublished', 1), ('sad', 1), ('again.', 1), ('worthy', 1), ('mere', 1), ('singular', 1), ('allegorist,', 1), ('still?', 1), ('lacking', 1), ('prominent', 1), ('intellectual', 1), ('non-German', 1), ('departmental/elective', 1), ('amazing!', 1), ('enlightening', 1), ('context.', 1), ('Wild', 1), ('cute.', 1), ('lectures;', 1), ('ever.', 1), ('unprecedented', 1), ('lectures!', 1), ('influential', 1), ('casual,', 1), ('social/political', 1), ('discipline-specific.', 1), ('enjoyable!', 1), ('pleasant', 1), ('it?s', 1), ('context,', 1), ('inevitable', 1), ('phenomenal.', 1), ('podcasts)', 1), ('traditional', 1), ('1920-1974)', 1), ('1920-1974.', 1), ('5-page', 1), ('grand.', 1), ('thinking,', 1), ('gem.', 1), ('ideas.', 1), ('amazing:', 1), ('negligible', 1), ('composition-driven,', 1), ('composed', 1), ('avant-gsrde', 1), ('modality,', 1), ('musician', 1), ('person!', 1), ('composition', 1), ('overwhelming,', 1), ('music.', 1), ('intelligent.', 1), ('curious', 1), ('quick.', 1), ('professor-', 1), ('topic!', 1), ('picky', 1), ('easier,', 1), ('essay-based', 1), ('opinion.', 1), ('work-heavy', 1), ('logic,', 1), ('\"logic', 1), ('puzzle\"-esque', 1), ('mysterious', 1), ('logical', 1), ('interesting.Virtual', 1), ('occasional', 1), ('idea.', 1), ('proof-based', 1), ('sized.', 1), ('relaxing', 1), ('exhausting.', 1), ('well-supported', 1), ('logic-type', 1), ('definitely', 1), ('all;', 1), ('god', 1), ('accessible.', 1), ('strenuous.', 1), ('helped,', 1), ('systematic', 1), ('theyre', 1), ('ethical', 1), ('normative/practical', 1), ('achieveable', 1), ('ongoing', 1), ('prevalent', 1), ('smooth', 1), ('over.', 1), ('Important', 1), ('lecturing.', 1), ('aside', 1), ('understand,', 1), ('prepare', 1), ('destroyed', 1), ('chalked', 1), ('glorious', 1), ('horrendous', 1), (\"don't),\", 1), ('passive', 1), ('aggressive', 1), ('dumb', 1), ('conclusion,', 1), ('lost,', 1), ('unmotivated,', 1), ('traumatized.', 1), ('luck', 1), ('concrete', 1), ('needed', 1), ('assignments).', 1), ('is.', 1), ('terminal,', 1), ('well-explained', 1), ('well-done', 1), ('programming)', 1), ('15-20', 1), ('longer.', 1), ('well!', 1), ('advice,', 1), ('ton.', 1), ('instrumental', 1), ('code.', 1), ('18-wheeler.', 1), ('unable', 1), ('dark', 1), ('abysmal', 1), ('well-taught,', 1), ('monotonous', 1), ('understandable!!)', 1), ('draws', 1), ('low-level.', 1), ('though!', 1), ('unreachable', 1), ('up,', 1), ('aight,', 1), ('interdisciplinary.', 1), ('whereas', 1), ('garbage/useless.', 1), ('hrs', 1), ('enlightening.', 1), ('\"stackframes\"', 1), ('sense.', 1), ('itself.', 1), ('later', 1), ('students.', 1), ('nice!', 1), ('limited', 1), ('well-taught!', 1), ('sessions.', 1), ('detail.', 1), ('exams...).', 1), ('prerecorded', 1), ('parternered', 1), ('dedicated', 1), ('well-equipped', 1), ('imagine', 1), ('non-PDF', 1), ('deadline.', 1), ('readable', 1), ('easy?', 1), ('thought:', 1), ('for?', 1), ('though,', 1), ('later.', 1), ('insight', 1), ('problem-solving', 1), ('excelled.', 1), ('impeccable.', 1), ('unsure', 1), ('phenomenal,', 1), ('beneficial,', 1), ('piece', 1), ('must-take', 1), ('helpful!!', 1), ('early,', 1), ('search,', 1), ('problems.', 1), ('presentable', 1), ('(useful', 1), ('interviews,', 1), ('satisfying.', 1), ('problems).', 1), ('use', 1), ('scheduled', 1), ('before.', 1), ('friend!', 1), ('known...', 1), ('healthy', 1), ('lectures/precepts,', 1), ('frequent.', 1), ('sizable', 1), ('algorithms,', 1), ('etc.', 1), ('information-based,', 1), ('cos.', 1), ('patient', 1), ('stuck).', 1), ('tech', 1), ('tests.', 1), ('spend', 1), ('enriching!', 1), ('discouraged.', 1), ('designed.', 1), ('harsh.', 1), ('accumulated', 1), ('high-quality', 1), ('career-relevant', 1), ('require', 1), ('exam.', 1), ('educational', 1), ('Such', 1), ('prospective', 1), ('\"aha\"', 1), ('engaged,', 1), ('succinct', 1), ('insecure', 1), ('algebra,', 1), ('Ryan', 1), ('recorded', 1), ('cool!', 1), ('scarce', 1), ('(they', 1), ('learn,', 1), ('unparalleled.', 1), ('notes!', 1), ('derivative', 1), ('engaging--he', 1), ('depth!', 1), ('substantiated', 1), ('option.', 1), ('somewhat', 1), ('unsupported,', 1), ('crowded.', 1), ('golang.', 1), ('infinite', 1), ('(e.g.,', 1), ('track.', 1), ('alright.', 1), ('lenient', 1), ('StackOverflow', 1), ('worked.', 1), ('meh', 1), ('content!', 1), ('great--', 1), ('topics.', 1), ('struggling.Several', 1), ('interesting--just', 1), ('painful).', 1), ('are.', 1), ('notable', 1), ('immediate', 1), ('(3-5', 1), ('reinforced', 1), ('under-real', 1), ('real-world', 1), ('speak', 1), ('def', 1), ('straightforward,', 1), ('obtuse,', 1), ('finicky.', 1), ('programming', 1), ('fire,', 1), ('second-semester', 1), ('experience.', 1), ('optimally-allocated', 1), ('fat', 1), ('needed,', 1), ('help!', 1), ('heavy,', 1), ('biweekly', 1), ('design.', 1), ('existence.', 1), ('six.', 1), ('forgettable', 1), ('okay;', 1), ('too.', 1), ('hands-on,', 1), ('committed', 1), ('that:', 1), ('uploaded', 1), ('frequently)', 1), ('upper-level', 1), ('3-12', 1), ('systems,', 1), ('alternative', 1), ('departmentals.', 1), ('decent.', 1), ('attend,', 1), ('policies,', 1), ('systems.', 1), ('semester!', 1), ('lecturers,', 1), ('lax', 1), ('understanding--', 1), ('attentive', 1), ('instant', 1), ('318--', 1), ('hard!!).', 1), ('frustrating),', 1), ('proofs', 1), ('Course', 1), ('sabbatical', 1), ('overhyped.', 1), ('gifted', 1), ('(note:', 1), ('AAA', 1), ('theory-heavy,', 1), ('real-world/example-based.', 1), ('ORF', 1), ('math-heavy,', 1), ('uninteresting)', 1), ('year.', 1), ('generalized', 1), ('year?s', 1), ('designed,', 1), ('hopeful', 1), ('and/or', 1), ('middling', 1), ('6-10', 1), ('pset--', 1), ('tricky!', 1), ('computational', 1), ('something,', 1), ('overrated', 1), (\"(it's\", 1), ('dry),', 1), ('(multivariable', 1), ('calc,', 1), ('sink.', 1), ('annoying', 1), (':(', 1), ('predictable', 1), ('\"This', 1), ('semester\".', 1), ('absurd', 1), ('prep', 1), ('inadequate', 1), ('energetic', 1), ('advisable', 1), ('proper.', 1), ('in-depth,', 1), ('re-thought.', 1), ('cos', 1), ('far--I', 1), ('given.', 1), ('practice.', 1), ('awful.', 1), ('mathy', 1), ('depth', 1), ('conceptual/abstract.', 1), ('non-trivial', 1), ('capable', 1), ('support,', 1), ('THE', 1), ('demeanor.', 1), ('\"machine', 1), ('now!', 1), ('java', 1), ('uphill', 1), ('battle.', 1), ('Terrible', 1), ('engaging/clear', 1), ('unclear/wrong.', 1), ('curved.', 1), ('unsupervised,', 1), ('(for', 1), ('practice...the', 1), ('D-.', 1), ('algebra', 1), ('brutal.', 1), ('elementary', 1), ('ML', 1), ('organized', 1), ('wonderful.', 1), ('weird', 1), ('convinced', 1), ('quasi-mastery.', 1), ('trivial', 1), ('holistic', 1), ('everyone,', 1), ('courses.', 1), ('honestly.', 1), ('stuck.', 1), ('python.', 1), ('matrix', 1), ('scratch', 1), ('timely', 1), ('Ed', 1), ('\"practice\"', 1), ('harder.', 1), ('overly', 1), ('time-intensive.', 1), ('weekly.', 1), ('\"a', 1), ('non-mathy', 1), ('3-week', 1), ('unpleasant.', 1), ('chaotic/overfilled.', 1), ('definitive', 1), (\"weren't\", 1), ('sufficient', 1), ('us,', 1), ('mission', 1), ('(to', 1), ('\"moving', 1), ('thoughtful', 1), ('align', 1), ('rewarding).', 1), ('lecturer!', 1), ('complex,', 1), ('bite-size', 1), ('patient.', 1), ('condescending,', 1), ('antagonistic', 1), ('expectations,', 1), ('background,', 1), ('numpy', 1), ('week,', 1), ('nicely.', 1), ('Little', 1), ('math-heavy;', 1), ('fascinating,', 1), (\"course's\", 1), ('first-offering', 1), ('ridiculous', 1), ('unhelpful,', 1), ('on-topic,', 1), ('related', 1), ('intelligent', 1), (\"it'll\", 1), ('enthusiastic.', 1), ('inexperienced', 1), ('stuck,', 1), ('run,', 1), ('undoable', 1), ('state-of-the-art', 1), ('logic.', 1), ('Do-able', 1), ('often-', 1), ('researching.', 1), ('languages.', 1), ('recommended.', 1), ('handouts.', 1), ('valuable', 1), ('squares,', 1), ('these.', 1), ('conceptual,', 1), ('(should', 1), ('necessary,', 1), ('in-class', 1), ('difficult!', 1), ('light.', 1), ('harder', 1), ('gettable', 1), ('noncoder.', 1), ('tricky,', 1), ('*some*', 1)]\n",
      "Most common adjectives for female instructors: [('great', 169), ('good', 131), ('interesting', 96), ('easy', 84), ('much', 82), ('other', 76), ('sure', 68), ('interested', 66), ('super', 63), ('difficult', 53), ('final', 48), (\"you're\", 41), ('helpful', 40), ('hard', 37), ('many', 36), ('bad', 34), ('important', 32), ('little', 32), ('pretty', 29), ('different', 29), ('major', 28), ('solid', 27), ('fair', 26), (\"it's\", 25), ('amazing', 25), ('first', 24), ('general', 23), ('clear', 23), ('political', 23), ('interesting.', 21), ('new', 20), ('basic', 20), ('high', 20), ('manageable', 20), ('useful', 20), ('only', 19), ('American', 19), ('nice', 18), ('own', 18), ('weekly', 17), ('real', 17), ('international', 17), ('dry', 16), ('overall', 16), ('able', 16), ('fantastic', 16), ('current', 16), ('willing', 15), ('necessary', 15), ('engaging', 15), ('big', 14), ('second', 14), ('relevant', 14), ('entire', 14), ('accessible', 13), ('it.', 13), ('such', 13), ('awesome', 13), ('amazing.', 13), ('engaging.', 12), ('same', 12), ('Good', 12), ('difficult.', 12), ('few', 12), ('German', 12), ('reasonable', 11), ('decent', 11), ('interesting,', 11), ('worth', 11), ('social', 11), (\"don't\", 11), ('fun', 11), ('available', 10), ('enjoyable', 10), ('fine', 10), ('next', 10), ('excellent', 10), ('cool', 10), ('it,', 9), ('sweet', 9), ('subject', 9), ('whole', 9), ('doable', 9), ('fine.', 9), ('early', 9), ('complex', 9), ('extra', 9), ('favorite', 9), ('linear', 9), ('wonderful', 8), ('helpful.', 8), ('difficult,', 8), ('tough', 8), ('exams', 8), ('enough', 8), ('multiple', 8), ('low', 8), ('great,', 8), ('large', 8), ('taught', 8), ('possible', 8), ('light', 8), ('last', 8), ('manageable.', 8), ('due', 8), ('minimal', 8), ('single', 8), ('challenging', 7), ('introductory', 7), ('stressful', 7), ('key', 7), ('lecture.', 7), ('previous', 7), ('precept', 7), ('understanding', 7), ('incredible', 7), ('make', 7), ('material', 7), ('straightforward', 7), ('boring', 7), ('familiar', 7), ('specific', 7), ('well.', 7), (\"you've\", 7), ('precept.', 7), ('long', 7), ('great!', 7), ('fifth', 7), ('actual', 6), ('main', 6), ('comfortable', 6), ('prior', 6), ('knowledgeable', 6), ('poor', 6), ('happy', 6), ('similar', 6), ('exciting', 6), ('easy.', 6), ('broad', 6), ('it!', 6), ('tedious', 6), ('abstract', 6), ('future', 5), ('dense', 5), ('to.', 5), ('course.', 5), ('personal', 5), ('strong', 5), ('up.', 5), ('5th', 5), ('applicable', 5), ('ready', 5), ('free', 5), ('heavy', 5), ('taught.', 5), ('fair,', 5), ('glad', 5), ('logical', 5), ('mandatory', 5), ('bad.', 5), ('great.', 5), ('busy', 5), ('huge', 5), ('multivariable', 5), ('modern', 5), ('daily', 5), ('historical', 5), ('positive', 5), ('simplex', 5), ('short', 4), ('independent', 4), ('likely', 4), ('interesting!', 4), ('aware', 4), ('required', 4), ('intro', 4), ('chill', 4), ('econ', 4), ('helpful,', 4), ('class.', 4), ('tricky', 4), ('hard.', 4), ('content', 4), ('2-3', 4), ('terrible', 4), ('conceptual', 4), ('exams.', 4), ('essential', 4), ('understanding.', 4), ('right', 4), ('simple', 4), ('pre-recorded', 4), ('you.', 4), ('young', 4), (\"didn't\", 4), ('Other', 4), ('fascinating', 4), ('again.', 4), ('useless', 4), ('partial', 4), ('dry,', 4), ('lecture,', 4), ('past', 4), ('doable.', 4), ('classical', 4), ('i', 4), ('theoretical', 4), ('long,', 4), ('insightful', 4), ('light.', 4), ('american', 4), ('in-depth', 4), ('useful.', 4), ('perfect', 4), ('academic', 4), ('online', 4), ('attend', 4), ('ethical', 4), ('arbitrary', 4), ('regular', 4), ('open', 4), ('recent', 4), ('logic', 4), ('work.', 3), ('fantastic.', 3), ('times.', 3), ('fair.', 3), ('bonus', 3), ('challenging.', 3), (\"they're\", 3), ('informative', 3), ('fun.', 3), ('focused', 3), ('prospective', 3), ('intellectual', 3), ('far.', 3), ('virtual', 3), ('out.', 3), ('stimulating', 3), ('small', 3), ('dry.', 3), ('departmental', 3), ('disorganized', 3), ('funny', 3), ('unclear', 3), ('phenomenal', 3), ('pandemic', 3), ('quick', 3), ('wrong', 3), ('contemporary', 3), ('lecturer.', 3), ('wary', 3), ('kinda', 3), ('assignments.', 3), ('time-consuming.', 3), ('repetitive,', 3), ('prepare', 3), ('enjoyable.', 3), ('ample', 3), ('closed', 3), ('superficial', 3), ('awesome!', 3), ('brilliant', 3), ('significant', 3), ('time.', 3), ('lot.', 3), ('stats', 3), ('thoughtful', 3), ('informative,', 3), ('analytical', 3), (\"won't\", 3), ('freshman', 3), ('smart', 3), ('said,', 3), ('much.', 3), ('harsh', 3), ('several', 3), ('comprehensive', 3), ('moral', 3), ('important,', 3), ('well,', 3), ('proof-based', 3), ('careful', 3), ('take-home', 3), ('kind,', 3), ('class,', 3), ('obscure', 3), ('cognitive', 3), ('supportive', 3), ('knowledgable', 3), ('practical', 3), ('full', 3), ('close', 3), ('ear', 3), ('understanding,', 3), ('in-person', 3), ('fine,', 2), ('exciting.', 2), (\"she's\", 2), ('friendly', 2), ('do', 2), ('ethnographic', 2), ('late,', 2), ('pre-med', 2), ('knowledgeable.', 2), ('beneficial', 2), (\"preceptor's\", 2), ('fast.', 2), ('on.', 2), ('math', 2), ('bad!', 2), ('crazy', 2), ('standard', 2), ('easy,', 2), ('manageable,', 2), ('econ.', 2), ('unenjoyable', 2), ('approachable,', 2), ('tricky.', 2), ('interested.', 2), ('unsure', 2), ('unnecessary', 2), ('fast-paced', 2), ('final.', 2), ('unreasonable', 2), ('awful', 2), ('give', 2), ('though.', 2), ('outside', 2), ('else', 2), ('with.', 2), ('passionate', 2), ('possible.', 2), ('helpful!', 2), ('economic', 2), ('afraid', 2), ('excited', 2), ('organized,', 2), ('sad', 2), ('prof', 2), ('dependent', 2), ('critical', 2), ('taught,', 2), ('non', 2), ('that,', 2), ('easier.', 2), ('midterm', 2), ('exam', 2), ('unrelated', 2), ('quantitative', 2), ('in.', 2), ('better.', 2), ('lecture', 2), ('certain', 2), ('classes.', 2), ('human', 2), ('paced', 2), ('amazing,', 2), ('okay', 2), ('calculus', 2), ('hard,', 2), ('adequate', 2), ('do-able', 2), ('negligible', 2), ('you?re', 2), ('philosophical,', 2), ('weary', 2), ('ton.', 2), ('overall,', 2), ('hand.', 2), ('scholarly', 2), ('over-arching', 2), ('survey-like', 2), ('perfect.', 2), ('far,', 2), ('skim.', 2), ('textual', 2), ('drafts/key', 2), ('rewarding(will', 2), ('papers).', 2), ('possible!', 2), ('awesome!!', 2), ('reminiscent', 2), ('google', 2), ('low,', 2), ('brilliant,', 2), ('sociological', 2), ('dense.', 2), ('evident', 2), ('material.', 2), ('unlikely', 2), ('overwhelming', 2), ('psets.', 2), ('coding.', 2), ('online.', 2), ('in-depth.', 2), ('her,', 2), ('chaotic', 2), ('questions.', 2), ('prepared', 2), ('extreme', 2), ('statistical', 2), ('valuable', 2), (\"that's\", 2), ('good.', 2), ('enough.', 2), ('ir', 2), ('depth', 2), (\"shouldn't\", 2), ('week,', 2), ('horrible', 2), ('notes,', 2), ('grateful', 2), ('important!', 2), ('refreshing', 2), ('write', 2), ('particular', 2), ('ask', 2), ('clear.', 2), ('worried', 2), ('them.', 2), ('theoretical,', 2), ('public', 2), ('disorganized,', 2), ('teaching.', 2), ('us.', 2), ('various', 2), ('anything.', 2), ('computational', 2), ('pure', 2), ('rigorous', 2), ('approachable', 2), ('enlightening.', 2), ('time-consuming', 2), ('part.', 2), ('fast', 2), ('time-consuming,', 2), ('responsive', 2), ('additional', 2), ('beautiful', 2), ('applications.', 2), ('needed.', 2), ('fantastic,', 2), ('textbook.', 2), ('assigned', 2), ('nice.', 2), ('typical', 2), ('psychology.', 2), ('amazing!', 2), ('experimental', 2), ('separate', 2), ('overwhelming.', 2), ('dedicated', 2), ('scientific', 2), ('encouraging', 2), ('incredible,', 2), ('eye-opening', 2), ('gonna', 2), ('insightful,', 2), ('nice,', 2), ('lectures,', 2), ('senior', 2), ('robotic', 2), ('recorded', 2), ('Much', 2), ('like', 2), ('cool.', 2), ('preceptor,', 2), ('memoirs)', 2), ('learn', 2), ('intuitive.', 2), ('relative', 2), ('collaborative', 2), ('slow', 2), ('unforgiving.', 2), ('intuitive', 2), ('exact', 2), ('unhelpful', 2), ('algebra,', 2), ('random', 2), ('poorly', 2), ('automated', 2), ('chill,', 2), ('not,', 2), ('spoon-fed', 2), ('painful', 1), ('this,', 1), ('anthro', 1), ('ones.', 1), ('otherwise,', 1), ('well-structured,', 1), ('readings,', 1), ('energetic,', 1), ('effective', 1), ('patient', 1), ('time...', 1), ('fun!', 1), ('integral', 1), ('saying.', 1), ('lecturer--very', 1), ('6-8', 1), ('difficult...', 1), ('p', 1), ('stressful.', 1), ('subsequent', 1), ('solvable', 1), ('neat', 1), ('correct', 1), ('foundational', 1), ('3-4', 1), ('life.', 1), ('up!).', 1), ('disguise.', 1), ('requirement.', 1), ('eager', 1), ('content.', 1), ('hard/messy', 1), ('economics.', 1), ('(with', 1), ('abosolute', 1), ('studying,', 1), ('field.', 1), ('precept/lecture/office', 1), ('helped', 1), ('lecture/precept,', 1), ('rough.', 1), ('due),', 1), ('correct,', 1), ('hall,', 1), (\"we'll\", 1), (\"wasn't\", 1), ('fast-paced!', 1), ('veery', 1), ('prerequisite!', 1), ('about,', 1), ('algebraic/pre-calc', 1), ('mathematical', 1), ('clarified', 1), ('up!', 1), ('5-class', 1), ('much,', 1), ('lectures/precepts!', 1), ('removed.', 1), ('free-market', 1), ('math-oriented,', 1), ('distributional', 1), ('fresh', 1), ('on-these', 1), ('facts,', 1), ('required.', 1), ('excellent.', 1), ('part,', 1), ('understand.', 1), ('exceptional', 1), ('details.', 1), ('qualitative', 1), ('inspirational,', 1), ('well--', 1), ('leaving,', 1), ('relevant,', 1), ('monotonous', 1), ('reading-', 1), ('official', 1), ('confusing', 1), ('interested,', 1), ('away.', 1), ('informational', 1), ('macro', 1), ('wont', 1), ('helpful.The', 1), ('inflation,', 1), ('lending,', 1), ('instructor,', 1), ('unclear,', 1), ('anything,', 1), ('rude', 1), ('miss', 1), ('fascinating.', 1), ('discussed,', 1), ('weird.', 1), ('boring,', 1), ('boring.', 1), ('microeconomic', 1), ('disappointing', 1), ('teaching,', 1), ('treat.', 1), ('teaches.', 1), ('slow/repetitive', 1), ('bi-weekly', 1), ('woo', 1), ('well-taught', 1), ('eco100', 1), ('lecture/read', 1), ('understand', 1), ('straightforward.', 1), ('helps.', 1), ('notes.', 1), ('repetitive', 1), ('necessary;', 1), ('self-explanatory', 1), ('sufficient', 1), ('A-range', 1), ('generous.', 1), ('administrative', 1), ('ECO', 1), ('ECO311', 1), ('real-world', 1), ('you/we', 1), ('professor', 1), ('unorganized', 1), ('confused.', 1), ('\"I', 1), ('likeable', 1), ('this??', 1), ('level', 1), ('non-math', 1), ('nonsensical.', 1), ('lectures.', 1), ('economical', 1), ('well!', 1), ('weeks.', 1), ('algebra.', 1), ('informal', 1), ('normal', 1), ('math.', 1), ('intuition.', 1), ('students.', 1), ('5-6', 1), ('added', 1), ('derivative', 1), ('readings.', 1), ('obivous', 1), ('pressured', 1), ('Sure', 1), ('present', 1), ('course,', 1), ('fourth', 1), ('(which', 1), ('awesome.', 1), ('thoughtful,', 1), ('\"practical\"', 1), ('mindful', 1), (\"classes'\", 1), ('fun,', 1), ('passive', 1), ('long).', 1), ('central', 1), ('soc', 1), ('strategic', 1), ('teaching', 1), ('professor-', 1), ('extensive,', 1), ('stimulated.', 1), ('incredible.', 1), ('perfection.The', 1), ('well-organized.', 1), ('assignments,', 1), ('wise.', 1), ('denser', 1), ('topical!', 1), ('stories.', 1), ('importantly,', 1), ('thought-provoking.', 1), ('wonderful!', 1), ('philosophical/critical', 1), ('strategy:', 1), ('lecture!', 1), ('overwhelmed.', 1), ('underwhelming', 1), ('salt.', 1), ('(regressions,', 1), ('stuff,', 1), ('optional,', 1), ('challenging,', 1), ('necessary,', 1), ('focused.', 1), ('substantial', 1), ('complete', 1), ('help.', 1), ('thinking,', 1), ('up.The', 1), ('fairer', 1), ('easier?', 1), ('QR/any', 1), ('lower-level', 1), ('approachable;', 1), ('engagement', 1), ('rewarding.', 1), ('struggling.', 1), ('pol', 1), ('first-year,', 1), ('math-oriented', 1), ('timed,', 1), ('paramount', 1), ('disorganized.', 1), ('things.', 1), ('breeze.', 1), ('u', 1), ('u,', 1), ('vague.Overall,', 1), ('tech', 1), ('statistics.', 1), ('ideal', 1), ('politics.', 1), ('enjoyed', 1), ('first-semester', 1), ('well-prepared', 1), ('fabulous', 1), ('between.', 1), ('first-sem', 1), ('in,', 1), ('non-virtual', 1), ('(ie,', 1), ('audience.', 1), ('related', 1), ('lotta', 1), ('live', 1), ('freshmen,', 1), ('upset', 1), ('in...', 1), ('decent.', 1), ('spot.', 1), ('interactive', 1), ('poignant', 1), ('unfair', 1), ('essential.', 1), ('oral', 1), ('preceptor!', 1), ('dive', 1), ('papers.', 1), ('super,', 1), ('responsive.', 1), ('stuff.', 1), ('worried.', 1), ('dull,', 1), ('stimulating,', 1), ('inconsistent', 1), ('verbal', 1), ('timed', 1), ('course).', 1), ('reading.', 1), ('realistic', 1), ('general.', 1), ('Chinese', 1), ('incredible!', 1), ('Tough', 1), ('departmental,', 1), ('exams)', 1), ('drafting', 1), ('ethical.', 1), ('imo', 1), ('gpa/', 1), ('(WWS', 1), ('underly', 1), ('head.', 1), ('remote', 1), ('unattainable.', 1), ('politics/public', 1), ('limited,', 1), ('xenophobic', 1), (\"professor's\", 1), ('shitty', 1), ('uncomfortable.', 1), ('amazing!!', 1), ('facilitated', 1), ('through\"', 1), ('policymaking.', 1), ('thought-provoking', 1), ('topical', 1), (\"what's\", 1), ('utilizing', 1), ('succinct.', 1), ('ramble', 1), ('(just', 1), ('terrorists,', 1), ('would-be', 1), ('national', 1), ('grades.', 1), ('really,', 1), ('(the', 1), ('torture,', 1), ('apprehensive', 1), ('enjoy', 1), ('philosophical', 1), ('infectious', 1), ('mad', 1), ('specialized,', 1), ('math/stats-heavy', 1), ('unstructured', 1), ('cover', 1), ('midterm.', 1), ('global', 1), ('concrete', 1), ('assessments.', 1), ('epidemiology/public', 1), ('premedical', 1), ('complementary', 1), ('scientific/evidence-based', 1), ('fair!', 1), ('penguin', 1), ('what?', 1), ('all,', 1), ('mind-numbing.', 1), ('lowkey', 1), ('semester!', 1), ('small,', 1), ('okay.', 1), ('modest', 1), ('annoyed,', 1), ('Pre-Cal', 1), ('disastrous', 1), ('self-taught.', 1), ('ridiculous,', 1), ('wasteful', 1), ('learning', 1), ('sketchy', 1), ('archive', 1), ('detailed', 1), ('firm', 1), ('(or', 1), ('impossible.', 1), ('bad,', 1), ('computation-heavy', 1), ('manifold', 1), ('extended', 1), ('multivariate', 1), ('unhelpful,', 1), ('wholesome', 1), ('thorough,', 1), (\"doesn't\", 1), ('disappointing.', 1), ('unreadable', 1), ('rambling,', 1), ('unorganized,', 1), ('basic.', 1), ('oft', 1), ('instructional', 1), ('8-10', 1), ('(3-4', 1), ('variable', 1), ('who?ve', 1), ('inverse', 1), ('differential', 1), ('rep', 1), ('week.', 1), ('assigned.', 1), ('/', 1), ('applications-based', 1), ('thorough', 1), ('average', 1), ('intense.', 1), ('intensive', 1), (\"isn't\", 1), ('Fast-paced', 1), ('Complex', 1), ('lotttta', 1), ('brutal', 1), ('often,', 1), ('evil', 1), ('rewarding!', 1), ('slow).', 1), ('finite', 1), ('sound', 1), ('enthusiastic', 1), ('was).', 1), ('undergrad', 1), ('long/difficult,', 1), ('use', 1), ('measure-theoretic', 1), ('say', 1), ('theory.', 1), ('concise,', 1), ('downhill.', 1), ('individualized', 1), ('enhanced', 1), ('undergrads', 1), ('to)!!I', 1), ('expansive', 1), ('well).', 1), ('email', 1), ('serious', 1), ('receptive', 1), ('helpful).', 1), ('us??', 1), ('organic', 1), ('orgo', 1), ('utilize', 1), ('me.', 1), ('everything.', 1), ('biochemical', 1), ('inflexible,', 1), ('textbook', 1), ('prolonged', 1), ('undue', 1), ('introductory,', 1), ('briefly.', 1), ('review', 1), ('this).', 1), ('lab', 1), ('one.', 1), ('unfulfilling', 1), ('intuitive,', 1), ('lab\"', 1), ('A-/A', 1), ('slides;', 1), ('straight', 1), ('non-STEM', 1), ('fantastic!', 1), ('missed', 1), ('uo', 1), ('dev', 1), ('busywork.', 1), ('successful', 1), ('note-taking', 1), ('prereq', 1), ('require', 1), ('kind.', 1), ('fifty', 1), ('synchronous', 1), ('asychronous', 1), ('organized', 1), ('upfront', 1), ('concerned,', 1), ('labs', 1), ('funny,', 1), ('reasonable,', 1), ('open-note', 1), ('learnt', 1), ('science.', 1), ('ridiculous', 1), ('well-run.', 1), ('negative', 1), ('neccesary', 1), ('mundane', 1), ('mental', 1), ('\"I\\'m', 1), ('lost.', 1), ('equivalent', 1), ('everyday.', 1), ('Lombrozo', 1), ('learning.', 1), ('videos', 1), ('bs-able', 1), ('surprises.', 1), ('psych', 1), ('now.', 1), ('intro-level', 1), ('unnecessary.', 1), ('interested/curious', 1), ('instead.', 1), ('Busy', 1), ('language,', 1), ('decision-making,', 1), ('visual', 1), ('(such', 1), ('outstanding.', 1), ('sympathetic', 1), ('needs.', 1), ('pervasive', 1), ('medical', 1), ('instrumental', 1), ('taken!', 1), ('individual', 1), ('wrong.', 1), ('safe', 1), ('true', 1), ('race,', 1), ('incredible:', 1), ('eyes,', 1), ('black', 1), ('conducive', 1), ('ok', 1), ('racism.', 1), ('advice.', 1), ('seminar', 1), ('brilliant.', 1), ('massive', 1), ('imposible', 1), ('absolute', 1), ('urban', 1), ('well-versed', 1), ('intense,', 1), ('rewarding', 1), ('invested', 1), ('built', 1), ('steep', 1), ('proud', 1), ('architectural', 1), ('robotic/automatic', 1), ('intimidated', 1), ('grasshopper', 1), ('A-.', 1), ('involved', 1), ('digital', 1), ('need', 1), ('trial-and-error.', 1), ('improved', 1), ('war.', 1), ('must-take.', 1), ('high-level', 1), ('nitty-gritty', 1), ('day-to-day', 1), ('sources.', 1), ('experience.', 1), ('topic,', 1), ('welcoming', 1), ('it!!!!', 1), ('midterm/final', 1), ('ids,', 1), ('ancient', 1), ('chronological', 1), ('outrageous', 1), ('work!', 1), ('taking.', 1), ('bored', 1), ('thematic', 1), ('(primary', 1), ('confident', 1), ('story-like.', 1), ('flexible', 1), ('analyze', 1), ('primary', 1), ('terrific.', 1), ('Late', 1), ('Roman', 1), ('approachable.', 1), ('Republican', 1), ('extensive', 1), ('English', 1), (\"teachers'\", 1), ('contrary', 1), (\"you'll\", 1), ('ten', 1), ('irrelevant', 1), ('developed', 1), ('end-heavy', 1), ('text.', 1), ('short.', 1), ('British', 1), ('time!', 1), ('sequence.', 1), ('well-run,', 1), ('fast-paced,', 1), ('Take', 1), ('further', 1), ('step-by-step.', 1), ('vocabulary', 1), ('language.', 1), ('colonial', 1), ('hit-or-miss.', 1), ('decent,', 1), ('useful,', 1), ('clean', 1), (\"Princeton's\", 1), ('well-taught,', 1), ('german', 1), ('side.', 1), ('student-first', 1), ('lighter', 1), ('well-read,', 1), ('upper-level', 1), ('phenomenal,', 1), ('reads!', 1), ('cultural', 1), ('famous', 1), ('Such', 1), ('non-history', 1), ('recommend!', 1), ('compelling', 1), ('memoirs', 1), ('harsh.', 1), ('must-take', 1), ('immediate', 1), ('heavy,', 1), ('support.', 1), (\"it'll\", 1), ('(all', 1), ('precepts.', 1), ('top', 1), ('notch.', 1), ('non-History', 1), ('shy', 1), ('recommend', 1), ('misleading.', 1), ('feminism/equal', 1), ('educational', 1), ('puts', 1), ('context.', 1), ('US', 1), ('today.', 1), ('everyone.', 1), ('is,', 1), ('hands-down,', 1), ('THIS', 1), (\"today's\", 1), ('american.', 1), ('compositional', 1), ('continued.', 1), ('now!', 1), ('experienced', 1), ('Western', 1), ('Reasonable', 1), ('do.', 1), ('melodic', 1), ('Romantic', 1), ('post-Romantic', 1), ('hilarious.', 1), ('impressive', 1), ('quickly,', 1), ('beware', 1), ('satisfying.', 1), ('lot!', 1), ('wonderful)', 1), ('(Classical', 1), ('sixth', 1), ('harmonic', 1), ('structured', 1), ('equal', 1), ('expert', 1), ('five-class', 1), ('along.', 1), ('tests.', 1), ('third', 1), ('obliterated', 1), ('optional', 1), ('supplementary', 1), ('logic!', 1), ('formulated,', 1), ('stimulating.', 1), ('direct', 1), ('english', 1), ('annoying', 1), ('subjective,', 1), ('unforgiving', 1), ('ineffective', 1), (\"semester's\", 1), ('enjoyable,', 1), ('it!!', 1), ('third.', 1), ('trivial', 1), ('*any*', 1), ('\"advanced\"', 1), ('*incredibly*', 1), ('nontrivial', 1), ('something.', 1), ('(prospective)', 1), ('occasional', 1), ('technological', 1), ('nan', 1), ('mickey', 1), ('skim', 1), ('her.', 1), ('dumb', 1), ('dull', 1), ('fair;', 1), ('slow,', 1), ('majors.', 1), ('tedious.The', 1), ('systematic', 1), ('stojnic', 1), ('una', 1), ('again,', 1), ('pdf', 1), ('note/collaborative', 1), ('logic...', 1), ('<3', 1), ('hour/week', 1), ('logic,', 1), ('word-for-word', 1), ('notations,', 1), ('stuck,', 1), ('external', 1), ('inadequate', 1), ('unplanned.', 1), ('Russian', 1), ('it.For', 1), ('scary', 1), ('logical/maths-y', 1), ('warned,', 1), ('symbolic', 1), ('laptop', 1), ('impossible', 1), ('consistent', 1), ('fascinating,', 1), ('diverse', 1), ('reserved', 1), ('encouraging.', 1), ('well-spoken.', 1), ('tangential', 1), ('good!', 1), ('practical.', 1), ('excessive.', 1), ('15-20', 1), ('engaging,', 1), ('long.', 1), ('civil', 1), ('handouts.', 1), ('combine', 1), ('opaque', 1), ('tedious,', 1), ('8-12', 1), ('hours.', 1), ('frustrating.', 1), ('vector-based', 1), ('pythonic', 1), ('grand', 1), ('math-y', 1), ('couple', 1), ('4-5', 1), ('unbearable', 1), ('obvious', 1), ('answered.', 1), ('typos.', 1), ('worst-taught', 1), ('tragic', 1), ('10-20', 1), ('typo-ridden', 1), ('probability.', 1), ('you?ve', 1), ('wish', 1), ('though)', 1), ('speak', 1), ('higher-level', 1), ('deep', 1), ('late', 1), ('tested.', 1), ('covered', 1), ('(not', 1), ('double', 1), ('integrative', 1), ('Overall', 1), ('non-requirement', 1), ('curious', 1), ('crown', 1), ('orfe', 1), ('proof-heavy,', 1), ('predictable,', 1), ('well-defined,', 1), ('formulated/clear,', 1), ('lecture/precept', 1), ('etc.).', 1), ('fall,', 1), ('smoothly.', 1), ('financial', 1), ('awesome,', 1), ('computer-aided', 1), ('accessible.', 1), ('quick-and-painless.', 1), ('pleasant', 1), ('powerful', 1), ('open-ended', 1), ('all.', 1), ('energy.', 1), ('well-presented', 1), ('flexible,', 1), (\"'must-take'\", 1), ('state-space', 1), ('time-variant', 1), ('straight-forward', 1), (\"they'd\", 1), ('apply', 1), ('material,', 1), ('theyll', 1), ('equipped', 1), ('is.', 1), ('parametric', 1), ('self-dual', 1), ('available,', 1), ('nevertheless', 1), (\"can't\", 1), ('vibe', 1), ('very', 1), (\"that'll\", 1), ('forwards.', 1), ('~so~', 1), ('us,', 1), ('zones.', 1), ('math/theory-heavy', 1), ('online,', 1), ('orf309', 1), ('useless.', 1), ('arithmetic', 1), ('over.', 1), ('tiny', 1), ('nonexistent', 1), ('spared.(Professor', 1), ('precise', 1), ('intermediate', 1), ('minor', 1), ('in-class', 1), ('spoon-feeding.', 1), ('frequent', 1), ('early,', 1)]\n"
     ]
    }
   ],
   "source": [
    "# most common adjectives for the instructors\n",
    "\n",
    "femaleSentenceList = []\n",
    "maleSentenceList = []\n",
    "for discipline in allCourses:            \n",
    "    for course, values in discipline.items():\n",
    "        evaluations = values['Evaluation']\n",
    "        for evaluation in evaluations:\n",
    "            if 'Female' in course:\n",
    "                femaleSentenceList.append(str(evaluation))\n",
    "            else:\n",
    "                maleSentenceList.append(str(evaluation))\n",
    "\n",
    "maleWordList = []\n",
    "femaleWordList = []\n",
    "\n",
    "for sentence in femaleSentenceList:\n",
    "    for word in sentence.split():\n",
    "        femaleWordList.append(word)\n",
    "\n",
    "for sentence in maleSentenceList:\n",
    "    for word in sentence.split():\n",
    "        maleWordList.append(word)\n",
    "\n",
    "maleTags = nltk.pos_tag(maleWordList)\n",
    "maleAdjectives = [w for w, t in maleTags if t == 'JJ']\n",
    "\n",
    "femaleTags = nltk.pos_tag(femaleWordList)\n",
    "femaleAdjectives = [w for w, t in femaleTags if t == 'JJ']\n",
    "\n",
    "maleWordCounter = Counter(maleAdjectives)\n",
    "femaleWordCounter = Counter(femaleAdjectives)\n",
    "\n",
    "print(\"Most common adjectives for male instructors: \" + str(maleWordCounter.most_common()))\n",
    "print(\"Most common adjectives for female instructors: \" + str(femaleWordCounter.most_common()))"
   ]
  },
  {
   "cell_type": "code",
   "execution_count": 38,
   "metadata": {},
   "outputs": [
    {
     "name": "stdout",
     "output_type": "stream",
     "text": [
      "Average words per evaluation for male instructors: 43.32229450029568\n",
      "Average words per evaluation for female instructors: 39.32394366197183\n"
     ]
    }
   ],
   "source": [
    "# average word per evaluation for male and female instructors\n",
    "\n",
    "femaleSentenceList = []\n",
    "maleSentenceList = []\n",
    "\n",
    "for discipline in allCourses:            \n",
    "    for course, values in discipline.items():\n",
    "        evaluations = values['Evaluation']\n",
    "        for evaluation in evaluations:\n",
    "            if 'Female' in course:\n",
    "                femaleSentenceList.append(str(evaluation))\n",
    "            else:\n",
    "                maleSentenceList.append(str(evaluation))\n",
    "\n",
    "maleWordList = []\n",
    "femaleWordList = []\n",
    "\n",
    "# total number of words divided by the total number of evaluations\n",
    "\n",
    "for sentence in femaleSentenceList:\n",
    "    for word in sentence.split():\n",
    "        femaleWordList.append(word)\n",
    "\n",
    "for sentence in maleSentenceList:\n",
    "    for word in sentence.split():\n",
    "        maleWordList.append(word)\n",
    "\n",
    "avgFemale = len(femaleWordList) / len(femaleSentenceList)\n",
    "avgMale = len(maleWordList) / len(maleSentenceList)\n",
    "\n",
    "print(\"Average words per evaluation for male instructors: \" + str(avgMale))\n",
    "print(\"Average words per evaluation for female instructors: \" + str(avgFemale))"
   ]
  },
  {
   "cell_type": "code",
   "execution_count": 39,
   "metadata": {},
   "outputs": [
    {
     "name": "stdout",
     "output_type": "stream",
     "text": [
      "Total evaluations of male instructors: 1691\n",
      "Total evaluations of female instructors: 1136\n",
      "Average sentiment scores for male instructors: neg: 0.038996451803666475 neu: 0.7729621525724429 pos: 0.18803903015966913\n",
      "Average sentiment scores for female instructors: neg: 0.037944542253521146 neu: 0.7598389084507049 pos: 0.20222711267605598\n"
     ]
    }
   ],
   "source": [
    "# average sentiment scores across all courses\n",
    "\n",
    "femaleScoreList = []\n",
    "maleScoreList = []\n",
    "\n",
    "for discipline in allCourses:            \n",
    "    for course, values in discipline.items():\n",
    "        sentiments = values['Sentiment']\n",
    "        for sentiment in sentiments:\n",
    "            if 'Female' in course:\n",
    "                femaleScoreList.append(sentiment)\n",
    "            else:\n",
    "                maleScoreList.append(sentiment)\n",
    "\n",
    "femalePos = 0\n",
    "femaleNeg = 0\n",
    "femaleNeu = 0\n",
    "\n",
    "for sentiment in femaleScoreList:\n",
    "    femalePos += sentiment['pos']\n",
    "    femaleNeg += sentiment['neg']\n",
    "    femaleNeu += sentiment['neu']   \n",
    "\n",
    "malePos = 0\n",
    "maleNeg = 0\n",
    "maleNeu = 0\n",
    "\n",
    "for sentiment in maleScoreList:\n",
    "    malePos += sentiment['pos']\n",
    "    maleNeg += sentiment['neg']\n",
    "    maleNeu += sentiment['neu']  \n",
    "\n",
    "print(\"Total evaluations of male instructors: \" + str(len(maleScoreList)))\n",
    "print(\"Total evaluations of female instructors: \" + str(len(femaleScoreList)))\n",
    "\n",
    "print(\"Average sentiment scores for male instructors: \" + \"neg: \" + str(maleNeg / len(maleScoreList)) + \" neu: \" + str(maleNeu / len(maleScoreList)) + \" pos: \" + str(malePos / len(maleScoreList)))\n",
    "print(\"Average sentiment scores for female instructors: \" + \"neg: \" + str(femaleNeg / len(femaleScoreList)) + \" neu: \" + str(femaleNeu / len(femaleScoreList)) + \" pos: \" + str(femalePos / len(femaleScoreList)))\n"
   ]
  },
  {
   "cell_type": "code",
   "execution_count": 40,
   "metadata": {},
   "outputs": [],
   "source": [
    "# male and female averages for every discipline\n",
    "\n",
    "femaleScoreListSocialSciences = []\n",
    "maleScoreListSocialSciences = []\n",
    "       \n",
    "for course, values in socialSciencesDict.items():\n",
    "    sentiments = values['Sentiment']\n",
    "    for sentiment in sentiments:\n",
    "        if 'Female' in course:\n",
    "            femaleScoreListSocialSciences.append(sentiment)\n",
    "        else:\n",
    "            maleScoreListSocialSciences.append(sentiment)\n",
    "\n",
    "femaleScoreListNaturalSciences = []\n",
    "maleScoreListNaturalSciences = []\n",
    "       \n",
    "for course, values in naturalSciencesDict.items():\n",
    "    sentiments = values['Sentiment']\n",
    "    for sentiment in sentiments:\n",
    "        if 'Female' in course:\n",
    "            femaleScoreListNaturalSciences.append(sentiment)\n",
    "        else:\n",
    "            maleScoreListNaturalSciences.append(sentiment)\n",
    "\n",
    "femaleScoreListEngineering = []\n",
    "maleScoreListEngineering = []\n",
    "       \n",
    "for course, values in engineeringDict.items():\n",
    "    sentiments = values['Sentiment']\n",
    "    for sentiment in sentiments:\n",
    "        if 'Female' in course:\n",
    "            femaleScoreListEngineering.append(sentiment)\n",
    "        else:\n",
    "            maleScoreListEngineering.append(sentiment)\n",
    "\n",
    "\n",
    "femaleScoreListHumanities = []\n",
    "maleScoreListHumanities = []\n",
    "       \n",
    "for course, values in humanitiesDict.items():\n",
    "    sentiments = values['Sentiment']\n",
    "    for sentiment in sentiments:\n",
    "        if 'Female' in course:\n",
    "            femaleScoreListHumanities.append(sentiment)\n",
    "        else:\n",
    "            maleScoreListHumanities.append(sentiment)\n",
    "\n",
    "femalePosSocial = 0\n",
    "femaleNegSocial = 0\n",
    "femaleNeuSocial = 0\n",
    "\n",
    "for sentiment in femaleScoreListSocialSciences:\n",
    "    femalePosSocial += sentiment['pos']\n",
    "    femaleNegSocial += sentiment['neg']\n",
    "    femaleNeuSocial += sentiment['neu']   \n",
    "\n",
    "malePosSocial = 0\n",
    "maleNegSocial = 0\n",
    "maleNeuSocial = 0\n",
    "\n",
    "for sentiment in maleScoreListSocialSciences:\n",
    "    malePosSocial += sentiment['pos']\n",
    "    maleNegSocial += sentiment['neg']\n",
    "    maleNeuSocial += sentiment['neu']\n",
    "\n",
    "\n",
    "femalePosNatural = 0\n",
    "femaleNegNatural = 0\n",
    "femaleNeuNatural = 0\n",
    "\n",
    "for sentiment in femaleScoreListNaturalSciences:\n",
    "    femalePosNatural += sentiment['pos']\n",
    "    femaleNegNatural += sentiment['neg']\n",
    "    femaleNeuNatural += sentiment['neu']   \n",
    "\n",
    "malePosNatural = 0\n",
    "maleNegNatural = 0\n",
    "maleNeuNatural = 0\n",
    "\n",
    "for sentiment in maleScoreListNaturalSciences:\n",
    "    malePosNatural += sentiment['pos']\n",
    "    maleNegNatural += sentiment['neg']\n",
    "    maleNeuNatural += sentiment['neu']  \n",
    "\n",
    "femalePosEngineering = 0\n",
    "femaleNegEngineering = 0\n",
    "femaleNeuEngineering = 0\n",
    "\n",
    "for sentiment in femaleScoreListEngineering:\n",
    "    femalePosEngineering += sentiment['pos']\n",
    "    femaleNegEngineering += sentiment['neg']\n",
    "    femaleNeuEngineering += sentiment['neu']   \n",
    "\n",
    "malePosEngineering = 0\n",
    "maleNegEngineering = 0\n",
    "maleNeuEngineering = 0\n",
    "\n",
    "for sentiment in maleScoreListEngineering:\n",
    "    malePosEngineering += sentiment['pos']\n",
    "    maleNegEngineering += sentiment['neg']\n",
    "    maleNeuEngineering += sentiment['neu']  \n",
    "\n",
    "femalePosHumanities = 0\n",
    "femaleNegHumanities = 0\n",
    "femaleNeuHumanities = 0\n",
    "\n",
    "for sentiment in femaleScoreListHumanities:\n",
    "    femalePosHumanities += sentiment['pos']\n",
    "    femaleNegHumanities += sentiment['neg']\n",
    "    femaleNeuHumanities += sentiment['neu']   \n",
    "\n",
    "malePosHumanities = 0\n",
    "maleNegHumanities = 0\n",
    "maleNeuHumanities = 0\n",
    "\n",
    "for sentiment in maleScoreListHumanities:\n",
    "    malePosHumanities += sentiment['pos']\n",
    "    maleNegHumanities += sentiment['neg']\n",
    "    maleNeuHumanities += sentiment['neu']  "
   ]
  },
  {
   "cell_type": "code",
   "execution_count": 41,
   "metadata": {},
   "outputs": [
    {
     "name": "stdout",
     "output_type": "stream",
     "text": [
      "Average sentiment scores for male instructors for natural sciences: neg: 0.04474170616113742 neu: 0.7743791469194314 pos: 0.1808696682464455\n",
      "Average sentiment scores for female instructors for natural sciences: neg: 0.03650256410256408 neu: 0.792666666666667 pos: 0.1708153846153847\n"
     ]
    }
   ],
   "source": [
    "print(\"Average sentiment scores for male instructors for natural sciences: \" + \"neg: \" + str(maleNegNatural / len(maleScoreListNaturalSciences)) + \" neu: \" + str(maleNeuNatural / len(maleScoreListNaturalSciences)) + \" pos: \" + str(malePosNatural / len(maleScoreListNaturalSciences)))\n",
    "print(\"Average sentiment scores for female instructors for natural sciences: \" + \"neg: \" + str(femaleNegNatural / len(femaleScoreListNaturalSciences)) + \" neu: \" + str(femaleNeuNatural / len(femaleScoreListNaturalSciences)) + \" pos: \" + str(femalePosNatural / len(femaleScoreListNaturalSciences)))"
   ]
  },
  {
   "cell_type": "code",
   "execution_count": 42,
   "metadata": {},
   "outputs": [
    {
     "name": "stdout",
     "output_type": "stream",
     "text": [
      "Average sentiment scores for male instructors for social sciences: neg: 0.03881733746130028 neu: 0.7912925696594426 pos: 0.16989473684210527\n",
      "Average sentiment scores for female instructors for social sciences: neg: 0.039791071428571446 neu: 0.7596803571428569 pos: 0.2005482142857141\n"
     ]
    }
   ],
   "source": [
    "print(\"Average sentiment scores for male instructors for social sciences: \" + \"neg: \" + str(maleNegSocial / len(maleScoreListSocialSciences)) + \" neu: \" + str(maleNeuSocial / len(maleScoreListSocialSciences)) + \" pos: \" + str(malePosSocial / len(maleScoreListSocialSciences)))\n",
    "print(\"Average sentiment scores for female instructors for social sciences: \" + \"neg: \" + str(femaleNegSocial / len(femaleScoreListSocialSciences)) + \" neu: \" + str(femaleNeuSocial / len(femaleScoreListSocialSciences)) + \" pos: \" + str(femalePosSocial / len(femaleScoreListSocialSciences)))"
   ]
  },
  {
   "cell_type": "code",
   "execution_count": 43,
   "metadata": {},
   "outputs": [
    {
     "name": "stdout",
     "output_type": "stream",
     "text": [
      "Average sentiment scores for male instructors for humanities neg: 0.02172972972972972 neu: 0.7473783783783788 pos: 0.23087837837837843\n",
      "Average sentiment scores for female instructors for humanities: neg: 0.033505263157894725 neu: 0.7430210526315788 pos: 0.22349473684210522\n"
     ]
    }
   ],
   "source": [
    "print(\"Average sentiment scores for male instructors for humanities \" + \"neg: \" + str(maleNegHumanities / len(maleScoreListHumanities)) + \" neu: \" + str(maleNeuHumanities / len(maleScoreListHumanities)) + \" pos: \" + str(malePosHumanities / len(maleScoreListHumanities)))\n",
    "print(\"Average sentiment scores for female instructors for humanities: \" + \"neg: \" + str(femaleNegHumanities / len(femaleScoreListHumanities)) + \" neu: \" + str(femaleNeuHumanities / len(femaleScoreListHumanities)) + \" pos: \" + str(femalePosHumanities / len(femaleScoreListHumanities)))"
   ]
  },
  {
   "cell_type": "code",
   "execution_count": 44,
   "metadata": {},
   "outputs": [
    {
     "name": "stdout",
     "output_type": "stream",
     "text": [
      "Average sentiment scores for male instructors for engineering neg: 0.04279800498753117 neu: 0.7561047381546123 pos: 0.20109725685785537\n",
      "Average sentiment scores for female instructors for engineering: neg: 0.04328124999999999 neu: 0.7440104166666669 pos: 0.21268749999999992\n"
     ]
    }
   ],
   "source": [
    "print(\"Average sentiment scores for male instructors for engineering \" + \"neg: \" + str(maleNegEngineering / len(maleScoreListEngineering)) + \" neu: \" + str(maleNeuEngineering / len(maleScoreListEngineering)) + \" pos: \" + str(malePosEngineering / len(maleScoreListEngineering)))\n",
    "print(\"Average sentiment scores for female instructors for engineering: \" + \"neg: \" + str(femaleNegEngineering / len(femaleScoreListEngineering)) + \" neu: \" + str(femaleNeuEngineering / len(femaleScoreListEngineering)) + \" pos: \" + str(femalePosEngineering / len(femaleScoreListEngineering)))"
   ]
  },
  {
   "cell_type": "code",
   "execution_count": 46,
   "metadata": {},
   "outputs": [],
   "source": [
    "# \\begin{enumerate}\n",
    "#     \\item Good: 284\n",
    "#     \\item Great: 279\n",
    "#     \\item Helpful: 117\n",
    "#     \\item Amazing: 47\n",
    "#     \\item Nice: 45\n",
    "#     \\item Fair: 35\n",
    "#     \\item Engaging: 30\n",
    "#     \\item Fine: 28\n",
    "#     \\item Incredible: 27\n",
    "#     \\item Cool: 23\n",
    "# \\end{enumerate}\n",
    "\n",
    "# \\begin{enumerate}\n",
    "#     \\item Great: 189\n",
    "#     \\item Good: 146\n",
    "#     \\item Helpful: 58\n",
    "#     \\item Amazing: 43\n",
    "#     \\item Bad: 42\n",
    "#     \\item Fair: 36\n",
    "#     \\item Fine: 28\n",
    "#     \\item Engaging: 28\n",
    "#     \\item Clear: 26\n",
    "#     \\item Nice: 22\n",
    "# \\end{enumerate}"
   ]
  },
  {
   "cell_type": "code",
   "execution_count": null,
   "metadata": {},
   "outputs": [],
   "source": []
  },
  {
   "cell_type": "code",
   "execution_count": null,
   "metadata": {},
   "outputs": [],
   "source": []
  }
 ],
 "metadata": {
  "kernelspec": {
   "display_name": "Python 3.10.2 64-bit",
   "language": "python",
   "name": "python3"
  },
  "language_info": {
   "codemirror_mode": {
    "name": "ipython",
    "version": 3
   },
   "file_extension": ".py",
   "mimetype": "text/x-python",
   "name": "python",
   "nbconvert_exporter": "python",
   "pygments_lexer": "ipython3",
   "version": "3.10.2"
  },
  "orig_nbformat": 4,
  "vscode": {
   "interpreter": {
    "hash": "583e4b8ff046354e16b8ba52d63b3197ad59f7b89b127f0309f590a02ba174d0"
   }
  }
 },
 "nbformat": 4,
 "nbformat_minor": 2
}
