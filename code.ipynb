{
 "cells": [
  {
   "cell_type": "code",
   "execution_count": 11,
   "metadata": {},
   "outputs": [],
   "source": [
    "import csv\n",
    "import pandas as pd"
   ]
  },
  {
   "cell_type": "code",
   "execution_count": 21,
   "metadata": {},
   "outputs": [],
   "source": [
    "def filter_data(df):\n",
    "    df = df.iloc[1: , :]\n",
    "    second_column = df.columns[1]\n",
    "    third_column = df.columns[2]\n",
    "    df = df.drop([second_column], axis=1)\n",
    "    df = df.drop([third_column], axis=1)\n",
    "    df.rename({'Please Note': 'Evaluation'}, axis=1)\n",
    "    return df"
   ]
  },
  {
   "cell_type": "markdown",
   "metadata": {},
   "source": [
    "Social Sciences"
   ]
  },
  {
   "cell_type": "code",
   "execution_count": 33,
   "metadata": {},
   "outputs": [],
   "source": [
    "# ANT\n",
    "ANT300Female = pd.read_csv('./Social Sciences/ANT/ANT300 FEMALE.csv')\n",
    "ANT300Female = filter_data(ANT300Female)\n",
    "ANT300Male = pd.read_csv('./Social Sciences/ANT/ANT300 MALE.csv')\n",
    "ANT300Male = filter_data(ANT300Male)"
   ]
  },
  {
   "cell_type": "code",
   "execution_count": 34,
   "metadata": {},
   "outputs": [],
   "source": [
    "# ECO\n",
    "ECO100Female = pd.read_csv('./Social Sciences/ECO/ECO100 FEMALE.csv')\n",
    "ECO100Female = filter_data(ECO100Female)\n",
    "ECO100Male = pd.read_csv('./Social Sciences/ECO/ECO100 MALE.csv')\n",
    "ECO100Male = filter_data(ECO100Male)\n",
    "\n",
    "ECO101Female = pd.read_csv('./Social Sciences/ECO/ECO101 FEMALE.csv')\n",
    "ECO101Female = filter_data(ECO101Female)\n",
    "ECO101Male = pd.read_csv('./Social Sciences/ECO/ECO101 MALE.csv')\n",
    "ECO101Male = filter_data(ECO101Male)\n",
    "\n",
    "ECO300Female = pd.read_csv('./Social Sciences/ECO/ECO300 FEMALE.csv')\n",
    "ECO300Female = filter_data(ECO300Female)\n",
    "ECO300Male = pd.read_csv('./Social Sciences/ECO/ECO300 MALE.csv')\n",
    "ECO300Male = filter_data(ECO300Male)\n",
    "\n",
    "ECO301Female = pd.read_csv('./Social Sciences/ECO/ECO301 FEMALE.csv')\n",
    "ECO301Female = filter_data(ECO301Female)\n",
    "ECO301Male = pd.read_csv('./Social Sciences/ECO/ECO301 MALE.csv')\n",
    "ECO301Male = filter_data(ECO301Male)\n",
    "\n",
    "ECO310Female = pd.read_csv('./Social Sciences/ECO/ECO310 FEMALE.csv')\n",
    "ECO310Female = filter_data(ECO310Female)\n",
    "ECO310Male = pd.read_csv('./Social Sciences/ECO/ECO310 MALE.csv')\n",
    "ECO310Male = filter_data(ECO310Male)"
   ]
  },
  {
   "cell_type": "code",
   "execution_count": null,
   "metadata": {},
   "outputs": [],
   "source": [
    "# POL\n",
    "POL210Female = pd.read_csv('./Social Sciences/POL/POL210 FEMALE.csv')\n",
    "POL210Female = filter_data(POL210Female)\n",
    "POL210Male = pd.read_csv('./Social Sciences/POL/POL210 MALE.csv')\n",
    "POL210Male = filter_data(POL210Male)\n",
    "\n",
    "POL220Female = pd.read_csv('./Social Sciences/POL/POL220 FEMALE.csv')\n",
    "POL220Female = filter_data(POL220Female)\n",
    "POL220Male = pd.read_csv('./Social Sciences/POL/POL220 MALE.csv')\n",
    "POL220Male = filter_data(POL220Male)"
   ]
  },
  {
   "cell_type": "code",
   "execution_count": null,
   "metadata": {},
   "outputs": [],
   "source": [
    "# SOC\n",
    "SOC302Female = pd.read_csv('./Social Sciences/SOC/SOC302 FEMALE.csv')\n",
    "SOC302Female = filter_data(SOC302Female)\n",
    "SOC302Male = pd.read_csv('./Social Sciences/SOC/SOC302 MALE.csv')\n",
    "SOC302Male = filter_data(SOC302Male)"
   ]
  },
  {
   "cell_type": "code",
   "execution_count": 37,
   "metadata": {},
   "outputs": [],
   "source": [
    "# SPI\n",
    "SPI211Female = pd.read_csv('./Social Sciences/SPI/SPI211 FEMALE.csv')\n",
    "SPI211Female = filter_data(SPI211Female)\n",
    "SPI211Male = pd.read_csv('./Social Sciences/SPI/SPI211 MALE.csv')\n",
    "SPI211Male = filter_data(SPI211Male)\n",
    "\n",
    "SPI310Female = pd.read_csv('./Social Sciences/SPI/SPI310 FEMALE.csv')\n",
    "SPI310Female = filter_data(SPI310Female)\n",
    "SPI310Male = pd.read_csv('./Social Sciences/SPI/SPI310 MALE.csv')\n",
    "SPI310Male = filter_data(SPI310Male)\n",
    "\n",
    "SPI312Female = pd.read_csv('./Social Sciences/SPI/SPI312 FEMALE.csv')\n",
    "SPI312Female = filter_data(SPI312Female)\n",
    "SPI312Male = pd.read_csv('./Social Sciences/SPI/SPI312 MALE.csv')\n",
    "SPI312Male = filter_data(SPI312Male)\n",
    "\n",
    "SPI316Female = pd.read_csv('./Social Sciences/SPI/SPI316 FEMALE.csv')\n",
    "SPI316Female = filter_data(SPI316Female)\n",
    "SPI316Male = pd.read_csv('./Social Sciences/SPI/SPI316 MALE.csv')\n",
    "SPI316Male = filter_data(SPI316Male)\n",
    "\n",
    "SPI370Female = pd.read_csv('./Social Sciences/SPI/SPI370 FEMALE.csv')\n",
    "SPI370Female = filter_data(SPI370Female)\n",
    "SPI370Male = pd.read_csv('./Social Sciences/SPI/SPI370 MALE.csv')\n",
    "SPI370Male = filter_data(SPI370Male)"
   ]
  },
  {
   "cell_type": "markdown",
   "metadata": {},
   "source": [
    "Engineering"
   ]
  },
  {
   "cell_type": "code",
   "execution_count": null,
   "metadata": {},
   "outputs": [],
   "source": [
    "# CEE\n",
    "CEE361Female = pd.read_csv('./Engineering/CEE/CEE361 FEMALE.csv')\n",
    "CEE361Female = filter_data(CEE361Female)\n",
    "CEE361Male = pd.read_csv('./Engineering/CEE/CEE361 MALE.csv')\n",
    "CEE361Male = filter_data(CEE361Male)\n",
    "\n",
    "CEE467Female = pd.read_csv('./Engineering/CEE/CEE467 FEMALE.csv')\n",
    "CEE467Female = filter_data(CEE467Female)\n",
    "CEE467Male = pd.read_csv('./Engineering/CEE/CEE467 MALE.csv')\n",
    "CEE467Male = filter_data(CEE467Male)"
   ]
  },
  {
   "cell_type": "code",
   "execution_count": null,
   "metadata": {},
   "outputs": [],
   "source": [
    "# COS\n",
    "COS217All = pd.read_csv('./Engineering/COS/COS217 ALL.csv')\n",
    "COS217All = filter_data(COS217All)\n",
    "\n",
    "COS226All = pd.read_csv('./Engineering/COS/COS226 ALL.csv')\n",
    "COS226All = filter_data(COS226All)\n",
    "\n",
    "COS302Female = pd.read_csv('./Engineering/COS/COS302 Female.csv')\n",
    "COS302Female = filter_data(COS302Female)\n",
    "COS302Male = pd.read_csv('./Engineering/COS/COS302 Male.csv')\n",
    "COS302Male = filter_data(COS302Male)\n",
    "\n",
    "COS316All = pd.read_csv('./Engineering/COS/COS316 ALL.csv')\n",
    "COS316All = filter_data(COS316All)\n",
    "\n",
    "COS323Female = pd.read_csv('./Engineering/COS/COS323 Female.csv')\n",
    "COS323Female = filter_data(COS323Female)\n",
    "COS323Male = pd.read_csv('./Engineering/COS/COS323 Male.csv')\n",
    "COS323Male = filter_data(COS323Male)\n",
    "\n",
    "COS324All = pd.read_csv('./Engineering/COS/COS324 ALL.csv')\n",
    "COS324All = filter_data(COS324All)\n",
    "\n",
    "COS484All = pd.read_csv('./Engineering/COS/COS484 ALL.csv')\n",
    "COS484All = filter_data(COS484All)\n",
    "\n",
    "COS516Female = pd.read_csv('./Engineering/COS/COS516 Female.csv')\n",
    "COS516Female = filter_data(COS516Female)\n",
    "COS516Male = pd.read_csv('./Engineering/COS/COS516 Male.csv')\n",
    "COS516Male = filter_data(COS516Male)"
   ]
  },
  {
   "cell_type": "code",
   "execution_count": null,
   "metadata": {},
   "outputs": [],
   "source": [
    "# MAE\n",
    "MAE434Female = pd.read_csv('./Engineering/MAE/MAE434 FEMALE.csv')\n",
    "MAE434Female = filter_data(MAE434Female)\n",
    "MAE434Male = pd.read_csv('./Engineering/CEE/CEE467 FEMALE.csv')\n",
    "MAE434Male = filter_data(MAE434Male)"
   ]
  },
  {
   "cell_type": "code",
   "execution_count": null,
   "metadata": {},
   "outputs": [],
   "source": [
    "# ORF\n",
    "ORF307Female = pd.read_csv('./Engineering/ORF/ORF307 FEMALE.csv')\n",
    "ORF307Female = filter_data(ORF307Female)\n",
    "ORF307Male = pd.read_csv('./Engineering/ORF/ORF307 MALE.csv')\n",
    "ORF307Male = filter_data(ORF307Male)"
   ]
  },
  {
   "cell_type": "markdown",
   "metadata": {},
   "source": [
    "Natural Sciences"
   ]
  },
  {
   "cell_type": "code",
   "execution_count": null,
   "metadata": {},
   "outputs": [],
   "source": [
    "# CHM\n",
    "CHM202All = pd.read_csv('./Natural Sciences/CHM/CHM202 ALL.csv')\n",
    "CHM202All = filter_data(CHM202All)\n",
    "\n",
    "CHM215All = pd.read_csv('./Natural Sciences/CHM/CHM215 ALL.csv')\n",
    "CHM215All = filter_data(CHM215All)"
   ]
  },
  {
   "cell_type": "code",
   "execution_count": null,
   "metadata": {},
   "outputs": [],
   "source": [
    "# EEB\n",
    "EEB351Female = pd.read_csv('./Natural Sciences/EEB/EEB351 FEMALE.csv')\n",
    "EEB351Female = filter_data(EEB351Female)\n",
    "EEB351Male = pd.read_csv('./Natural Sciences/EEB/EEB351 FEMALE.csv')\n",
    "EEB351Male = filter_data(EEB351Male)"
   ]
  },
  {
   "cell_type": "code",
   "execution_count": null,
   "metadata": {},
   "outputs": [],
   "source": [
    "# GEO\n",
    "GEO203Female = pd.read_csv('./Natural Sciences/GEO/GEO203 FEMALE.csv')\n",
    "GEO203Female = filter_data(GEO203Female)\n",
    "GEO203Male = pd.read_csv('./Natural Sciences/GEO/GEO203 MALE.csv')\n",
    "GEO203Male = filter_data(GEO203Male)"
   ]
  },
  {
   "cell_type": "code",
   "execution_count": null,
   "metadata": {},
   "outputs": [],
   "source": [
    "# MAT\n",
    "MAT100Female = pd.read_csv('./Natural Sciences/MAT/MAT100 FEMALE.csv')\n",
    "MAT100Female = filter_data(MAT100Female)\n",
    "MAT100Male = pd.read_csv('./Natural Sciences/MAT/MAT100 MALE.csv')\n",
    "MAT100Male = filter_data(MAT100Male)\n",
    "\n",
    "MAT300Female = pd.read_csv('./Natural Sciences/MAT/MAT300 FEMALE.csv')\n",
    "MAT300Female = filter_data(MAT100Female)\n",
    "MAT300Male = pd.read_csv('./Natural Sciences/MAT/MAT300 MALE.csv')\n",
    "MAT300Male = filter_data(MAT300Male)\n",
    "\n",
    "MAT345Female = pd.read_csv('./Natural Sciences/MAT/MAT345 FEMALE.csv')\n",
    "MAT345Female = filter_data(MAT345Female)\n",
    "MAT345Male = pd.read_csv('./Natural Sciences/MAT/MAT345 MALE.csv')\n",
    "MAT345Male = filter_data(MAT345Male)\n",
    "\n",
    "MAT385Female = pd.read_csv('./Natural Sciences/MAT/MAT385 FEMALE.csv')\n",
    "MAT385Female = filter_data(MAT385Female)\n",
    "MAT385Male = pd.read_csv('./Natural Sciences/MAT/MAT385 MALE.csv')\n",
    "MAT385Male = filter_data(MAT385Male)"
   ]
  },
  {
   "cell_type": "code",
   "execution_count": null,
   "metadata": {},
   "outputs": [],
   "source": [
    "# MOL\n",
    "MOL214All = pd.read_csv('./Natural Sciences/MOL/MOL214 ALL.csv')\n",
    "MOL214All = filter_data(MOL214All)\n",
    "\n",
    "MOL345Female = pd.read_csv('./Natural Sciences/MOL/MOL345 FEMALE.csv')\n",
    "MOL345Female = filter_data(MOL345Female)\n",
    "MOL345Male = pd.read_csv('./Natural Sciences/MOL/MOL345 MALE.csv')\n",
    "MOL345Male = filter_data(MOL345Male)"
   ]
  },
  {
   "cell_type": "code",
   "execution_count": null,
   "metadata": {},
   "outputs": [],
   "source": [
    "# PSY\n",
    "PSY101Female = pd.read_csv('./Natural Sciences/PSY/PSY101 FEMALE.csv')\n",
    "PSY101Female = filter_data(PSY101Female)\n",
    "PSY101Male = pd.read_csv('./Natural Sciences/PSY/PSY101 MALE.csv')\n",
    "PSY101Male = filter_data(PSY101Male)\n",
    "\n",
    "PSY255Female = pd.read_csv('./Natural Sciences/PSY/PSY255 FEMALE.csv')\n",
    "PSY255Female = filter_data(PSY255Female)\n",
    "PSY255Male = pd.read_csv('./Natural Sciences/PSY/PSY255 MALE.csv')\n",
    "PSY255Male = filter_data(PSY255Male)"
   ]
  },
  {
   "cell_type": "markdown",
   "metadata": {},
   "source": [
    "Humanities"
   ]
  },
  {
   "cell_type": "code",
   "execution_count": null,
   "metadata": {},
   "outputs": [],
   "source": [
    "# AAS\n",
    "AAS303Female = pd.read_csv('./Humanities/AAS/AAS303 FEMALE.csv')\n",
    "AAS303Female = filter_data(AAS303Female)\n",
    "AAS303Male = pd.read_csv('./Humanities/AAS/AAS303 MALE.csv')\n",
    "AAS303Male = filter_data(AAS303Male)\n",
    "\n",
    "AAS367Female = pd.read_csv('./Humanities/AAS/AAS367 FEMALE.csv')\n",
    "AAS367Female = filter_data(AAS303Female)\n",
    "AAS367Male = pd.read_csv('./Humanities/AAS/AAS367 MALE.csv')\n",
    "AAS367Male = filter_data(AAS367Male)\n",
    "\n",
    "AAS367Female = pd.read_csv('./Humanities/AAS/AAS367 FEMALE.csv')\n",
    "AAS367Female = filter_data(AAS303Female)\n",
    "AAS367Male = pd.read_csv('./Humanities/AAS/AAS367 MALE.csv')\n",
    "AAS367Male = filter_data(AAS367Male)\n",
    "\n",
    "AAS393All = pd.read_csv('./Humanities/AAS/AAS393 ALL.csv')\n",
    "AAS393All = filter_data(AAS393All)\n",
    "AAS393Male = pd.read_csv('./Humanities/AAS/AAS393 MALE.csv')\n",
    "AAS393Male = filter_data(AAS393Male)"
   ]
  },
  {
   "cell_type": "code",
   "execution_count": null,
   "metadata": {},
   "outputs": [],
   "source": [
    "# ARC\n",
    "ARC205Female = pd.read_csv('./Humanities/ARC/ARC205 FEMALE.csv')\n",
    "ARC205Female = filter_data(ARC205Female)\n",
    "ARC205Male = pd.read_csv('./Humanities/ARC/ARC205 MALE.csv')\n",
    "ARC205Male = filter_data(ARC205Male)\n",
    "\n",
    "ARC311Female = pd.read_csv('./Humanities/ARC/ARC311 FEMALE.csv')\n",
    "ARC311Female = filter_data(ARC311Female)\n",
    "ARC311Male = pd.read_csv('./Humanities/ARC/ARC311 MALE.csv')\n",
    "ARC311Male = filter_data(ARC311Male)\n",
    "\n",
    "ARC350Female = pd.read_csv('./Humanities/ARC/ARC350 FEMALE.csv')\n",
    "ARC350Female = filter_data(ARC350Female)\n",
    "ARC350Male = pd.read_csv('./Humanities/ARC/ARC350 MALE.csv')\n",
    "ARC350Male = filter_data(ARC350Male)\n",
    "\n",
    "ARC505BFemale = pd.read_csv('./Humanities/ARC/ARC505B FEMALE.csv')\n",
    "ARC505BFemale = filter_data(ARC505BFemale)\n",
    "ARC505BMale = pd.read_csv('./Humanities/ARC/ARC505B MALE.csv')\n",
    "ARC505BMale = filter_data(ARC505BMale)\n",
    "\n",
    "ARC577Female = pd.read_csv('./Humanities/ARC/ARC577 FEMALE.csv')\n",
    "ARC577Female = filter_data(ARC577Female)\n",
    "ARC577Male = pd.read_csv('./Humanities/ARC/ARC577 MALE.csv')\n",
    "ARC577Male = filter_data(ARC577Male)"
   ]
  },
  {
   "cell_type": "code",
   "execution_count": null,
   "metadata": {},
   "outputs": [],
   "source": [
    "# CLA\n",
    "CLA219Female = pd.read_csv('./Humanities/CLA/CLA219 FEMALE.csv')\n",
    "CLA219Female = filter_data(CLA219Female)\n",
    "CLA219Male = pd.read_csv('./Humanities/CLA/CLA219 MALE.csv')\n",
    "CLA219Male = filter_data(CLA219Male)\n",
    "\n",
    "CLA326Female = pd.read_csv('./Humanities/CLA/CLA326 FEMALE.csv')\n",
    "CLA326Female = filter_data(CLA326Female)\n",
    "CLA326Male = pd.read_csv('./Humanities/CLA/CLA326 MALE.csv')\n",
    "CLA326Male = filter_data(CLA326Male)"
   ]
  },
  {
   "cell_type": "code",
   "execution_count": null,
   "metadata": {},
   "outputs": [],
   "source": [
    "# ENG\n",
    "ENG200Female = pd.read_csv('./Humanities/ENG/ENG200 FEMALE.csv')\n",
    "ENG200Female = filter_data(ENG200Female)\n",
    "ENG200Male = pd.read_csv('./Humanities/ENG/ENG200 MALE.csv')\n",
    "ENG200Male = filter_data(ENG200Male)"
   ]
  },
  {
   "cell_type": "code",
   "execution_count": null,
   "metadata": {},
   "outputs": [],
   "source": [
    "# GER\n",
    "GER101Female = pd.read_csv('./Humanities/GER/GER101 FEMALE.csv')\n",
    "GER101Female = filter_data(GER101Female)\n",
    "GER101Male = pd.read_csv('./Humanities/GER/GER101 MALE.csv')\n",
    "GER101Male = filter_data(GER101Male)\n",
    "\n",
    "GER306Female = pd.read_csv('./Humanities/GER/GER306 FEMALE.csv')\n",
    "GER306Female = filter_data(GER306Female)\n",
    "GER306Male = pd.read_csv('./Humanities/GER/GER306 MALE.csv')\n",
    "GER306Male = filter_data(GER306Male)"
   ]
  },
  {
   "cell_type": "code",
   "execution_count": null,
   "metadata": {},
   "outputs": [],
   "source": [
    "# HIS\n",
    "HIS361Female = pd.read_csv('./Humanities/HIS/HIS361 FEMALE.csv')\n",
    "HIS361Female = filter_data(HIS361Female)\n",
    "HIS361Male = pd.read_csv('./Humanities/HIS/HIS361 MALE.csv')\n",
    "HIS361Male = filter_data(HIS361Male)"
   ]
  },
  {
   "cell_type": "code",
   "execution_count": null,
   "metadata": {},
   "outputs": [],
   "source": [
    "# MUS\n",
    "MUS106Female = pd.read_csv('./Humanities/MUS/MUS106 FEMALE.csv')\n",
    "MUS106Female = filter_data(MUS106Female)\n",
    "MUS106Male = pd.read_csv('./Humanities/MUS/MUS106 MALE.csv')\n",
    "MUS106Male = filter_data(MUS106Male)"
   ]
  },
  {
   "cell_type": "code",
   "execution_count": null,
   "metadata": {},
   "outputs": [],
   "source": [
    "# PHI\n",
    "PHI201Female = pd.read_csv('./Humanities/PHI/PHI201 FEMALE.csv')\n",
    "PHI201Female = filter_data(PHI201Female)\n",
    "PHI201Male = pd.read_csv('./Humanities/PHI/PHI201 MALE.csv')\n",
    "PHI201Male = filter_data(PHI201Male)\n",
    "\n",
    "PHI307Female = pd.read_csv('./Humanities/PHI/PHI307 FEMALE.csv')\n",
    "PHI307Female = filter_data(PHI307Female)\n",
    "PHI307Male = pd.read_csv('./Humanities/PHI/PHI307 MALE.csv')\n",
    "PHI307Male = filter_data(PHI307Male)"
   ]
  }
 ],
 "metadata": {
  "interpreter": {
   "hash": "5e58bded8b861db228de834c0a8e427033f98ff8854eeaa03613244e67778765"
  },
  "kernelspec": {
   "display_name": "Python 3.10.2 64-bit",
   "language": "python",
   "name": "python3"
  },
  "language_info": {
   "codemirror_mode": {
    "name": "ipython",
    "version": 3
   },
   "file_extension": ".py",
   "mimetype": "text/x-python",
   "name": "python",
   "nbconvert_exporter": "python",
   "pygments_lexer": "ipython3",
   "version": "3.10.2"
  },
  "orig_nbformat": 4
 },
 "nbformat": 4,
 "nbformat_minor": 2
}
