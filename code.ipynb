{
 "cells": [
  {
   "cell_type": "code",
   "execution_count": 29,
   "metadata": {},
   "outputs": [],
   "source": [
    "import pandas as pd\n",
    "from vaderSentiment.vaderSentiment import SentimentIntensityAnalyzer"
   ]
  },
  {
   "cell_type": "code",
   "execution_count": 30,
   "metadata": {},
   "outputs": [],
   "source": [
    "def filter_data(df):\n",
    "    df = df.iloc[1: , :]\n",
    "    second_column = df.columns[1]\n",
    "    third_column = df.columns[2]\n",
    "    df = df.drop([second_column], axis=1)\n",
    "    df = df.drop([third_column], axis=1)\n",
    "    df.rename(columns = {'Please Note' : 'Evaluation'}, inplace = True)\n",
    "    return df"
   ]
  },
  {
   "cell_type": "code",
   "execution_count": 31,
   "metadata": {},
   "outputs": [],
   "source": [
    "def analyzeEvaluation(df):\n",
    "    length = len(df)\n",
    "    sentiments = []\n",
    "    analyzer = SentimentIntensityAnalyzer()\n",
    "    evaluations = df['Evaluation'].tolist()\n",
    "    for index in range(length):\n",
    "        vs = analyzer.polarity_scores(str(evaluations[index]))\n",
    "        sentiments.append(str(vs))\n",
    "    df['Sentiment'] = sentiments"
   ]
  },
  {
   "cell_type": "markdown",
   "metadata": {},
   "source": [
    "Social Sciences"
   ]
  },
  {
   "cell_type": "code",
   "execution_count": 32,
   "metadata": {},
   "outputs": [],
   "source": [
    "socialSciences = []"
   ]
  },
  {
   "cell_type": "code",
   "execution_count": 58,
   "metadata": {},
   "outputs": [],
   "source": [
    "# ANT\n",
    "ANT300Female = pd.read_csv('./Social Sciences/ANT/ANT300 FEMALE.csv')\n",
    "ANT300Female = filter_data(ANT300Female)\n",
    "ANT300Male = pd.read_csv('./Social Sciences/ANT/ANT300 MALE.csv')\n",
    "ANT300Male = filter_data(ANT300Male)\n",
    "\n",
    "socialSciences.append(ANT300Female)\n",
    "socialSciences.append(ANT300Male)"
   ]
  },
  {
   "cell_type": "code",
   "execution_count": 34,
   "metadata": {},
   "outputs": [],
   "source": [
    "# ECO\n",
    "ECO100Female = pd.read_csv('./Social Sciences/ECO/ECO100 FEMALE.csv')\n",
    "ECO100Female = filter_data(ECO100Female)\n",
    "ECO100Male = pd.read_csv('./Social Sciences/ECO/ECO100 MALE.csv')\n",
    "ECO100Male = filter_data(ECO100Male)\n",
    "\n",
    "ECO101Female = pd.read_csv('./Social Sciences/ECO/ECO101 FEMALE.csv')\n",
    "ECO101Female = filter_data(ECO101Female)\n",
    "ECO101Male = pd.read_csv('./Social Sciences/ECO/ECO101 MALE.csv')\n",
    "ECO101Male = filter_data(ECO101Male)\n",
    "\n",
    "ECO300Female = pd.read_csv('./Social Sciences/ECO/ECO300 FEMALE.csv')\n",
    "ECO300Female = filter_data(ECO300Female)\n",
    "ECO300Male = pd.read_csv('./Social Sciences/ECO/ECO300 MALE.csv')\n",
    "ECO300Male = filter_data(ECO300Male)\n",
    "\n",
    "ECO301Female = pd.read_csv('./Social Sciences/ECO/ECO301 FEMALE.csv')\n",
    "ECO301Female = filter_data(ECO301Female)\n",
    "ECO301Male = pd.read_csv('./Social Sciences/ECO/ECO301 MALE.csv')\n",
    "ECO301Male = filter_data(ECO301Male)\n",
    "\n",
    "ECO310Female = pd.read_csv('./Social Sciences/ECO/ECO310 FEMALE.csv')\n",
    "ECO310Female = filter_data(ECO310Female)\n",
    "ECO310Male = pd.read_csv('./Social Sciences/ECO/ECO310 MALE.csv')\n",
    "ECO310Male = filter_data(ECO310Male)\n",
    "\n",
    "socialSciences.append(ECO100Male)\n",
    "socialSciences.append(ECO100Female)\n",
    "socialSciences.append(ECO101Male)\n",
    "socialSciences.append(ECO101Female)\n",
    "socialSciences.append(ECO300Female)\n",
    "socialSciences.append(ECO300Male)\n",
    "socialSciences.append(ECO301Male)\n",
    "socialSciences.append(ECO301Female)\n",
    "socialSciences.append(ECO310Female)\n",
    "socialSciences.append(ECO310Male)"
   ]
  },
  {
   "cell_type": "code",
   "execution_count": 35,
   "metadata": {},
   "outputs": [],
   "source": [
    "# POL\n",
    "POL210Female = pd.read_csv('./Social Sciences/POL/POL210 FEMALE.csv')\n",
    "POL210Female = filter_data(POL210Female)\n",
    "POL210Male = pd.read_csv('./Social Sciences/POL/POL210 MALE.csv')\n",
    "POL210Male = filter_data(POL210Male)\n",
    "\n",
    "POL220Female = pd.read_csv('./Social Sciences/POL/POL220 FEMALE.csv')\n",
    "POL220Female = filter_data(POL220Female)\n",
    "POL220Male = pd.read_csv('./Social Sciences/POL/POL220 MALE.csv')\n",
    "POL220Male = filter_data(POL220Male)\n",
    "\n",
    "socialSciences.append(POL220Male)\n",
    "socialSciences.append(POL220Female)\n",
    "socialSciences.append(POL210Male)\n",
    "socialSciences.append(POL210Female)"
   ]
  },
  {
   "cell_type": "code",
   "execution_count": 36,
   "metadata": {},
   "outputs": [],
   "source": [
    "# SOC\n",
    "SOC302Female = pd.read_csv('./Social Sciences/SOC/SOC302 FEMALE.csv')\n",
    "SOC302Female = filter_data(SOC302Female)\n",
    "SOC302Male = pd.read_csv('./Social Sciences/SOC/SOC302 MALE.csv')\n",
    "SOC302Male = filter_data(SOC302Male)\n",
    "\n",
    "socialSciences.append(SOC302Male)\n",
    "socialSciences.append(SOC302Female)"
   ]
  },
  {
   "cell_type": "code",
   "execution_count": 37,
   "metadata": {},
   "outputs": [],
   "source": [
    "# SPI\n",
    "SPI211Female = pd.read_csv('./Social Sciences/SPI/SPI211 FEMALE.csv')\n",
    "SPI211Female = filter_data(SPI211Female)\n",
    "SPI211Male = pd.read_csv('./Social Sciences/SPI/SPI211 MALE.csv')\n",
    "SPI211Male = filter_data(SPI211Male)\n",
    "\n",
    "SPI310Female = pd.read_csv('./Social Sciences/SPI/SPI310 FEMALE.csv')\n",
    "SPI310Female = filter_data(SPI310Female)\n",
    "SPI310Male = pd.read_csv('./Social Sciences/SPI/SPI310 MALE.csv')\n",
    "SPI310Male = filter_data(SPI310Male)\n",
    "\n",
    "SPI312Female = pd.read_csv('./Social Sciences/SPI/SPI312 FEMALE.csv')\n",
    "SPI312Female = filter_data(SPI312Female)\n",
    "SPI312Male = pd.read_csv('./Social Sciences/SPI/SPI312 MALE.csv')\n",
    "SPI312Male = filter_data(SPI312Male)\n",
    "\n",
    "SPI316Female = pd.read_csv('./Social Sciences/SPI/SPI316 FEMALE.csv')\n",
    "SPI316Female = filter_data(SPI316Female)\n",
    "SPI316Male = pd.read_csv('./Social Sciences/SPI/SPI316 MALE.csv')\n",
    "SPI316Male = filter_data(SPI316Male)\n",
    "\n",
    "SPI370Female = pd.read_csv('./Social Sciences/SPI/SPI370 FEMALE.csv')\n",
    "SPI370Female = filter_data(SPI370Female)\n",
    "SPI370Male = pd.read_csv('./Social Sciences/SPI/SPI370 MALE.csv')\n",
    "SPI370Male = filter_data(SPI370Male)\n",
    "\n",
    "socialSciences.append(SPI211Female)\n",
    "socialSciences.append(SPI211Male)\n",
    "socialSciences.append(SPI310Female)\n",
    "socialSciences.append(SPI310Male)\n",
    "socialSciences.append(SPI316Male)\n",
    "socialSciences.append(SPI316Female)\n",
    "socialSciences.append(SPI312Female)\n",
    "socialSciences.append(SPI312Male)\n",
    "socialSciences.append(SPI370Male)\n",
    "socialSciences.append(SPI370Female)"
   ]
  },
  {
   "cell_type": "markdown",
   "metadata": {},
   "source": [
    "Engineering"
   ]
  },
  {
   "cell_type": "code",
   "execution_count": 38,
   "metadata": {},
   "outputs": [],
   "source": [
    "# CEE\n",
    "CEE361Female = pd.read_csv('./Engineering/CEE/CEE361 FEMALE.csv')\n",
    "CEE361Female = filter_data(CEE361Female)\n",
    "CEE361Male = pd.read_csv('./Engineering/CEE/CEE361 MALE.csv')\n",
    "CEE361Male = filter_data(CEE361Male)\n",
    "\n",
    "CEE467Female = pd.read_csv('./Engineering/CEE/CEE467 FEMALE.csv')\n",
    "CEE467Female = filter_data(CEE467Female)\n",
    "CEE467Male = pd.read_csv('./Engineering/CEE/CEE467 MALE.csv')\n",
    "CEE467Male = filter_data(CEE467Male)"
   ]
  },
  {
   "cell_type": "code",
   "execution_count": 39,
   "metadata": {},
   "outputs": [],
   "source": [
    "# COS\n",
    "COS217All = pd.read_csv('./Engineering/COS/COS217 ALL.csv')\n",
    "COS217All = filter_data(COS217All)\n",
    "\n",
    "COS226All = pd.read_csv('./Engineering/COS/COS226 ALL.csv')\n",
    "COS226All = filter_data(COS226All)\n",
    "\n",
    "COS302Female = pd.read_csv('./Engineering/COS/COS302 Female.csv')\n",
    "COS302Female = filter_data(COS302Female)\n",
    "COS302Male = pd.read_csv('./Engineering/COS/COS302 Male.csv')\n",
    "COS302Male = filter_data(COS302Male)\n",
    "\n",
    "COS316All = pd.read_csv('./Engineering/COS/COS316 ALL.csv')\n",
    "COS316All = filter_data(COS316All)\n",
    "\n",
    "COS323Female = pd.read_csv('./Engineering/COS/COS323 Female.csv')\n",
    "COS323Female = filter_data(COS323Female)\n",
    "COS323Male = pd.read_csv('./Engineering/COS/COS323 Male.csv')\n",
    "COS323Male = filter_data(COS323Male)\n",
    "\n",
    "COS324All = pd.read_csv('./Engineering/COS/COS324 ALL.csv')\n",
    "COS324All = filter_data(COS324All)\n",
    "\n",
    "COS484All = pd.read_csv('./Engineering/COS/COS484 ALL.csv')\n",
    "COS484All = filter_data(COS484All)\n",
    "\n",
    "COS516Female = pd.read_csv('./Engineering/COS/COS516 Female.csv')\n",
    "COS516Female = filter_data(COS516Female)\n",
    "COS516Male = pd.read_csv('./Engineering/COS/COS516 Male.csv')\n",
    "COS516Male = filter_data(COS516Male)"
   ]
  },
  {
   "cell_type": "code",
   "execution_count": 40,
   "metadata": {},
   "outputs": [],
   "source": [
    "# MAE\n",
    "MAE434Female = pd.read_csv('./Engineering/MAE/MAE434 FEMALE.csv')\n",
    "MAE434Female = filter_data(MAE434Female)\n",
    "MAE434Male = pd.read_csv('./Engineering/CEE/CEE467 FEMALE.csv')\n",
    "MAE434Male = filter_data(MAE434Male)"
   ]
  },
  {
   "cell_type": "code",
   "execution_count": 41,
   "metadata": {},
   "outputs": [],
   "source": [
    "# ORF\n",
    "ORF307Female = pd.read_csv('./Engineering/ORF/ORF307 FEMALE.csv')\n",
    "ORF307Female = filter_data(ORF307Female)\n",
    "ORF307Male = pd.read_csv('./Engineering/ORF/ORF307 MALE.csv')\n",
    "ORF307Male = filter_data(ORF307Male)"
   ]
  },
  {
   "cell_type": "markdown",
   "metadata": {},
   "source": [
    "Natural Sciences"
   ]
  },
  {
   "cell_type": "code",
   "execution_count": 42,
   "metadata": {},
   "outputs": [],
   "source": [
    "# CHM\n",
    "CHM202All = pd.read_csv('./Natural Sciences/CHM/CHM202 ALL.csv')\n",
    "CHM202All = filter_data(CHM202All)\n",
    "\n",
    "CHM215All = pd.read_csv('./Natural Sciences/CHM/CHM215 ALL.csv')\n",
    "CHM215All = filter_data(CHM215All)"
   ]
  },
  {
   "cell_type": "code",
   "execution_count": 43,
   "metadata": {},
   "outputs": [],
   "source": [
    "# EEB\n",
    "EEB351Female = pd.read_csv('./Natural Sciences/EEB/EEB351 FEMALE.csv')\n",
    "EEB351Female = filter_data(EEB351Female)\n",
    "EEB351Male = pd.read_csv('./Natural Sciences/EEB/EEB351 FEMALE.csv')\n",
    "EEB351Male = filter_data(EEB351Male)"
   ]
  },
  {
   "cell_type": "code",
   "execution_count": 44,
   "metadata": {},
   "outputs": [],
   "source": [
    "# GEO\n",
    "GEO203Female = pd.read_csv('./Natural Sciences/GEO/GEO203 FEMALE.csv')\n",
    "GEO203Female = filter_data(GEO203Female)\n",
    "GEO203Male = pd.read_csv('./Natural Sciences/GEO/GEO203 MALE.csv')\n",
    "GEO203Male = filter_data(GEO203Male)"
   ]
  },
  {
   "cell_type": "code",
   "execution_count": 45,
   "metadata": {},
   "outputs": [],
   "source": [
    "# MAT\n",
    "MAT100Female = pd.read_csv('./Natural Sciences/MAT/MAT100 FEMALE.csv')\n",
    "MAT100Female = filter_data(MAT100Female)\n",
    "MAT100Male = pd.read_csv('./Natural Sciences/MAT/MAT100 MALE.csv')\n",
    "MAT100Male = filter_data(MAT100Male)\n",
    "\n",
    "MAT300Female = pd.read_csv('./Natural Sciences/MAT/MAT300 FEMALE.csv')\n",
    "MAT300Female = filter_data(MAT300Female)\n",
    "MAT300Male = pd.read_csv('./Natural Sciences/MAT/MAT300 MALE.csv')\n",
    "MAT300Male = filter_data(MAT300Male)\n",
    "\n",
    "MAT345Female = pd.read_csv('./Natural Sciences/MAT/MAT345 FEMALE.csv')\n",
    "MAT345Female = filter_data(MAT345Female)\n",
    "MAT345Male = pd.read_csv('./Natural Sciences/MAT/MAT345 MALE.csv')\n",
    "MAT345Male = filter_data(MAT345Male)\n",
    "\n",
    "MAT385Female = pd.read_csv('./Natural Sciences/MAT/MAT385 FEMALE.csv')\n",
    "MAT385Female = filter_data(MAT385Female)\n",
    "MAT385Male = pd.read_csv('./Natural Sciences/MAT/MAT385 MALE.csv')\n",
    "MAT385Male = filter_data(MAT385Male)"
   ]
  },
  {
   "cell_type": "code",
   "execution_count": 46,
   "metadata": {},
   "outputs": [],
   "source": [
    "# MOL\n",
    "MOL214All = pd.read_csv('./Natural Sciences/MOL/MOL214 ALL.csv')\n",
    "MOL214All = filter_data(MOL214All)\n",
    "\n",
    "MOL345Female = pd.read_csv('./Natural Sciences/MOL/MOL345 FEMALE.csv')\n",
    "MOL345Female = filter_data(MOL345Female)\n",
    "MOL345Male = pd.read_csv('./Natural Sciences/MOL/MOL345 MALE.csv')\n",
    "MOL345Male = filter_data(MOL345Male)"
   ]
  },
  {
   "cell_type": "code",
   "execution_count": 47,
   "metadata": {},
   "outputs": [],
   "source": [
    "# PSY\n",
    "PSY101Female = pd.read_csv('./Natural Sciences/PSY/PSY101 FEMALE.csv')\n",
    "PSY101Female = filter_data(PSY101Female)\n",
    "PSY101Male = pd.read_csv('./Natural Sciences/PSY/PSY101 MALE.csv')\n",
    "PSY101Male = filter_data(PSY101Male)\n",
    "\n",
    "PSY255Female = pd.read_csv('./Natural Sciences/PSY/PSY255 FEMALE.csv')\n",
    "PSY255Female = filter_data(PSY255Female)\n",
    "PSY255Male = pd.read_csv('./Natural Sciences/PSY/PSY255 MALE.csv')\n",
    "PSY255Male = filter_data(PSY255Male)"
   ]
  },
  {
   "cell_type": "markdown",
   "metadata": {},
   "source": [
    "Humanities"
   ]
  },
  {
   "cell_type": "code",
   "execution_count": 48,
   "metadata": {},
   "outputs": [],
   "source": [
    "# AAS\n",
    "AAS303Female = pd.read_csv('./Humanities/AAS/AAS303 FEMALE.csv')\n",
    "AAS303Female = filter_data(AAS303Female)\n",
    "AAS303Male = pd.read_csv('./Humanities/AAS/AAS303 MALE.csv')\n",
    "AAS303Male = filter_data(AAS303Male)\n",
    "\n",
    "AAS367Female = pd.read_csv('./Humanities/AAS/AAS367 FEMALE.csv')\n",
    "AAS367Female = filter_data(AAS367Female)\n",
    "AAS367Male = pd.read_csv('./Humanities/AAS/AAS367 MALE.csv')\n",
    "AAS367Male = filter_data(AAS367Male)\n",
    "\n",
    "AAS393All = pd.read_csv('./Humanities/AAS/AAS393 ALL.csv')\n",
    "AAS393All = filter_data(AAS393All)\n",
    "AAS393Male = pd.read_csv('./Humanities/AAS/AAS393 MALE.csv')\n",
    "AAS393Male = filter_data(AAS393Male)"
   ]
  },
  {
   "cell_type": "code",
   "execution_count": 49,
   "metadata": {},
   "outputs": [],
   "source": [
    "# ARC\n",
    "ARC205Female = pd.read_csv('./Humanities/ARC/ARC205 FEMALE.csv')\n",
    "ARC205Female = filter_data(ARC205Female)\n",
    "ARC205Male = pd.read_csv('./Humanities/ARC/ARC205 MALE.csv')\n",
    "ARC205Male = filter_data(ARC205Male)\n",
    "\n",
    "ARC311Female = pd.read_csv('./Humanities/ARC/ARC311 FEMALE.csv')\n",
    "ARC311Female = filter_data(ARC311Female)\n",
    "ARC311Male = pd.read_csv('./Humanities/ARC/ARC311 MALE.csv')\n",
    "ARC311Male = filter_data(ARC311Male)\n",
    "\n",
    "ARC350Female = pd.read_csv('./Humanities/ARC/ARC350 FEMALE.csv')\n",
    "ARC350Female = filter_data(ARC350Female)\n",
    "ARC350Male = pd.read_csv('./Humanities/ARC/ARC350 MALE.csv')\n",
    "ARC350Male = filter_data(ARC350Male)\n",
    "\n",
    "ARC505BFemale = pd.read_csv('./Humanities/ARC/ARC505B FEMALE.csv')\n",
    "ARC505BFemale = filter_data(ARC505BFemale)\n",
    "ARC505BMale = pd.read_csv('./Humanities/ARC/ARC505B MALE.csv')\n",
    "ARC505BMale = filter_data(ARC505BMale)\n",
    "\n",
    "ARC577Female = pd.read_csv('./Humanities/ARC/ARC577 FEMALE.csv')\n",
    "ARC577Female = filter_data(ARC577Female)\n",
    "ARC577Male = pd.read_csv('./Humanities/ARC/ARC577 MALE.csv')\n",
    "ARC577Male = filter_data(ARC577Male)"
   ]
  },
  {
   "cell_type": "code",
   "execution_count": 50,
   "metadata": {},
   "outputs": [],
   "source": [
    "# CLA\n",
    "CLA219Female = pd.read_csv('./Humanities/CLA/CLA219 FEMALE.csv')\n",
    "CLA219Female = filter_data(CLA219Female)\n",
    "CLA219Male = pd.read_csv('./Humanities/CLA/CLA219 MALE.csv')\n",
    "CLA219Male = filter_data(CLA219Male)\n",
    "\n",
    "CLA326Female = pd.read_csv('./Humanities/CLA/CLA326 FEMALE.csv')\n",
    "CLA326Female = filter_data(CLA326Female)\n",
    "CLA326Male = pd.read_csv('./Humanities/CLA/CLA326 MALE.csv')\n",
    "CLA326Male = filter_data(CLA326Male)"
   ]
  },
  {
   "cell_type": "code",
   "execution_count": 51,
   "metadata": {},
   "outputs": [],
   "source": [
    "# ENG\n",
    "ENG200Female = pd.read_csv('./Humanities/ENG/ENG200 FEMALE.csv')\n",
    "ENG200Female = filter_data(ENG200Female)\n",
    "ENG200Male = pd.read_csv('./Humanities/ENG/ENG200 MALE.csv')\n",
    "ENG200Male = filter_data(ENG200Male)"
   ]
  },
  {
   "cell_type": "code",
   "execution_count": 52,
   "metadata": {},
   "outputs": [],
   "source": [
    "# GER\n",
    "GER101Female = pd.read_csv('./Humanities/GER/GER101 FEMALE.csv')\n",
    "GER101Female = filter_data(GER101Female)\n",
    "GER101Male = pd.read_csv('./Humanities/GER/GER101 MALE.csv')\n",
    "GER101Male = filter_data(GER101Male)\n",
    "\n",
    "GER306Female = pd.read_csv('./Humanities/GER/GER306 FEMALE.csv')\n",
    "GER306Female = filter_data(GER306Female)\n",
    "GER306Male = pd.read_csv('./Humanities/GER/GER306 MALE.csv')\n",
    "GER306Male = filter_data(GER306Male)"
   ]
  },
  {
   "cell_type": "code",
   "execution_count": 53,
   "metadata": {},
   "outputs": [],
   "source": [
    "# HIS\n",
    "HIS361Female = pd.read_csv('./Humanities/HIS/HIS361 FEMALE.csv')\n",
    "HIS361Female = filter_data(HIS361Female)\n",
    "HIS361Male = pd.read_csv('./Humanities/HIS/HIS361 MALE.csv')\n",
    "HIS361Male = filter_data(HIS361Male)"
   ]
  },
  {
   "cell_type": "code",
   "execution_count": 54,
   "metadata": {},
   "outputs": [],
   "source": [
    "# MUS\n",
    "MUS106Female = pd.read_csv('./Humanities/MUS/MUS106 FEMALE.csv')\n",
    "MUS106Female = filter_data(MUS106Female)\n",
    "MUS106Male = pd.read_csv('./Humanities/MUS/MUS106 MALE.csv')\n",
    "MUS106Male = filter_data(MUS106Male)"
   ]
  },
  {
   "cell_type": "code",
   "execution_count": 55,
   "metadata": {},
   "outputs": [],
   "source": [
    "# PHI\n",
    "PHI201Female = pd.read_csv('./Humanities/PHI/PHI201 FEMALE.csv')\n",
    "PHI201Female = filter_data(PHI201Female)\n",
    "PHI201Male = pd.read_csv('./Humanities/PHI/PHI201 MALE.csv')\n",
    "PHI201Male = filter_data(PHI201Male)\n",
    "\n",
    "PHI307Female = pd.read_csv('./Humanities/PHI/PHI307 FEMALE.csv')\n",
    "PHI307Female = filter_data(PHI307Female)\n",
    "PHI307Male = pd.read_csv('./Humanities/PHI/PHI307 MALE.csv')\n",
    "PHI307Male = filter_data(PHI307Male)"
   ]
  },
  {
   "cell_type": "code",
   "execution_count": 56,
   "metadata": {},
   "outputs": [
    {
     "data": {
      "text/plain": [
       "\"Everything about this course was organized poorly. From the prof showing up late and having her laptop die 10 minutes into lecture, to the impossible to read handwriting for examples, to the poor explanations of concepts. I also got a different grade than my friend for the exact same work on a collaborative exam so grading could definitely be made more consistent too. That being said this course is an easy A and if you have a good preceptor you'll learn everything you need to know. I honestly feel like if the course was better organized, you could learn everything you learn in the semester in half the time.\""
      ]
     },
     "execution_count": 56,
     "metadata": {},
     "output_type": "execute_result"
    }
   ],
   "source": [
    "PHI201Female['Evaluation'][76]"
   ]
  },
  {
   "cell_type": "code",
   "execution_count": null,
   "metadata": {},
   "outputs": [],
   "source": []
  },
  {
   "cell_type": "code",
   "execution_count": 57,
   "metadata": {},
   "outputs": [
    {
     "data": {
      "text/html": [
       "<div>\n",
       "<style scoped>\n",
       "    .dataframe tbody tr th:only-of-type {\n",
       "        vertical-align: middle;\n",
       "    }\n",
       "\n",
       "    .dataframe tbody tr th {\n",
       "        vertical-align: top;\n",
       "    }\n",
       "\n",
       "    .dataframe thead th {\n",
       "        text-align: right;\n",
       "    }\n",
       "</style>\n",
       "<table border=\"1\" class=\"dataframe\">\n",
       "  <thead>\n",
       "    <tr style=\"text-align: right;\">\n",
       "      <th></th>\n",
       "      <th>Evaluation</th>\n",
       "      <th>Sentiment</th>\n",
       "    </tr>\n",
       "  </thead>\n",
       "  <tbody>\n",
       "    <tr>\n",
       "      <th>1</th>\n",
       "      <td>Make sure to review the lecture slides, becaus...</td>\n",
       "      <td>{'neg': 0.0, 'neu': 0.782, 'pos': 0.218, 'comp...</td>\n",
       "    </tr>\n",
       "    <tr>\n",
       "      <th>2</th>\n",
       "      <td>Easy 5th. More of a linguistics or philosophy ...</td>\n",
       "      <td>{'neg': 0.0, 'neu': 0.736, 'pos': 0.264, 'comp...</td>\n",
       "    </tr>\n",
       "    <tr>\n",
       "      <th>3</th>\n",
       "      <td>Took it freshman spring as a fifth with my bse...</td>\n",
       "      <td>{'neg': 0.086, 'neu': 0.884, 'pos': 0.03, 'com...</td>\n",
       "    </tr>\n",
       "    <tr>\n",
       "      <th>4</th>\n",
       "      <td>Class is well taught and made me feel like I w...</td>\n",
       "      <td>{'neg': 0.0, 'neu': 0.859, 'pos': 0.141, 'comp...</td>\n",
       "    </tr>\n",
       "    <tr>\n",
       "      <th>5</th>\n",
       "      <td>I'd recommend to choose whether you'll self-st...</td>\n",
       "      <td>{'neg': 0.0, 'neu': 0.887, 'pos': 0.113, 'comp...</td>\n",
       "    </tr>\n",
       "    <tr>\n",
       "      <th>...</th>\n",
       "      <td>...</td>\n",
       "      <td>...</td>\n",
       "    </tr>\n",
       "    <tr>\n",
       "      <th>73</th>\n",
       "      <td>I would say to make sure to keep up with the r...</td>\n",
       "      <td>{'neg': 0.0, 'neu': 0.812, 'pos': 0.188, 'comp...</td>\n",
       "    </tr>\n",
       "    <tr>\n",
       "      <th>74</th>\n",
       "      <td>If you take it with Prof. Stojinic, she will j...</td>\n",
       "      <td>{'neg': 0.049, 'neu': 0.811, 'pos': 0.14, 'com...</td>\n",
       "    </tr>\n",
       "    <tr>\n",
       "      <th>75</th>\n",
       "      <td>The material wasn't really what I expected. Ma...</td>\n",
       "      <td>{'neg': 0.0, 'neu': 0.916, 'pos': 0.084, 'comp...</td>\n",
       "    </tr>\n",
       "    <tr>\n",
       "      <th>76</th>\n",
       "      <td>Everything about this course was organized poo...</td>\n",
       "      <td>{'neg': 0.055, 'neu': 0.785, 'pos': 0.16, 'com...</td>\n",
       "    </tr>\n",
       "    <tr>\n",
       "      <th>77</th>\n",
       "      <td>I love logic but this class was not it. We onl...</td>\n",
       "      <td>{'neg': 0.218, 'neu': 0.66, 'pos': 0.122, 'com...</td>\n",
       "    </tr>\n",
       "  </tbody>\n",
       "</table>\n",
       "<p>77 rows × 2 columns</p>\n",
       "</div>"
      ],
      "text/plain": [
       "                                           Evaluation  \\\n",
       "1   Make sure to review the lecture slides, becaus...   \n",
       "2   Easy 5th. More of a linguistics or philosophy ...   \n",
       "3   Took it freshman spring as a fifth with my bse...   \n",
       "4   Class is well taught and made me feel like I w...   \n",
       "5   I'd recommend to choose whether you'll self-st...   \n",
       "..                                                ...   \n",
       "73  I would say to make sure to keep up with the r...   \n",
       "74  If you take it with Prof. Stojinic, she will j...   \n",
       "75  The material wasn't really what I expected. Ma...   \n",
       "76  Everything about this course was organized poo...   \n",
       "77  I love logic but this class was not it. We onl...   \n",
       "\n",
       "                                            Sentiment  \n",
       "1   {'neg': 0.0, 'neu': 0.782, 'pos': 0.218, 'comp...  \n",
       "2   {'neg': 0.0, 'neu': 0.736, 'pos': 0.264, 'comp...  \n",
       "3   {'neg': 0.086, 'neu': 0.884, 'pos': 0.03, 'com...  \n",
       "4   {'neg': 0.0, 'neu': 0.859, 'pos': 0.141, 'comp...  \n",
       "5   {'neg': 0.0, 'neu': 0.887, 'pos': 0.113, 'comp...  \n",
       "..                                                ...  \n",
       "73  {'neg': 0.0, 'neu': 0.812, 'pos': 0.188, 'comp...  \n",
       "74  {'neg': 0.049, 'neu': 0.811, 'pos': 0.14, 'com...  \n",
       "75  {'neg': 0.0, 'neu': 0.916, 'pos': 0.084, 'comp...  \n",
       "76  {'neg': 0.055, 'neu': 0.785, 'pos': 0.16, 'com...  \n",
       "77  {'neg': 0.218, 'neu': 0.66, 'pos': 0.122, 'com...  \n",
       "\n",
       "[77 rows x 2 columns]"
      ]
     },
     "metadata": {},
     "output_type": "display_data"
    }
   ],
   "source": [
    "analyzeEvaluation(PHI201Female)\n",
    "display(PHI201Female)"
   ]
  }
 ],
 "metadata": {
  "kernelspec": {
   "display_name": "Python 3.10.2 64-bit",
   "language": "python",
   "name": "python3"
  },
  "language_info": {
   "codemirror_mode": {
    "name": "ipython",
    "version": 3
   },
   "file_extension": ".py",
   "mimetype": "text/x-python",
   "name": "python",
   "nbconvert_exporter": "python",
   "pygments_lexer": "ipython3",
   "version": "3.10.2"
  },
  "orig_nbformat": 4,
  "vscode": {
   "interpreter": {
    "hash": "583e4b8ff046354e16b8ba52d63b3197ad59f7b89b127f0309f590a02ba174d0"
   }
  }
 },
 "nbformat": 4,
 "nbformat_minor": 2
}
