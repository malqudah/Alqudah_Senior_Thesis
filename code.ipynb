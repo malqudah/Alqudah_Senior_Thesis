{
 "cells": [
  {
   "cell_type": "code",
   "execution_count": 11,
   "metadata": {},
   "outputs": [],
   "source": [
    "import csv\n",
    "import pandas as pd"
   ]
  },
  {
   "cell_type": "code",
   "execution_count": 21,
   "metadata": {},
   "outputs": [],
   "source": [
    "def filter_data(df):\n",
    "    df = df.iloc[1: , :]\n",
    "    second_column = df.columns[1]\n",
    "    third_column = df.columns[2]\n",
    "    df = df.drop([second_column], axis=1)\n",
    "    df = df.drop([third_column], axis=1)\n",
    "    return df"
   ]
  },
  {
   "cell_type": "markdown",
   "metadata": {},
   "source": [
    "Social Sciences"
   ]
  },
  {
   "cell_type": "code",
   "execution_count": 33,
   "metadata": {},
   "outputs": [],
   "source": [
    "# ANT\n",
    "ANT300Female = pd.read_csv('./Social Sciences/ANT/ANT300 FEMALE.csv')\n",
    "ANT300Female = filter_data(ANT300Female)\n",
    "ANT300Female = ANT300Female.rename({'Please Note': 'Evaluation'}, axis=1)\n",
    "ANT300Male = pd.read_csv('./Social Sciences/ANT/ANT300 MALE.csv')\n",
    "ANT300Male = filter_data(ANT300Male)\n",
    "ANT300Male = ANT300Male.rename({'Please Note': 'Evaluation'}, axis=1)"
   ]
  },
  {
   "cell_type": "code",
   "execution_count": 34,
   "metadata": {},
   "outputs": [],
   "source": [
    "# ECO\n",
    "ECO100Female = pd.read_csv('./Social Sciences/ECO/ECO100 FEMALE.csv')\n",
    "ECO100Female = filter_data(ECO100Female)\n",
    "ECO100Female = ECO100Female.rename({'Please Note': 'Evaluation'}, axis=1)\n",
    "ECO100Male = pd.read_csv('./Social Sciences/ECO/ECO100 MALE.csv')\n",
    "ECO100Male = filter_data(ECO100Male)\n",
    "ECO100Male = ECO100Male.rename({'Please Note': 'Evaluation'}, axis=1)\n",
    "\n",
    "ECO101Female = pd.read_csv('./Social Sciences/ECO/ECO101 FEMALE.csv')\n",
    "ECO101Female = filter_data(ECO101Female)\n",
    "ECO101Female = ECO101Female.rename({'Please Note': 'Evaluation'}, axis=1)\n",
    "ECO101Male = pd.read_csv('./Social Sciences/ECO/ECO101 MALE.csv')\n",
    "ECO101Male = filter_data(ECO101Male)\n",
    "ECO101Male = ECO101Male.rename({'Please Note': 'Evaluation'}, axis=1)\n",
    "\n",
    "ECO300Female = pd.read_csv('./Social Sciences/ECO/ECO300 FEMALE.csv')\n",
    "ECO300Female = filter_data(ECO300Female)\n",
    "ECO300Female = ECO300Female.rename({'Please Note': 'Evaluation'}, axis=1)\n",
    "ECO300Male = pd.read_csv('./Social Sciences/ECO/ECO300 MALE.csv')\n",
    "ECO300Male = filter_data(ECO300Male)\n",
    "ECO300Male = ECO300Male.rename({'Please Note': 'Evaluation'}, axis=1)\n",
    "\n",
    "ECO301Female = pd.read_csv('./Social Sciences/ECO/ECO301 FEMALE.csv')\n",
    "ECO301Female = filter_data(ECO301Female)\n",
    "ECO301Female = ECO301Female.rename({'Please Note': 'Evaluation'}, axis=1)\n",
    "ECO301Male = pd.read_csv('./Social Sciences/ECO/ECO301 MALE.csv')\n",
    "ECO301Male = filter_data(ECO301Male)\n",
    "ECO301Male = ECO301Male.rename({'Please Note': 'Evaluation'}, axis=1)\n",
    "\n",
    "ECO310Female = pd.read_csv('./Social Sciences/ECO/ECO310 FEMALE.csv')\n",
    "ECO310Female = filter_data(ECO310Female)\n",
    "ECO310Female = ECO310Female.rename({'Please Note': 'Evaluation'}, axis=1)\n",
    "ECO310Male = pd.read_csv('./Social Sciences/ECO/ECO310 MALE.csv')\n",
    "ECO310Male = filter_data(ECO310Male)\n",
    "ECO310Male = ECO310Male.rename({'Please Note': 'Evaluation'}, axis=1)"
   ]
  },
  {
   "cell_type": "code",
   "execution_count": null,
   "metadata": {},
   "outputs": [],
   "source": [
    "# POL\n",
    "POL210Female = pd.read_csv('./Social Sciences/POL/POL210 FEMALE.csv')\n",
    "POL210Female = filter_data(POL210Female)\n",
    "POL210Female = POL210Female.rename({'Please Note': 'Evaluation'}, axis=1)\n",
    "POL210Male = pd.read_csv('./Social Sciences/POL/POL210 MALE.csv')\n",
    "POL210Male = filter_data(POL210Male)\n",
    "POL210Male = POL210Male.rename({'Please Note': 'Evaluation'}, axis=1)\n",
    "\n",
    "POL220Female = pd.read_csv('./Social Sciences/POL/POL220 FEMALE.csv')\n",
    "POL220Female = filter_data(POL220Female)\n",
    "POL220Female = POL220Female.rename({'Please Note': 'Evaluation'}, axis=1)\n",
    "POL220Male = pd.read_csv('./Social Sciences/POL/POL220 MALE.csv')\n",
    "POL220Male = filter_data(POL220Male)\n",
    "POL220Male = POL220Male.rename({'Please Note': 'Evaluation'}, axis=1)"
   ]
  },
  {
   "cell_type": "code",
   "execution_count": null,
   "metadata": {},
   "outputs": [],
   "source": [
    "# SOC\n",
    "SOC302Female = pd.read_csv('./Social Sciences/SOC/SOC302 FEMALE.csv')\n",
    "SOC302Female = filter_data(SOC302Female)\n",
    "SOC302Female = SOC302Female.rename({'Please Note': 'Evaluation'}, axis=1)\n",
    "SOC302Male = pd.read_csv('./Social Sciences/SOC/SOC302 MALE.csv')\n",
    "SOC302Male = filter_data(SOC302Male)\n",
    "SOC302Male = SOC302Male.rename({'Please Note': 'Evaluation'}, axis=1)"
   ]
  },
  {
   "cell_type": "code",
   "execution_count": 35,
   "metadata": {},
   "outputs": [
    {
     "ename": "FileNotFoundError",
     "evalue": "[Errno 2] No such file or directory: './Social Sciences/SPI/SPI211 FEMALE.csv'",
     "output_type": "error",
     "traceback": [
      "\u001b[1;31m---------------------------------------------------------------------------\u001b[0m",
      "\u001b[1;31mFileNotFoundError\u001b[0m                         Traceback (most recent call last)",
      "\u001b[1;32mc:\\Users\\malqu\\Documents\\GitHub\\Alqudah_Senior_Thesis\\code.ipynb Cell 8'\u001b[0m in \u001b[0;36m<cell line: 2>\u001b[1;34m()\u001b[0m\n\u001b[0;32m      <a href='vscode-notebook-cell:/c%3A/Users/malqu/Documents/GitHub/Alqudah_Senior_Thesis/code.ipynb#ch0000010?line=0'>1</a>\u001b[0m \u001b[39m# SPI\u001b[39;00m\n\u001b[1;32m----> <a href='vscode-notebook-cell:/c%3A/Users/malqu/Documents/GitHub/Alqudah_Senior_Thesis/code.ipynb#ch0000010?line=1'>2</a>\u001b[0m SPI211Female \u001b[39m=\u001b[39m pd\u001b[39m.\u001b[39;49mread_csv(\u001b[39m'\u001b[39;49m\u001b[39m./Social Sciences/SPI/SPI211 FEMALE.csv\u001b[39;49m\u001b[39m'\u001b[39;49m)\n\u001b[0;32m      <a href='vscode-notebook-cell:/c%3A/Users/malqu/Documents/GitHub/Alqudah_Senior_Thesis/code.ipynb#ch0000010?line=2'>3</a>\u001b[0m SPI211Female \u001b[39m=\u001b[39m filter_data(SPI211Female)\n\u001b[0;32m      <a href='vscode-notebook-cell:/c%3A/Users/malqu/Documents/GitHub/Alqudah_Senior_Thesis/code.ipynb#ch0000010?line=3'>4</a>\u001b[0m SPI211Female \u001b[39m=\u001b[39m SPI211Female\u001b[39m.\u001b[39mrename({\u001b[39m'\u001b[39m\u001b[39mPlease Note\u001b[39m\u001b[39m'\u001b[39m: \u001b[39m'\u001b[39m\u001b[39mEvaluation\u001b[39m\u001b[39m'\u001b[39m}, axis\u001b[39m=\u001b[39m\u001b[39m1\u001b[39m)\n",
      "File \u001b[1;32m~\\AppData\\Local\\Programs\\Python\\Python310\\lib\\site-packages\\pandas\\util\\_decorators.py:311\u001b[0m, in \u001b[0;36mdeprecate_nonkeyword_arguments.<locals>.decorate.<locals>.wrapper\u001b[1;34m(*args, **kwargs)\u001b[0m\n\u001b[0;32m    <a href='file:///c%3A/Users/malqu/AppData/Local/Programs/Python/Python310/lib/site-packages/pandas/util/_decorators.py?line=304'>305</a>\u001b[0m \u001b[39mif\u001b[39;00m \u001b[39mlen\u001b[39m(args) \u001b[39m>\u001b[39m num_allow_args:\n\u001b[0;32m    <a href='file:///c%3A/Users/malqu/AppData/Local/Programs/Python/Python310/lib/site-packages/pandas/util/_decorators.py?line=305'>306</a>\u001b[0m     warnings\u001b[39m.\u001b[39mwarn(\n\u001b[0;32m    <a href='file:///c%3A/Users/malqu/AppData/Local/Programs/Python/Python310/lib/site-packages/pandas/util/_decorators.py?line=306'>307</a>\u001b[0m         msg\u001b[39m.\u001b[39mformat(arguments\u001b[39m=\u001b[39marguments),\n\u001b[0;32m    <a href='file:///c%3A/Users/malqu/AppData/Local/Programs/Python/Python310/lib/site-packages/pandas/util/_decorators.py?line=307'>308</a>\u001b[0m         \u001b[39mFutureWarning\u001b[39;00m,\n\u001b[0;32m    <a href='file:///c%3A/Users/malqu/AppData/Local/Programs/Python/Python310/lib/site-packages/pandas/util/_decorators.py?line=308'>309</a>\u001b[0m         stacklevel\u001b[39m=\u001b[39mstacklevel,\n\u001b[0;32m    <a href='file:///c%3A/Users/malqu/AppData/Local/Programs/Python/Python310/lib/site-packages/pandas/util/_decorators.py?line=309'>310</a>\u001b[0m     )\n\u001b[1;32m--> <a href='file:///c%3A/Users/malqu/AppData/Local/Programs/Python/Python310/lib/site-packages/pandas/util/_decorators.py?line=310'>311</a>\u001b[0m \u001b[39mreturn\u001b[39;00m func(\u001b[39m*\u001b[39margs, \u001b[39m*\u001b[39m\u001b[39m*\u001b[39mkwargs)\n",
      "File \u001b[1;32m~\\AppData\\Local\\Programs\\Python\\Python310\\lib\\site-packages\\pandas\\io\\parsers\\readers.py:680\u001b[0m, in \u001b[0;36mread_csv\u001b[1;34m(filepath_or_buffer, sep, delimiter, header, names, index_col, usecols, squeeze, prefix, mangle_dupe_cols, dtype, engine, converters, true_values, false_values, skipinitialspace, skiprows, skipfooter, nrows, na_values, keep_default_na, na_filter, verbose, skip_blank_lines, parse_dates, infer_datetime_format, keep_date_col, date_parser, dayfirst, cache_dates, iterator, chunksize, compression, thousands, decimal, lineterminator, quotechar, quoting, doublequote, escapechar, comment, encoding, encoding_errors, dialect, error_bad_lines, warn_bad_lines, on_bad_lines, delim_whitespace, low_memory, memory_map, float_precision, storage_options)\u001b[0m\n\u001b[0;32m    <a href='file:///c%3A/Users/malqu/AppData/Local/Programs/Python/Python310/lib/site-packages/pandas/io/parsers/readers.py?line=664'>665</a>\u001b[0m kwds_defaults \u001b[39m=\u001b[39m _refine_defaults_read(\n\u001b[0;32m    <a href='file:///c%3A/Users/malqu/AppData/Local/Programs/Python/Python310/lib/site-packages/pandas/io/parsers/readers.py?line=665'>666</a>\u001b[0m     dialect,\n\u001b[0;32m    <a href='file:///c%3A/Users/malqu/AppData/Local/Programs/Python/Python310/lib/site-packages/pandas/io/parsers/readers.py?line=666'>667</a>\u001b[0m     delimiter,\n\u001b[1;32m   (...)\u001b[0m\n\u001b[0;32m    <a href='file:///c%3A/Users/malqu/AppData/Local/Programs/Python/Python310/lib/site-packages/pandas/io/parsers/readers.py?line=675'>676</a>\u001b[0m     defaults\u001b[39m=\u001b[39m{\u001b[39m\"\u001b[39m\u001b[39mdelimiter\u001b[39m\u001b[39m\"\u001b[39m: \u001b[39m\"\u001b[39m\u001b[39m,\u001b[39m\u001b[39m\"\u001b[39m},\n\u001b[0;32m    <a href='file:///c%3A/Users/malqu/AppData/Local/Programs/Python/Python310/lib/site-packages/pandas/io/parsers/readers.py?line=676'>677</a>\u001b[0m )\n\u001b[0;32m    <a href='file:///c%3A/Users/malqu/AppData/Local/Programs/Python/Python310/lib/site-packages/pandas/io/parsers/readers.py?line=677'>678</a>\u001b[0m kwds\u001b[39m.\u001b[39mupdate(kwds_defaults)\n\u001b[1;32m--> <a href='file:///c%3A/Users/malqu/AppData/Local/Programs/Python/Python310/lib/site-packages/pandas/io/parsers/readers.py?line=679'>680</a>\u001b[0m \u001b[39mreturn\u001b[39;00m _read(filepath_or_buffer, kwds)\n",
      "File \u001b[1;32m~\\AppData\\Local\\Programs\\Python\\Python310\\lib\\site-packages\\pandas\\io\\parsers\\readers.py:575\u001b[0m, in \u001b[0;36m_read\u001b[1;34m(filepath_or_buffer, kwds)\u001b[0m\n\u001b[0;32m    <a href='file:///c%3A/Users/malqu/AppData/Local/Programs/Python/Python310/lib/site-packages/pandas/io/parsers/readers.py?line=571'>572</a>\u001b[0m _validate_names(kwds\u001b[39m.\u001b[39mget(\u001b[39m\"\u001b[39m\u001b[39mnames\u001b[39m\u001b[39m\"\u001b[39m, \u001b[39mNone\u001b[39;00m))\n\u001b[0;32m    <a href='file:///c%3A/Users/malqu/AppData/Local/Programs/Python/Python310/lib/site-packages/pandas/io/parsers/readers.py?line=573'>574</a>\u001b[0m \u001b[39m# Create the parser.\u001b[39;00m\n\u001b[1;32m--> <a href='file:///c%3A/Users/malqu/AppData/Local/Programs/Python/Python310/lib/site-packages/pandas/io/parsers/readers.py?line=574'>575</a>\u001b[0m parser \u001b[39m=\u001b[39m TextFileReader(filepath_or_buffer, \u001b[39m*\u001b[39m\u001b[39m*\u001b[39mkwds)\n\u001b[0;32m    <a href='file:///c%3A/Users/malqu/AppData/Local/Programs/Python/Python310/lib/site-packages/pandas/io/parsers/readers.py?line=576'>577</a>\u001b[0m \u001b[39mif\u001b[39;00m chunksize \u001b[39mor\u001b[39;00m iterator:\n\u001b[0;32m    <a href='file:///c%3A/Users/malqu/AppData/Local/Programs/Python/Python310/lib/site-packages/pandas/io/parsers/readers.py?line=577'>578</a>\u001b[0m     \u001b[39mreturn\u001b[39;00m parser\n",
      "File \u001b[1;32m~\\AppData\\Local\\Programs\\Python\\Python310\\lib\\site-packages\\pandas\\io\\parsers\\readers.py:933\u001b[0m, in \u001b[0;36mTextFileReader.__init__\u001b[1;34m(self, f, engine, **kwds)\u001b[0m\n\u001b[0;32m    <a href='file:///c%3A/Users/malqu/AppData/Local/Programs/Python/Python310/lib/site-packages/pandas/io/parsers/readers.py?line=929'>930</a>\u001b[0m     \u001b[39mself\u001b[39m\u001b[39m.\u001b[39moptions[\u001b[39m\"\u001b[39m\u001b[39mhas_index_names\u001b[39m\u001b[39m\"\u001b[39m] \u001b[39m=\u001b[39m kwds[\u001b[39m\"\u001b[39m\u001b[39mhas_index_names\u001b[39m\u001b[39m\"\u001b[39m]\n\u001b[0;32m    <a href='file:///c%3A/Users/malqu/AppData/Local/Programs/Python/Python310/lib/site-packages/pandas/io/parsers/readers.py?line=931'>932</a>\u001b[0m \u001b[39mself\u001b[39m\u001b[39m.\u001b[39mhandles: IOHandles \u001b[39m|\u001b[39m \u001b[39mNone\u001b[39;00m \u001b[39m=\u001b[39m \u001b[39mNone\u001b[39;00m\n\u001b[1;32m--> <a href='file:///c%3A/Users/malqu/AppData/Local/Programs/Python/Python310/lib/site-packages/pandas/io/parsers/readers.py?line=932'>933</a>\u001b[0m \u001b[39mself\u001b[39m\u001b[39m.\u001b[39m_engine \u001b[39m=\u001b[39m \u001b[39mself\u001b[39;49m\u001b[39m.\u001b[39;49m_make_engine(f, \u001b[39mself\u001b[39;49m\u001b[39m.\u001b[39;49mengine)\n",
      "File \u001b[1;32m~\\AppData\\Local\\Programs\\Python\\Python310\\lib\\site-packages\\pandas\\io\\parsers\\readers.py:1217\u001b[0m, in \u001b[0;36mTextFileReader._make_engine\u001b[1;34m(self, f, engine)\u001b[0m\n\u001b[0;32m   <a href='file:///c%3A/Users/malqu/AppData/Local/Programs/Python/Python310/lib/site-packages/pandas/io/parsers/readers.py?line=1212'>1213</a>\u001b[0m     mode \u001b[39m=\u001b[39m \u001b[39m\"\u001b[39m\u001b[39mrb\u001b[39m\u001b[39m\"\u001b[39m\n\u001b[0;32m   <a href='file:///c%3A/Users/malqu/AppData/Local/Programs/Python/Python310/lib/site-packages/pandas/io/parsers/readers.py?line=1213'>1214</a>\u001b[0m \u001b[39m# error: No overload variant of \"get_handle\" matches argument types\u001b[39;00m\n\u001b[0;32m   <a href='file:///c%3A/Users/malqu/AppData/Local/Programs/Python/Python310/lib/site-packages/pandas/io/parsers/readers.py?line=1214'>1215</a>\u001b[0m \u001b[39m# \"Union[str, PathLike[str], ReadCsvBuffer[bytes], ReadCsvBuffer[str]]\"\u001b[39;00m\n\u001b[0;32m   <a href='file:///c%3A/Users/malqu/AppData/Local/Programs/Python/Python310/lib/site-packages/pandas/io/parsers/readers.py?line=1215'>1216</a>\u001b[0m \u001b[39m# , \"str\", \"bool\", \"Any\", \"Any\", \"Any\", \"Any\", \"Any\"\u001b[39;00m\n\u001b[1;32m-> <a href='file:///c%3A/Users/malqu/AppData/Local/Programs/Python/Python310/lib/site-packages/pandas/io/parsers/readers.py?line=1216'>1217</a>\u001b[0m \u001b[39mself\u001b[39m\u001b[39m.\u001b[39mhandles \u001b[39m=\u001b[39m get_handle(  \u001b[39m# type: ignore[call-overload]\u001b[39;49;00m\n\u001b[0;32m   <a href='file:///c%3A/Users/malqu/AppData/Local/Programs/Python/Python310/lib/site-packages/pandas/io/parsers/readers.py?line=1217'>1218</a>\u001b[0m     f,\n\u001b[0;32m   <a href='file:///c%3A/Users/malqu/AppData/Local/Programs/Python/Python310/lib/site-packages/pandas/io/parsers/readers.py?line=1218'>1219</a>\u001b[0m     mode,\n\u001b[0;32m   <a href='file:///c%3A/Users/malqu/AppData/Local/Programs/Python/Python310/lib/site-packages/pandas/io/parsers/readers.py?line=1219'>1220</a>\u001b[0m     encoding\u001b[39m=\u001b[39;49m\u001b[39mself\u001b[39;49m\u001b[39m.\u001b[39;49moptions\u001b[39m.\u001b[39;49mget(\u001b[39m\"\u001b[39;49m\u001b[39mencoding\u001b[39;49m\u001b[39m\"\u001b[39;49m, \u001b[39mNone\u001b[39;49;00m),\n\u001b[0;32m   <a href='file:///c%3A/Users/malqu/AppData/Local/Programs/Python/Python310/lib/site-packages/pandas/io/parsers/readers.py?line=1220'>1221</a>\u001b[0m     compression\u001b[39m=\u001b[39;49m\u001b[39mself\u001b[39;49m\u001b[39m.\u001b[39;49moptions\u001b[39m.\u001b[39;49mget(\u001b[39m\"\u001b[39;49m\u001b[39mcompression\u001b[39;49m\u001b[39m\"\u001b[39;49m, \u001b[39mNone\u001b[39;49;00m),\n\u001b[0;32m   <a href='file:///c%3A/Users/malqu/AppData/Local/Programs/Python/Python310/lib/site-packages/pandas/io/parsers/readers.py?line=1221'>1222</a>\u001b[0m     memory_map\u001b[39m=\u001b[39;49m\u001b[39mself\u001b[39;49m\u001b[39m.\u001b[39;49moptions\u001b[39m.\u001b[39;49mget(\u001b[39m\"\u001b[39;49m\u001b[39mmemory_map\u001b[39;49m\u001b[39m\"\u001b[39;49m, \u001b[39mFalse\u001b[39;49;00m),\n\u001b[0;32m   <a href='file:///c%3A/Users/malqu/AppData/Local/Programs/Python/Python310/lib/site-packages/pandas/io/parsers/readers.py?line=1222'>1223</a>\u001b[0m     is_text\u001b[39m=\u001b[39;49mis_text,\n\u001b[0;32m   <a href='file:///c%3A/Users/malqu/AppData/Local/Programs/Python/Python310/lib/site-packages/pandas/io/parsers/readers.py?line=1223'>1224</a>\u001b[0m     errors\u001b[39m=\u001b[39;49m\u001b[39mself\u001b[39;49m\u001b[39m.\u001b[39;49moptions\u001b[39m.\u001b[39;49mget(\u001b[39m\"\u001b[39;49m\u001b[39mencoding_errors\u001b[39;49m\u001b[39m\"\u001b[39;49m, \u001b[39m\"\u001b[39;49m\u001b[39mstrict\u001b[39;49m\u001b[39m\"\u001b[39;49m),\n\u001b[0;32m   <a href='file:///c%3A/Users/malqu/AppData/Local/Programs/Python/Python310/lib/site-packages/pandas/io/parsers/readers.py?line=1224'>1225</a>\u001b[0m     storage_options\u001b[39m=\u001b[39;49m\u001b[39mself\u001b[39;49m\u001b[39m.\u001b[39;49moptions\u001b[39m.\u001b[39;49mget(\u001b[39m\"\u001b[39;49m\u001b[39mstorage_options\u001b[39;49m\u001b[39m\"\u001b[39;49m, \u001b[39mNone\u001b[39;49;00m),\n\u001b[0;32m   <a href='file:///c%3A/Users/malqu/AppData/Local/Programs/Python/Python310/lib/site-packages/pandas/io/parsers/readers.py?line=1225'>1226</a>\u001b[0m )\n\u001b[0;32m   <a href='file:///c%3A/Users/malqu/AppData/Local/Programs/Python/Python310/lib/site-packages/pandas/io/parsers/readers.py?line=1226'>1227</a>\u001b[0m \u001b[39massert\u001b[39;00m \u001b[39mself\u001b[39m\u001b[39m.\u001b[39mhandles \u001b[39mis\u001b[39;00m \u001b[39mnot\u001b[39;00m \u001b[39mNone\u001b[39;00m\n\u001b[0;32m   <a href='file:///c%3A/Users/malqu/AppData/Local/Programs/Python/Python310/lib/site-packages/pandas/io/parsers/readers.py?line=1227'>1228</a>\u001b[0m f \u001b[39m=\u001b[39m \u001b[39mself\u001b[39m\u001b[39m.\u001b[39mhandles\u001b[39m.\u001b[39mhandle\n",
      "File \u001b[1;32m~\\AppData\\Local\\Programs\\Python\\Python310\\lib\\site-packages\\pandas\\io\\common.py:789\u001b[0m, in \u001b[0;36mget_handle\u001b[1;34m(path_or_buf, mode, encoding, compression, memory_map, is_text, errors, storage_options)\u001b[0m\n\u001b[0;32m    <a href='file:///c%3A/Users/malqu/AppData/Local/Programs/Python/Python310/lib/site-packages/pandas/io/common.py?line=783'>784</a>\u001b[0m \u001b[39melif\u001b[39;00m \u001b[39misinstance\u001b[39m(handle, \u001b[39mstr\u001b[39m):\n\u001b[0;32m    <a href='file:///c%3A/Users/malqu/AppData/Local/Programs/Python/Python310/lib/site-packages/pandas/io/common.py?line=784'>785</a>\u001b[0m     \u001b[39m# Check whether the filename is to be opened in binary mode.\u001b[39;00m\n\u001b[0;32m    <a href='file:///c%3A/Users/malqu/AppData/Local/Programs/Python/Python310/lib/site-packages/pandas/io/common.py?line=785'>786</a>\u001b[0m     \u001b[39m# Binary mode does not support 'encoding' and 'newline'.\u001b[39;00m\n\u001b[0;32m    <a href='file:///c%3A/Users/malqu/AppData/Local/Programs/Python/Python310/lib/site-packages/pandas/io/common.py?line=786'>787</a>\u001b[0m     \u001b[39mif\u001b[39;00m ioargs\u001b[39m.\u001b[39mencoding \u001b[39mand\u001b[39;00m \u001b[39m\"\u001b[39m\u001b[39mb\u001b[39m\u001b[39m\"\u001b[39m \u001b[39mnot\u001b[39;00m \u001b[39min\u001b[39;00m ioargs\u001b[39m.\u001b[39mmode:\n\u001b[0;32m    <a href='file:///c%3A/Users/malqu/AppData/Local/Programs/Python/Python310/lib/site-packages/pandas/io/common.py?line=787'>788</a>\u001b[0m         \u001b[39m# Encoding\u001b[39;00m\n\u001b[1;32m--> <a href='file:///c%3A/Users/malqu/AppData/Local/Programs/Python/Python310/lib/site-packages/pandas/io/common.py?line=788'>789</a>\u001b[0m         handle \u001b[39m=\u001b[39m \u001b[39mopen\u001b[39;49m(\n\u001b[0;32m    <a href='file:///c%3A/Users/malqu/AppData/Local/Programs/Python/Python310/lib/site-packages/pandas/io/common.py?line=789'>790</a>\u001b[0m             handle,\n\u001b[0;32m    <a href='file:///c%3A/Users/malqu/AppData/Local/Programs/Python/Python310/lib/site-packages/pandas/io/common.py?line=790'>791</a>\u001b[0m             ioargs\u001b[39m.\u001b[39;49mmode,\n\u001b[0;32m    <a href='file:///c%3A/Users/malqu/AppData/Local/Programs/Python/Python310/lib/site-packages/pandas/io/common.py?line=791'>792</a>\u001b[0m             encoding\u001b[39m=\u001b[39;49mioargs\u001b[39m.\u001b[39;49mencoding,\n\u001b[0;32m    <a href='file:///c%3A/Users/malqu/AppData/Local/Programs/Python/Python310/lib/site-packages/pandas/io/common.py?line=792'>793</a>\u001b[0m             errors\u001b[39m=\u001b[39;49merrors,\n\u001b[0;32m    <a href='file:///c%3A/Users/malqu/AppData/Local/Programs/Python/Python310/lib/site-packages/pandas/io/common.py?line=793'>794</a>\u001b[0m             newline\u001b[39m=\u001b[39;49m\u001b[39m\"\u001b[39;49m\u001b[39m\"\u001b[39;49m,\n\u001b[0;32m    <a href='file:///c%3A/Users/malqu/AppData/Local/Programs/Python/Python310/lib/site-packages/pandas/io/common.py?line=794'>795</a>\u001b[0m         )\n\u001b[0;32m    <a href='file:///c%3A/Users/malqu/AppData/Local/Programs/Python/Python310/lib/site-packages/pandas/io/common.py?line=795'>796</a>\u001b[0m     \u001b[39melse\u001b[39;00m:\n\u001b[0;32m    <a href='file:///c%3A/Users/malqu/AppData/Local/Programs/Python/Python310/lib/site-packages/pandas/io/common.py?line=796'>797</a>\u001b[0m         \u001b[39m# Binary mode\u001b[39;00m\n\u001b[0;32m    <a href='file:///c%3A/Users/malqu/AppData/Local/Programs/Python/Python310/lib/site-packages/pandas/io/common.py?line=797'>798</a>\u001b[0m         handle \u001b[39m=\u001b[39m \u001b[39mopen\u001b[39m(handle, ioargs\u001b[39m.\u001b[39mmode)\n",
      "\u001b[1;31mFileNotFoundError\u001b[0m: [Errno 2] No such file or directory: './Social Sciences/SPI/SPI211 FEMALE.csv'"
     ]
    }
   ],
   "source": [
    "# SPI\n",
    "SPI211Female = pd.read_csv('./Social Sciences/SPI/SPI211 FEMALE.csv')\n",
    "SPI211Female = filter_data(SPI211Female)\n",
    "SPI211Female = SPI211Female.rename({'Please Note': 'Evaluation'}, axis=1)\n",
    "SPI211Male = pd.read_csv('./Social Sciences/SPI/SPI211 MALE.csv')\n",
    "SPI211Male = filter_data(SPI211Male)\n",
    "SPI211Male = SPI211Male.rename({'Please Note': 'Evaluation'}, axis=1)\n",
    "\n",
    "SPI310Female = pd.read_csv('./Social Sciences/SPI/SPI310 FEMALE.csv')\n",
    "SPI310Female = filter_data(SPI310Female)\n",
    "SPI310Female = SPI310Female.rename({'Please Note': 'Evaluation'}, axis=1)\n",
    "SPI310Male = pd.read_csv('./Social Sciences/SPI/SPI310 MALE.csv')\n",
    "SPI310Male = filter_data(SPI310Male)\n",
    "SPI310Male = SPI310Male.rename({'Please Note': 'Evaluation'}, axis=1)\n",
    "\n",
    "SPI312Female = pd.read_csv('./Social Sciences/SPI/SPI312 FEMALE.csv')\n",
    "SPI312Female = filter_data(SPI312Female)\n",
    "SPI312Female = SPI312Female.rename({'Please Note': 'Evaluation'}, axis=1)\n",
    "SPI312Male = pd.read_csv('./Social Sciences/SPI/SPI312 MALE.csv')\n",
    "SPI312Male = filter_data(SPI312Male)\n",
    "SPI312Male = SPI312Male.rename({'Please Note': 'Evaluation'}, axis=1)\n",
    "\n",
    "SPI316Female = pd.read_csv('./Social Sciences/SPI/SPI316 FEMALE.csv')\n",
    "SPI316Female = filter_data(SPI316Female)\n",
    "SPI316Female = SPI316Female.rename({'Please Note': 'Evaluation'}, axis=1)\n",
    "SPI316Male = pd.read_csv('./Social Sciences/SPI/SPI316 MALE.csv')\n",
    "SPI316Male = filter_data(SPI316Male)\n",
    "SPI316Male = SPI316Male.rename({'Please Note': 'Evaluation'}, axis=1)\n",
    "\n",
    "SPI370Female = pd.read_csv('./Social Sciences/SPI/SPI370 FEMALE.csv')\n",
    "SPI370Female = filter_data(SPI370Female)\n",
    "SPI370Female = SPI370Female.rename({'Please Note': 'Evaluation'}, axis=1)\n",
    "SPI370Male = pd.read_csv('./Social Sciences/SPI/SPI370 MALE.csv')\n",
    "SPI370Male = filter_data(SPI370Male)\n",
    "SPI370Male = SPI370Male.rename({'Please Note': 'Evaluation'}, axis=1)\n"
   ]
  },
  {
   "cell_type": "code",
   "execution_count": 31,
   "metadata": {},
   "outputs": [],
   "source": [
    "df217 = pd.read_csv('./Engineering/COS/COS217 ALL.csv')\n",
    "df217 = filter_data(df217)\n",
    "df217 = df217.rename({'Please Note': 'Evaluation'}, axis=1)"
   ]
  },
  {
   "cell_type": "code",
   "execution_count": null,
   "metadata": {},
   "outputs": [],
   "source": []
  }
 ],
 "metadata": {
  "interpreter": {
   "hash": "5e58bded8b861db228de834c0a8e427033f98ff8854eeaa03613244e67778765"
  },
  "kernelspec": {
   "display_name": "Python 3.10.2 64-bit",
   "language": "python",
   "name": "python3"
  },
  "language_info": {
   "codemirror_mode": {
    "name": "ipython",
    "version": 3
   },
   "file_extension": ".py",
   "mimetype": "text/x-python",
   "name": "python",
   "nbconvert_exporter": "python",
   "pygments_lexer": "ipython3",
   "version": "3.10.2"
  },
  "orig_nbformat": 4
 },
 "nbformat": 4,
 "nbformat_minor": 2
}
